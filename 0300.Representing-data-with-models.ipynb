{
 "cells": [
  {
   "cell_type": "markdown",
   "metadata": {},
   "source": [
    "# Representing data in a computer\n",
    "\n",
    "The core of data science and machine learning is **data**: we are interested in extracting knowledge from data.\n",
    "\n",
    "But how exactly do computers represent data? Let's find out exactly what an \"artificial intelligence\" has at its disposal to learn from."
   ]
  },
  {
   "cell_type": "markdown",
   "metadata": {},
   "source": [
    "## Data is represented as arrays\n",
    "\n",
    "Let's take a look at some fruit. Using the `Images.jl` library, we can load in some images:"
   ]
  },
  {
   "cell_type": "code",
   "execution_count": 1,
   "metadata": {},
   "outputs": [
    {
     "data": {
      "image/png": "[encoded data removed]",
      "text/plain": [
       "100×100 Array{RGB{N0f8},2} with eltype RGB{N0f8}:\n",
       " RGB{N0f8}(0.996,1.0,0.984)    …  RGB{N0f8}(1.0,1.0,1.0)\n",
       " RGB{N0f8}(0.984,1.0,0.988)       RGB{N0f8}(1.0,1.0,1.0)\n",
       " RGB{N0f8}(0.98,1.0,0.996)        RGB{N0f8}(1.0,1.0,1.0)\n",
       " RGB{N0f8}(0.969,1.0,0.992)       RGB{N0f8}(1.0,1.0,1.0)\n",
       " RGB{N0f8}(0.969,1.0,1.0)         RGB{N0f8}(1.0,1.0,1.0)\n",
       " RGB{N0f8}(0.98,1.0,1.0)       …  RGB{N0f8}(1.0,1.0,1.0)\n",
       " RGB{N0f8}(0.992,0.996,1.0)       RGB{N0f8}(1.0,1.0,1.0)\n",
       " RGB{N0f8}(1.0,0.992,1.0)         RGB{N0f8}(1.0,1.0,1.0)\n",
       " RGB{N0f8}(1.0,0.984,1.0)         RGB{N0f8}(1.0,1.0,1.0)\n",
       " RGB{N0f8}(1.0,0.984,1.0)         RGB{N0f8}(1.0,1.0,1.0)\n",
       " RGB{N0f8}(1.0,0.992,1.0)      …  RGB{N0f8}(1.0,1.0,1.0)\n",
       " RGB{N0f8}(1.0,0.996,1.0)         RGB{N0f8}(1.0,1.0,1.0)\n",
       " RGB{N0f8}(1.0,1.0,1.0)           RGB{N0f8}(1.0,1.0,1.0)\n",
       " ⋮                             ⋱  \n",
       " RGB{N0f8}(0.992,1.0,0.988)       RGB{N0f8}(1.0,1.0,1.0)\n",
       " RGB{N0f8}(0.992,1.0,0.988)       RGB{N0f8}(1.0,1.0,1.0)\n",
       " RGB{N0f8}(0.992,1.0,0.996)    …  RGB{N0f8}(1.0,1.0,1.0)\n",
       " RGB{N0f8}(0.996,1.0,1.0)         RGB{N0f8}(1.0,1.0,1.0)\n",
       " RGB{N0f8}(0.996,0.996,0.996)     RGB{N0f8}(1.0,1.0,1.0)\n",
       " RGB{N0f8}(1.0,0.992,0.996)       RGB{N0f8}(1.0,1.0,1.0)\n",
       " RGB{N0f8}(1.0,0.992,0.996)       RGB{N0f8}(1.0,1.0,1.0)\n",
       " RGB{N0f8}(1.0,0.992,0.996)    …  RGB{N0f8}(1.0,1.0,1.0)\n",
       " RGB{N0f8}(1.0,0.996,1.0)         RGB{N0f8}(1.0,1.0,1.0)\n",
       " RGB{N0f8}(1.0,1.0,1.0)           RGB{N0f8}(1.0,1.0,1.0)\n",
       " RGB{N0f8}(1.0,1.0,1.0)           RGB{N0f8}(1.0,1.0,1.0)\n",
       " RGB{N0f8}(1.0,1.0,1.0)           RGB{N0f8}(1.0,1.0,1.0)"
      ]
     },
     "execution_count": 1,
     "metadata": {},
     "output_type": "execute_result"
    }
   ],
   "source": [
    "using Images, FileIO\n",
    "\n",
    "apple = load(\"data/10_100.jpg\")"
   ]
  },
  {
   "cell_type": "code",
   "execution_count": 2,
   "metadata": {},
   "outputs": [
    {
     "data": {
      "image/png": "[encoded data removed]",
      "text/plain": [
       "100×100 Array{RGB{N0f8},2} with eltype RGB{N0f8}:\n",
       " RGB{N0f8}(1.0,1.0,1.0)  RGB{N0f8}(1.0,1.0,1.0)  …  RGB{N0f8}(1.0,1.0,1.0)\n",
       " RGB{N0f8}(1.0,1.0,1.0)  RGB{N0f8}(1.0,1.0,1.0)     RGB{N0f8}(1.0,1.0,1.0)\n",
       " RGB{N0f8}(1.0,1.0,1.0)  RGB{N0f8}(1.0,1.0,1.0)     RGB{N0f8}(1.0,1.0,1.0)\n",
       " RGB{N0f8}(1.0,1.0,1.0)  RGB{N0f8}(1.0,1.0,1.0)     RGB{N0f8}(1.0,1.0,1.0)\n",
       " RGB{N0f8}(1.0,1.0,1.0)  RGB{N0f8}(1.0,1.0,1.0)     RGB{N0f8}(1.0,1.0,1.0)\n",
       " RGB{N0f8}(1.0,1.0,1.0)  RGB{N0f8}(1.0,1.0,1.0)  …  RGB{N0f8}(1.0,1.0,1.0)\n",
       " RGB{N0f8}(1.0,1.0,1.0)  RGB{N0f8}(1.0,1.0,1.0)     RGB{N0f8}(1.0,1.0,1.0)\n",
       " RGB{N0f8}(1.0,1.0,1.0)  RGB{N0f8}(1.0,1.0,1.0)     RGB{N0f8}(1.0,1.0,1.0)\n",
       " RGB{N0f8}(1.0,1.0,1.0)  RGB{N0f8}(1.0,1.0,1.0)     RGB{N0f8}(1.0,1.0,1.0)\n",
       " RGB{N0f8}(1.0,1.0,1.0)  RGB{N0f8}(1.0,1.0,1.0)     RGB{N0f8}(1.0,1.0,1.0)\n",
       " RGB{N0f8}(1.0,1.0,1.0)  RGB{N0f8}(1.0,1.0,1.0)  …  RGB{N0f8}(1.0,1.0,1.0)\n",
       " RGB{N0f8}(1.0,1.0,1.0)  RGB{N0f8}(1.0,1.0,1.0)     RGB{N0f8}(1.0,1.0,1.0)\n",
       " RGB{N0f8}(1.0,1.0,1.0)  RGB{N0f8}(1.0,1.0,1.0)     RGB{N0f8}(1.0,1.0,1.0)\n",
       " ⋮                                               ⋱  \n",
       " RGB{N0f8}(1.0,1.0,1.0)  RGB{N0f8}(1.0,1.0,1.0)     RGB{N0f8}(1.0,1.0,1.0)\n",
       " RGB{N0f8}(1.0,1.0,1.0)  RGB{N0f8}(1.0,1.0,1.0)     RGB{N0f8}(1.0,1.0,1.0)\n",
       " RGB{N0f8}(1.0,1.0,1.0)  RGB{N0f8}(1.0,1.0,1.0)  …  RGB{N0f8}(1.0,1.0,1.0)\n",
       " RGB{N0f8}(1.0,1.0,1.0)  RGB{N0f8}(1.0,1.0,1.0)     RGB{N0f8}(1.0,1.0,1.0)\n",
       " RGB{N0f8}(1.0,1.0,1.0)  RGB{N0f8}(1.0,1.0,1.0)     RGB{N0f8}(1.0,1.0,1.0)\n",
       " RGB{N0f8}(1.0,1.0,1.0)  RGB{N0f8}(1.0,1.0,1.0)     RGB{N0f8}(1.0,1.0,1.0)\n",
       " RGB{N0f8}(1.0,1.0,1.0)  RGB{N0f8}(1.0,1.0,1.0)     RGB{N0f8}(1.0,1.0,1.0)\n",
       " RGB{N0f8}(1.0,1.0,1.0)  RGB{N0f8}(1.0,1.0,1.0)  …  RGB{N0f8}(1.0,1.0,1.0)\n",
       " RGB{N0f8}(1.0,1.0,1.0)  RGB{N0f8}(1.0,1.0,1.0)     RGB{N0f8}(1.0,1.0,1.0)\n",
       " RGB{N0f8}(1.0,1.0,1.0)  RGB{N0f8}(1.0,1.0,1.0)     RGB{N0f8}(1.0,1.0,1.0)\n",
       " RGB{N0f8}(1.0,1.0,1.0)  RGB{N0f8}(1.0,1.0,1.0)     RGB{N0f8}(1.0,1.0,1.0)\n",
       " RGB{N0f8}(1.0,1.0,1.0)  RGB{N0f8}(1.0,1.0,1.0)     RGB{N0f8}(1.0,1.0,1.0)"
      ]
     },
     "execution_count": 2,
     "metadata": {},
     "output_type": "execute_result"
    }
   ],
   "source": [
    "banana = load(\"data/104_100.jpg\")"
   ]
  },
  {
   "cell_type": "markdown",
   "metadata": {},
   "source": [
    "Here we have images of apples and bananas. We would eventually like to build a program that can automatically distinguish between the two. However, the computer doesn't \"see\" an apple or a banana; instead, it just sees numbers.\n",
    "\n",
    "An image is encoded in something called an **array**, which is like a container that has boxes or slots for individual pieces of data:\n",
    "\n",
    "An array is a bunch of numbers in connected boxes; the figure above shows a 1-dimensional array. Our images are instead 2-dimensional arrays, or matrices, of numbers, arranged something like this:"
   ]
  },
  {
   "cell_type": "markdown",
   "metadata": {},
   "source": [
    "<img src=\"https://raw.githubusercontent.com/JuliaComputing/JuliaAcademyData.jl/master/courses/Foundations%20of%20machine%20learning/data/array2d.png\" alt=\"attachment:array2d.png\" width=\"500\"/>"
   ]
  },
  {
   "cell_type": "markdown",
   "metadata": {},
   "source": [
    "For example, `apple` is an image, consisting of a 100x100 array of numbers:"
   ]
  },
  {
   "cell_type": "code",
   "execution_count": 3,
   "metadata": {},
   "outputs": [
    {
     "data": {
      "text/plain": [
       "Matrix{RGB{N0f8}} (alias for Array{RGB{Normed{UInt8, 8}}, 2})"
      ]
     },
     "execution_count": 3,
     "metadata": {},
     "output_type": "execute_result"
    }
   ],
   "source": [
    "typeof(apple)"
   ]
  },
  {
   "cell_type": "code",
   "execution_count": 4,
   "metadata": {},
   "outputs": [
    {
     "data": {
      "text/plain": [
       "(100, 100)"
      ]
     },
     "execution_count": 4,
     "metadata": {},
     "output_type": "execute_result"
    }
   ],
   "source": [
    "size(apple)"
   ]
  },
  {
   "cell_type": "code",
   "execution_count": 5,
   "metadata": {},
   "outputs": [
    {
     "data": {
      "text/plain": [
       "2×3 Matrix{Int64}:\n",
       " 1  2  3\n",
       " 4  5  6"
      ]
     },
     "execution_count": 5,
     "metadata": {},
     "output_type": "execute_result"
    }
   ],
   "source": [
    "a = [ 1 2 3;4 5 6]"
   ]
  },
  {
   "cell_type": "code",
   "execution_count": 6,
   "metadata": {},
   "outputs": [
    {
     "data": {
      "text/plain": [
       "Matrix{Int64} (alias for Array{Int64, 2})"
      ]
     },
     "execution_count": 6,
     "metadata": {},
     "output_type": "execute_result"
    }
   ],
   "source": [
    "typeof(a)"
   ]
  },
  {
   "cell_type": "code",
   "execution_count": 7,
   "metadata": {},
   "outputs": [
    {
     "data": {
      "text/plain": [
       "(2, 3)"
      ]
     },
     "execution_count": 7,
     "metadata": {},
     "output_type": "execute_result"
    }
   ],
   "source": [
    "size(a)"
   ]
  },
  {
   "cell_type": "markdown",
   "metadata": {},
   "source": [
    "We can grab the datum stored in the box at row `i` and column `j` by *indexing* using square brackets: `[i, j]`. For example, let's get the pixel (piece of the image) in box $(40, 60)$, i.e. in the 40th row and 60th column of the image:"
   ]
  },
  {
   "cell_type": "code",
   "execution_count": 8,
   "metadata": {},
   "outputs": [
    {
     "data": {
      "image/png": "[encoded data removed]",
      "text/plain": [
       "100×100 Array{RGB{N0f8},2} with eltype RGB{N0f8}:\n",
       " RGB{N0f8}(0.996,1.0,0.984)    …  RGB{N0f8}(1.0,1.0,1.0)\n",
       " RGB{N0f8}(0.984,1.0,0.988)       RGB{N0f8}(1.0,1.0,1.0)\n",
       " RGB{N0f8}(0.98,1.0,0.996)        RGB{N0f8}(1.0,1.0,1.0)\n",
       " RGB{N0f8}(0.969,1.0,0.992)       RGB{N0f8}(1.0,1.0,1.0)\n",
       " RGB{N0f8}(0.969,1.0,1.0)         RGB{N0f8}(1.0,1.0,1.0)\n",
       " RGB{N0f8}(0.98,1.0,1.0)       …  RGB{N0f8}(1.0,1.0,1.0)\n",
       " RGB{N0f8}(0.992,0.996,1.0)       RGB{N0f8}(1.0,1.0,1.0)\n",
       " RGB{N0f8}(1.0,0.992,1.0)         RGB{N0f8}(1.0,1.0,1.0)\n",
       " RGB{N0f8}(1.0,0.984,1.0)         RGB{N0f8}(1.0,1.0,1.0)\n",
       " RGB{N0f8}(1.0,0.984,1.0)         RGB{N0f8}(1.0,1.0,1.0)\n",
       " RGB{N0f8}(1.0,0.992,1.0)      …  RGB{N0f8}(1.0,1.0,1.0)\n",
       " RGB{N0f8}(1.0,0.996,1.0)         RGB{N0f8}(1.0,1.0,1.0)\n",
       " RGB{N0f8}(1.0,1.0,1.0)           RGB{N0f8}(1.0,1.0,1.0)\n",
       " ⋮                             ⋱  \n",
       " RGB{N0f8}(0.992,1.0,0.988)       RGB{N0f8}(1.0,1.0,1.0)\n",
       " RGB{N0f8}(0.992,1.0,0.988)       RGB{N0f8}(1.0,1.0,1.0)\n",
       " RGB{N0f8}(0.992,1.0,0.996)    …  RGB{N0f8}(1.0,1.0,1.0)\n",
       " RGB{N0f8}(0.996,1.0,1.0)         RGB{N0f8}(1.0,1.0,1.0)\n",
       " RGB{N0f8}(0.996,0.996,0.996)     RGB{N0f8}(1.0,1.0,1.0)\n",
       " RGB{N0f8}(1.0,0.992,0.996)       RGB{N0f8}(1.0,1.0,1.0)\n",
       " RGB{N0f8}(1.0,0.992,0.996)       RGB{N0f8}(1.0,1.0,1.0)\n",
       " RGB{N0f8}(1.0,0.992,0.996)    …  RGB{N0f8}(1.0,1.0,1.0)\n",
       " RGB{N0f8}(1.0,0.996,1.0)         RGB{N0f8}(1.0,1.0,1.0)\n",
       " RGB{N0f8}(1.0,1.0,1.0)           RGB{N0f8}(1.0,1.0,1.0)\n",
       " RGB{N0f8}(1.0,1.0,1.0)           RGB{N0f8}(1.0,1.0,1.0)\n",
       " RGB{N0f8}(1.0,1.0,1.0)           RGB{N0f8}(1.0,1.0,1.0)"
      ]
     },
     "execution_count": 8,
     "metadata": {},
     "output_type": "execute_result"
    }
   ],
   "source": [
    "apple"
   ]
  },
  {
   "cell_type": "code",
   "execution_count": 9,
   "metadata": {},
   "outputs": [
    {
     "name": "stdout",
     "output_type": "stream",
     "text": [
      "RGB{N0f8}\n",
      "  r: N0f8\n",
      "    i: UInt8 0x85\n",
      "  g: N0f8\n",
      "    i: UInt8 0x19\n",
      "  b: N0f8\n",
      "    i: UInt8 0x0d\n"
     ]
    }
   ],
   "source": [
    "dump(apple[40, 60])"
   ]
  },
  {
   "cell_type": "code",
   "execution_count": 10,
   "metadata": {},
   "outputs": [
    {
     "data": {
      "image/png": "[encoded data removed]",
      "text/plain": [
       "3×3 Array{RGB{N0f8},2} with eltype RGB{N0f8}:\n",
       " RGB{N0f8}(0.639,0.129,0.122)  …  RGB{N0f8}(0.631,0.133,0.11)\n",
       " RGB{N0f8}(0.651,0.133,0.118)     RGB{N0f8}(0.655,0.149,0.129)\n",
       " RGB{N0f8}(0.659,0.141,0.125)     RGB{N0f8}(0.667,0.161,0.141)"
      ]
     },
     "execution_count": 10,
     "metadata": {},
     "output_type": "execute_result"
    }
   ],
   "source": [
    "apple[18:20,29:31]"
   ]
  },
  {
   "cell_type": "markdown",
   "metadata": {},
   "source": [
    "We see that Julia displays a coloured box! Julia, via the `Colors.jl` package, is clever enough to display colours in a way that is useful to us humans!\n",
    "\n",
    "So, in fact, an image is a 2D array, in which each element of the array is an object (a collection of numbers) describing a coloured pixel."
   ]
  },
  {
   "cell_type": "markdown",
   "metadata": {},
   "source": [
    "## Colors as numbers\n",
    "\n",
    "How, then, are these colors actually stored? Computers store colors in RGB format, that is they store a value between 0 and 1 for each of three \"channels\": red, green, and blue. Here, 0 means none of that color and 1 means the brightest form of that color. The overall color is a combination of those three colors.\n",
    "\n",
    "For example, we can pull out the `red` value using the function `red` applied to the color. Since internally the actual value is stored in a special format, we choose to convert it to a standard floating-point number using the `Float64` function:"
   ]
  },
  {
   "cell_type": "code",
   "execution_count": 11,
   "metadata": {},
   "outputs": [
    {
     "data": {
      "text/plain": [
       "0.5215686274509804"
      ]
     },
     "execution_count": 11,
     "metadata": {},
     "output_type": "execute_result"
    }
   ],
   "source": [
    "Float64(red(apple[40, 60]))"
   ]
  },
  {
   "cell_type": "code",
   "execution_count": 12,
   "metadata": {},
   "outputs": [],
   "source": [
    "using Statistics"
   ]
  },
  {
   "cell_type": "code",
   "execution_count": 13,
   "metadata": {},
   "outputs": [
    {
     "data": {
      "text/plain": [
       "3×2 Matrix{Float32}:\n",
       " 0.570167  0.904002\n",
       " 0.338203  0.880797\n",
       " 0.3225    0.80016"
      ]
     },
     "execution_count": 13,
     "metadata": {},
     "output_type": "execute_result"
    }
   ],
   "source": [
    "[ mean(float.(c.(img))) for c = [red,green,blue], img = [apple,banana] ]"
   ]
  },
  {
   "cell_type": "code",
   "execution_count": 15,
   "metadata": {},
   "outputs": [
    {
     "data": {
      "image/svg+xml": [
       "<?xml version=\"1.0\" encoding=\"utf-8\"?>\n",
       "<svg xmlns=\"http://www.w3.org/2000/svg\" xmlns:xlink=\"http://www.w3.org/1999/xlink\" width=\"600\" height=\"400\" viewBox=\"0 0 2400 1600\">\n",
       "<defs>\n",
       "  <clipPath id=\"clip660\">\n",
       "    <rect x=\"0\" y=\"0\" width=\"2400\" height=\"1600\"/>\n",
       "  </clipPath>\n",
       "</defs>\n",
       "<path clip-path=\"url(#clip660)\" d=\"\n",
       "M0 1600 L2400 1600 L2400 0 L0 0  Z\n",
       "  \" fill=\"#ffffff\" fill-rule=\"evenodd\" fill-opacity=\"1\"/>\n",
       "<defs>\n",
       "  <clipPath id=\"clip661\">\n",
       "    <rect x=\"480\" y=\"0\" width=\"1681\" height=\"1600\"/>\n",
       "  </clipPath>\n",
       "</defs>\n",
       "<path clip-path=\"url(#clip660)\" d=\"\n",
       "M138.959 1486.45 L2352.76 1486.45 L2352.76 47.2441 L138.959 47.2441  Z\n",
       "  \" fill=\"#ffffff\" fill-rule=\"evenodd\" fill-opacity=\"1\"/>\n",
       "<defs>\n",
       "  <clipPath id=\"clip662\">\n",
       "    <rect x=\"138\" y=\"47\" width=\"2215\" height=\"1440\"/>\n",
       "  </clipPath>\n",
       "</defs>\n",
       "<polyline clip-path=\"url(#clip662)\" style=\"stroke:#000000; stroke-linecap:butt; stroke-linejoin:round; stroke-width:2; stroke-opacity:0.1; fill:none\" points=\"\n",
       "  260.722,1486.45 260.722,47.2441 \n",
       "  \"/>\n",
       "<polyline clip-path=\"url(#clip662)\" style=\"stroke:#000000; stroke-linecap:butt; stroke-linejoin:round; stroke-width:2; stroke-opacity:0.1; fill:none\" points=\"\n",
       "  729.834,1486.45 729.834,47.2441 \n",
       "  \"/>\n",
       "<polyline clip-path=\"url(#clip662)\" style=\"stroke:#000000; stroke-linecap:butt; stroke-linejoin:round; stroke-width:2; stroke-opacity:0.1; fill:none\" points=\"\n",
       "  1198.95,1486.45 1198.95,47.2441 \n",
       "  \"/>\n",
       "<polyline clip-path=\"url(#clip662)\" style=\"stroke:#000000; stroke-linecap:butt; stroke-linejoin:round; stroke-width:2; stroke-opacity:0.1; fill:none\" points=\"\n",
       "  1668.06,1486.45 1668.06,47.2441 \n",
       "  \"/>\n",
       "<polyline clip-path=\"url(#clip662)\" style=\"stroke:#000000; stroke-linecap:butt; stroke-linejoin:round; stroke-width:2; stroke-opacity:0.1; fill:none\" points=\"\n",
       "  2137.17,1486.45 2137.17,47.2441 \n",
       "  \"/>\n",
       "<polyline clip-path=\"url(#clip660)\" style=\"stroke:#000000; stroke-linecap:butt; stroke-linejoin:round; stroke-width:4; stroke-opacity:1; fill:none\" points=\"\n",
       "  138.959,1486.45 2352.76,1486.45 \n",
       "  \"/>\n",
       "<polyline clip-path=\"url(#clip660)\" style=\"stroke:#000000; stroke-linecap:butt; stroke-linejoin:round; stroke-width:4; stroke-opacity:1; fill:none\" points=\"\n",
       "  260.722,1486.45 260.722,1469.18 \n",
       "  \"/>\n",
       "<polyline clip-path=\"url(#clip660)\" style=\"stroke:#000000; stroke-linecap:butt; stroke-linejoin:round; stroke-width:4; stroke-opacity:1; fill:none\" points=\"\n",
       "  729.834,1486.45 729.834,1469.18 \n",
       "  \"/>\n",
       "<polyline clip-path=\"url(#clip660)\" style=\"stroke:#000000; stroke-linecap:butt; stroke-linejoin:round; stroke-width:4; stroke-opacity:1; fill:none\" points=\"\n",
       "  1198.95,1486.45 1198.95,1469.18 \n",
       "  \"/>\n",
       "<polyline clip-path=\"url(#clip660)\" style=\"stroke:#000000; stroke-linecap:butt; stroke-linejoin:round; stroke-width:4; stroke-opacity:1; fill:none\" points=\"\n",
       "  1668.06,1486.45 1668.06,1469.18 \n",
       "  \"/>\n",
       "<polyline clip-path=\"url(#clip660)\" style=\"stroke:#000000; stroke-linecap:butt; stroke-linejoin:round; stroke-width:4; stroke-opacity:1; fill:none\" points=\"\n",
       "  2137.17,1486.45 2137.17,1469.18 \n",
       "  \"/>\n",
       "<path clip-path=\"url(#clip660)\" d=\"M223.026 1515.64 Q219.415 1515.64 217.586 1519.2 Q215.78 1522.75 215.78 1529.87 Q215.78 1536.98 217.586 1540.55 Q219.415 1544.09 223.026 1544.09 Q226.66 1544.09 228.465 1540.55 Q230.294 1536.98 230.294 1529.87 Q230.294 1522.75 228.465 1519.2 Q226.66 1515.64 223.026 1515.64 M223.026 1511.93 Q228.836 1511.93 231.891 1516.54 Q234.97 1521.12 234.97 1529.87 Q234.97 1538.6 231.891 1543.21 Q228.836 1547.79 223.026 1547.79 Q217.215 1547.79 214.137 1543.21 Q211.081 1538.6 211.081 1529.87 Q211.081 1521.12 214.137 1516.54 Q217.215 1511.93 223.026 1511.93 Z\" fill=\"#000000\" fill-rule=\"evenodd\" fill-opacity=\"1\" /><path clip-path=\"url(#clip660)\" d=\"M243.188 1541.24 L248.072 1541.24 L248.072 1547.12 L243.188 1547.12 L243.188 1541.24 Z\" fill=\"#000000\" fill-rule=\"evenodd\" fill-opacity=\"1\" /><path clip-path=\"url(#clip660)\" d=\"M268.257 1515.64 Q264.646 1515.64 262.817 1519.2 Q261.012 1522.75 261.012 1529.87 Q261.012 1536.98 262.817 1540.55 Q264.646 1544.09 268.257 1544.09 Q271.891 1544.09 273.697 1540.55 Q275.525 1536.98 275.525 1529.87 Q275.525 1522.75 273.697 1519.2 Q271.891 1515.64 268.257 1515.64 M268.257 1511.93 Q274.067 1511.93 277.123 1516.54 Q280.201 1521.12 280.201 1529.87 Q280.201 1538.6 277.123 1543.21 Q274.067 1547.79 268.257 1547.79 Q262.447 1547.79 259.368 1543.21 Q256.312 1538.6 256.312 1529.87 Q256.312 1521.12 259.368 1516.54 Q262.447 1511.93 268.257 1511.93 Z\" fill=\"#000000\" fill-rule=\"evenodd\" fill-opacity=\"1\" /><path clip-path=\"url(#clip660)\" d=\"M298.419 1515.64 Q294.808 1515.64 292.979 1519.2 Q291.173 1522.75 291.173 1529.87 Q291.173 1536.98 292.979 1540.55 Q294.808 1544.09 298.419 1544.09 Q302.053 1544.09 303.859 1540.55 Q305.687 1536.98 305.687 1529.87 Q305.687 1522.75 303.859 1519.2 Q302.053 1515.64 298.419 1515.64 M298.419 1511.93 Q304.229 1511.93 307.284 1516.54 Q310.363 1521.12 310.363 1529.87 Q310.363 1538.6 307.284 1543.21 Q304.229 1547.79 298.419 1547.79 Q292.609 1547.79 289.53 1543.21 Q286.474 1538.6 286.474 1529.87 Q286.474 1521.12 289.53 1516.54 Q292.609 1511.93 298.419 1511.93 Z\" fill=\"#000000\" fill-rule=\"evenodd\" fill-opacity=\"1\" /><path clip-path=\"url(#clip660)\" d=\"M692.635 1515.64 Q689.024 1515.64 687.196 1519.2 Q685.39 1522.75 685.39 1529.87 Q685.39 1536.98 687.196 1540.55 Q689.024 1544.09 692.635 1544.09 Q696.27 1544.09 698.075 1540.55 Q699.904 1536.98 699.904 1529.87 Q699.904 1522.75 698.075 1519.2 Q696.27 1515.64 692.635 1515.64 M692.635 1511.93 Q698.446 1511.93 701.501 1516.54 Q704.58 1521.12 704.58 1529.87 Q704.58 1538.6 701.501 1543.21 Q698.446 1547.79 692.635 1547.79 Q686.825 1547.79 683.747 1543.21 Q680.691 1538.6 680.691 1529.87 Q680.691 1521.12 683.747 1516.54 Q686.825 1511.93 692.635 1511.93 Z\" fill=\"#000000\" fill-rule=\"evenodd\" fill-opacity=\"1\" /><path clip-path=\"url(#clip660)\" d=\"M712.797 1541.24 L717.682 1541.24 L717.682 1547.12 L712.797 1547.12 L712.797 1541.24 Z\" fill=\"#000000\" fill-rule=\"evenodd\" fill-opacity=\"1\" /><path clip-path=\"url(#clip660)\" d=\"M731.895 1543.18 L748.214 1543.18 L748.214 1547.12 L726.27 1547.12 L726.27 1543.18 Q728.932 1540.43 733.515 1535.8 Q738.121 1531.15 739.302 1529.81 Q741.547 1527.28 742.427 1525.55 Q743.33 1523.79 743.33 1522.1 Q743.33 1519.34 741.385 1517.61 Q739.464 1515.87 736.362 1515.87 Q734.163 1515.87 731.709 1516.63 Q729.279 1517.4 726.501 1518.95 L726.501 1514.23 Q729.325 1513.09 731.779 1512.51 Q734.232 1511.93 736.269 1511.93 Q741.64 1511.93 744.834 1514.62 Q748.029 1517.31 748.029 1521.8 Q748.029 1523.93 747.219 1525.85 Q746.431 1527.74 744.325 1530.34 Q743.746 1531.01 740.644 1534.23 Q737.543 1537.42 731.895 1543.18 Z\" fill=\"#000000\" fill-rule=\"evenodd\" fill-opacity=\"1\" /><path clip-path=\"url(#clip660)\" d=\"M758.075 1512.56 L776.431 1512.56 L776.431 1516.5 L762.357 1516.5 L762.357 1524.97 Q763.376 1524.62 764.394 1524.46 Q765.413 1524.27 766.431 1524.27 Q772.218 1524.27 775.598 1527.44 Q778.978 1530.62 778.978 1536.03 Q778.978 1541.61 775.505 1544.71 Q772.033 1547.79 765.714 1547.79 Q763.538 1547.79 761.269 1547.42 Q759.024 1547.05 756.617 1546.31 L756.617 1541.61 Q758.7 1542.74 760.922 1543.3 Q763.144 1543.86 765.621 1543.86 Q769.626 1543.86 771.964 1541.75 Q774.302 1539.64 774.302 1536.03 Q774.302 1532.42 771.964 1530.31 Q769.626 1528.21 765.621 1528.21 Q763.746 1528.21 761.871 1528.62 Q760.019 1529.04 758.075 1529.92 L758.075 1512.56 Z\" fill=\"#000000\" fill-rule=\"evenodd\" fill-opacity=\"1\" /><path clip-path=\"url(#clip660)\" d=\"M1161.25 1515.64 Q1157.64 1515.64 1155.81 1519.2 Q1154 1522.75 1154 1529.87 Q1154 1536.98 1155.81 1540.55 Q1157.64 1544.09 1161.25 1544.09 Q1164.88 1544.09 1166.69 1540.55 Q1168.52 1536.98 1168.52 1529.87 Q1168.52 1522.75 1166.69 1519.2 Q1164.88 1515.64 1161.25 1515.64 M1161.25 1511.93 Q1167.06 1511.93 1170.12 1516.54 Q1173.19 1521.12 1173.19 1529.87 Q1173.19 1538.6 1170.12 1543.21 Q1167.06 1547.79 1161.25 1547.79 Q1155.44 1547.79 1152.36 1543.21 Q1149.31 1538.6 1149.31 1529.87 Q1149.31 1521.12 1152.36 1516.54 Q1155.44 1511.93 1161.25 1511.93 Z\" fill=\"#000000\" fill-rule=\"evenodd\" fill-opacity=\"1\" /><path clip-path=\"url(#clip660)\" d=\"M1181.41 1541.24 L1186.3 1541.24 L1186.3 1547.12 L1181.41 1547.12 L1181.41 1541.24 Z\" fill=\"#000000\" fill-rule=\"evenodd\" fill-opacity=\"1\" /><path clip-path=\"url(#clip660)\" d=\"M1196.53 1512.56 L1214.88 1512.56 L1214.88 1516.5 L1200.81 1516.5 L1200.81 1524.97 Q1201.83 1524.62 1202.85 1524.46 Q1203.87 1524.27 1204.88 1524.27 Q1210.67 1524.27 1214.05 1527.44 Q1217.43 1530.62 1217.43 1536.03 Q1217.43 1541.61 1213.96 1544.71 Q1210.49 1547.79 1204.17 1547.79 Q1201.99 1547.79 1199.72 1547.42 Q1197.48 1547.05 1195.07 1546.31 L1195.07 1541.61 Q1197.15 1542.74 1199.37 1543.3 Q1201.6 1543.86 1204.07 1543.86 Q1208.08 1543.86 1210.42 1541.75 Q1212.75 1539.64 1212.75 1536.03 Q1212.75 1532.42 1210.42 1530.31 Q1208.08 1528.21 1204.07 1528.21 Q1202.2 1528.21 1200.32 1528.62 Q1198.47 1529.04 1196.53 1529.92 L1196.53 1512.56 Z\" fill=\"#000000\" fill-rule=\"evenodd\" fill-opacity=\"1\" /><path clip-path=\"url(#clip660)\" d=\"M1236.64 1515.64 Q1233.03 1515.64 1231.2 1519.2 Q1229.4 1522.75 1229.4 1529.87 Q1229.4 1536.98 1231.2 1540.55 Q1233.03 1544.09 1236.64 1544.09 Q1240.28 1544.09 1242.08 1540.55 Q1243.91 1536.98 1243.91 1529.87 Q1243.91 1522.75 1242.08 1519.2 Q1240.28 1515.64 1236.64 1515.64 M1236.64 1511.93 Q1242.45 1511.93 1245.51 1516.54 Q1248.59 1521.12 1248.59 1529.87 Q1248.59 1538.6 1245.51 1543.21 Q1242.45 1547.79 1236.64 1547.79 Q1230.83 1547.79 1227.75 1543.21 Q1224.7 1538.6 1224.7 1529.87 Q1224.7 1521.12 1227.75 1516.54 Q1230.83 1511.93 1236.64 1511.93 Z\" fill=\"#000000\" fill-rule=\"evenodd\" fill-opacity=\"1\" /><path clip-path=\"url(#clip660)\" d=\"M1630.86 1515.64 Q1627.25 1515.64 1625.42 1519.2 Q1623.61 1522.75 1623.61 1529.87 Q1623.61 1536.98 1625.42 1540.55 Q1627.25 1544.09 1630.86 1544.09 Q1634.49 1544.09 1636.3 1540.55 Q1638.13 1536.98 1638.13 1529.87 Q1638.13 1522.75 1636.3 1519.2 Q1634.49 1515.64 1630.86 1515.64 M1630.86 1511.93 Q1636.67 1511.93 1639.73 1516.54 Q1642.8 1521.12 1642.8 1529.87 Q1642.8 1538.6 1639.73 1543.21 Q1636.67 1547.79 1630.86 1547.79 Q1625.05 1547.79 1621.97 1543.21 Q1618.92 1538.6 1618.92 1529.87 Q1618.92 1521.12 1621.97 1516.54 Q1625.05 1511.93 1630.86 1511.93 Z\" fill=\"#000000\" fill-rule=\"evenodd\" fill-opacity=\"1\" /><path clip-path=\"url(#clip660)\" d=\"M1651.02 1541.24 L1655.91 1541.24 L1655.91 1547.12 L1651.02 1547.12 L1651.02 1541.24 Z\" fill=\"#000000\" fill-rule=\"evenodd\" fill-opacity=\"1\" /><path clip-path=\"url(#clip660)\" d=\"M1664.91 1512.56 L1687.13 1512.56 L1687.13 1514.55 L1674.59 1547.12 L1669.7 1547.12 L1681.51 1516.5 L1664.91 1516.5 L1664.91 1512.56 Z\" fill=\"#000000\" fill-rule=\"evenodd\" fill-opacity=\"1\" /><path clip-path=\"url(#clip660)\" d=\"M1696.3 1512.56 L1714.66 1512.56 L1714.66 1516.5 L1700.58 1516.5 L1700.58 1524.97 Q1701.6 1524.62 1702.62 1524.46 Q1703.64 1524.27 1704.66 1524.27 Q1710.44 1524.27 1713.82 1527.44 Q1717.2 1530.62 1717.2 1536.03 Q1717.2 1541.61 1713.73 1544.71 Q1710.26 1547.79 1703.94 1547.79 Q1701.76 1547.79 1699.49 1547.42 Q1697.25 1547.05 1694.84 1546.31 L1694.84 1541.61 Q1696.92 1542.74 1699.15 1543.3 Q1701.37 1543.86 1703.85 1543.86 Q1707.85 1543.86 1710.19 1541.75 Q1712.53 1539.64 1712.53 1536.03 Q1712.53 1532.42 1710.19 1530.31 Q1707.85 1528.21 1703.85 1528.21 Q1701.97 1528.21 1700.1 1528.62 Q1698.24 1529.04 1696.3 1529.92 L1696.3 1512.56 Z\" fill=\"#000000\" fill-rule=\"evenodd\" fill-opacity=\"1\" /><path clip-path=\"url(#clip660)\" d=\"M2089.24 1543.18 L2096.88 1543.18 L2096.88 1516.82 L2088.57 1518.49 L2088.57 1514.23 L2096.84 1512.56 L2101.51 1512.56 L2101.51 1543.18 L2109.15 1543.18 L2109.15 1547.12 L2089.24 1547.12 L2089.24 1543.18 Z\" fill=\"#000000\" fill-rule=\"evenodd\" fill-opacity=\"1\" /><path clip-path=\"url(#clip660)\" d=\"M2118.59 1541.24 L2123.48 1541.24 L2123.48 1547.12 L2118.59 1547.12 L2118.59 1541.24 Z\" fill=\"#000000\" fill-rule=\"evenodd\" fill-opacity=\"1\" /><path clip-path=\"url(#clip660)\" d=\"M2143.66 1515.64 Q2140.05 1515.64 2138.22 1519.2 Q2136.42 1522.75 2136.42 1529.87 Q2136.42 1536.98 2138.22 1540.55 Q2140.05 1544.09 2143.66 1544.09 Q2147.3 1544.09 2149.1 1540.55 Q2150.93 1536.98 2150.93 1529.87 Q2150.93 1522.75 2149.1 1519.2 Q2147.3 1515.64 2143.66 1515.64 M2143.66 1511.93 Q2149.47 1511.93 2152.53 1516.54 Q2155.61 1521.12 2155.61 1529.87 Q2155.61 1538.6 2152.53 1543.21 Q2149.47 1547.79 2143.66 1547.79 Q2137.85 1547.79 2134.77 1543.21 Q2131.72 1538.6 2131.72 1529.87 Q2131.72 1521.12 2134.77 1516.54 Q2137.85 1511.93 2143.66 1511.93 Z\" fill=\"#000000\" fill-rule=\"evenodd\" fill-opacity=\"1\" /><path clip-path=\"url(#clip660)\" d=\"M2173.83 1515.64 Q2170.21 1515.64 2168.39 1519.2 Q2166.58 1522.75 2166.58 1529.87 Q2166.58 1536.98 2168.39 1540.55 Q2170.21 1544.09 2173.83 1544.09 Q2177.46 1544.09 2179.27 1540.55 Q2181.09 1536.98 2181.09 1529.87 Q2181.09 1522.75 2179.27 1519.2 Q2177.46 1515.64 2173.83 1515.64 M2173.83 1511.93 Q2179.64 1511.93 2182.69 1516.54 Q2185.77 1521.12 2185.77 1529.87 Q2185.77 1538.6 2182.69 1543.21 Q2179.64 1547.79 2173.83 1547.79 Q2168.02 1547.79 2164.94 1543.21 Q2161.88 1538.6 2161.88 1529.87 Q2161.88 1521.12 2164.94 1516.54 Q2168.02 1511.93 2173.83 1511.93 Z\" fill=\"#000000\" fill-rule=\"evenodd\" fill-opacity=\"1\" /><polyline clip-path=\"url(#clip662)\" style=\"stroke:#000000; stroke-linecap:butt; stroke-linejoin:round; stroke-width:2; stroke-opacity:0.1; fill:none\" points=\"\n",
       "  138.959,1445.72 2352.76,1445.72 \n",
       "  \"/>\n",
       "<polyline clip-path=\"url(#clip662)\" style=\"stroke:#000000; stroke-linecap:butt; stroke-linejoin:round; stroke-width:2; stroke-opacity:0.1; fill:none\" points=\"\n",
       "  138.959,1244.18 2352.76,1244.18 \n",
       "  \"/>\n",
       "<polyline clip-path=\"url(#clip662)\" style=\"stroke:#000000; stroke-linecap:butt; stroke-linejoin:round; stroke-width:2; stroke-opacity:0.1; fill:none\" points=\"\n",
       "  138.959,1042.65 2352.76,1042.65 \n",
       "  \"/>\n",
       "<polyline clip-path=\"url(#clip662)\" style=\"stroke:#000000; stroke-linecap:butt; stroke-linejoin:round; stroke-width:2; stroke-opacity:0.1; fill:none\" points=\"\n",
       "  138.959,841.112 2352.76,841.112 \n",
       "  \"/>\n",
       "<polyline clip-path=\"url(#clip662)\" style=\"stroke:#000000; stroke-linecap:butt; stroke-linejoin:round; stroke-width:2; stroke-opacity:0.1; fill:none\" points=\"\n",
       "  138.959,639.577 2352.76,639.577 \n",
       "  \"/>\n",
       "<polyline clip-path=\"url(#clip662)\" style=\"stroke:#000000; stroke-linecap:butt; stroke-linejoin:round; stroke-width:2; stroke-opacity:0.1; fill:none\" points=\"\n",
       "  138.959,438.042 2352.76,438.042 \n",
       "  \"/>\n",
       "<polyline clip-path=\"url(#clip662)\" style=\"stroke:#000000; stroke-linecap:butt; stroke-linejoin:round; stroke-width:2; stroke-opacity:0.1; fill:none\" points=\"\n",
       "  138.959,236.507 2352.76,236.507 \n",
       "  \"/>\n",
       "<polyline clip-path=\"url(#clip660)\" style=\"stroke:#000000; stroke-linecap:butt; stroke-linejoin:round; stroke-width:4; stroke-opacity:1; fill:none\" points=\"\n",
       "  138.959,1486.45 138.959,47.2441 \n",
       "  \"/>\n",
       "<polyline clip-path=\"url(#clip660)\" style=\"stroke:#000000; stroke-linecap:butt; stroke-linejoin:round; stroke-width:4; stroke-opacity:1; fill:none\" points=\"\n",
       "  138.959,1445.72 165.525,1445.72 \n",
       "  \"/>\n",
       "<polyline clip-path=\"url(#clip660)\" style=\"stroke:#000000; stroke-linecap:butt; stroke-linejoin:round; stroke-width:4; stroke-opacity:1; fill:none\" points=\"\n",
       "  138.959,1244.18 165.525,1244.18 \n",
       "  \"/>\n",
       "<polyline clip-path=\"url(#clip660)\" style=\"stroke:#000000; stroke-linecap:butt; stroke-linejoin:round; stroke-width:4; stroke-opacity:1; fill:none\" points=\"\n",
       "  138.959,1042.65 165.525,1042.65 \n",
       "  \"/>\n",
       "<polyline clip-path=\"url(#clip660)\" style=\"stroke:#000000; stroke-linecap:butt; stroke-linejoin:round; stroke-width:4; stroke-opacity:1; fill:none\" points=\"\n",
       "  138.959,841.112 165.525,841.112 \n",
       "  \"/>\n",
       "<polyline clip-path=\"url(#clip660)\" style=\"stroke:#000000; stroke-linecap:butt; stroke-linejoin:round; stroke-width:4; stroke-opacity:1; fill:none\" points=\"\n",
       "  138.959,639.577 165.525,639.577 \n",
       "  \"/>\n",
       "<polyline clip-path=\"url(#clip660)\" style=\"stroke:#000000; stroke-linecap:butt; stroke-linejoin:round; stroke-width:4; stroke-opacity:1; fill:none\" points=\"\n",
       "  138.959,438.042 165.525,438.042 \n",
       "  \"/>\n",
       "<polyline clip-path=\"url(#clip660)\" style=\"stroke:#000000; stroke-linecap:butt; stroke-linejoin:round; stroke-width:4; stroke-opacity:1; fill:none\" points=\"\n",
       "  138.959,236.507 165.525,236.507 \n",
       "  \"/>\n",
       "<path clip-path=\"url(#clip660)\" d=\"M91.0151 1431.51 Q87.404 1431.51 85.5753 1435.08 Q83.7697 1438.62 83.7697 1445.75 Q83.7697 1452.86 85.5753 1456.42 Q87.404 1459.96 91.0151 1459.96 Q94.6493 1459.96 96.4548 1456.42 Q98.2835 1452.86 98.2835 1445.75 Q98.2835 1438.62 96.4548 1435.08 Q94.6493 1431.51 91.0151 1431.51 M91.0151 1427.81 Q96.8252 1427.81 99.8808 1432.42 Q102.959 1437 102.959 1445.75 Q102.959 1454.48 99.8808 1459.08 Q96.8252 1463.67 91.0151 1463.67 Q85.2049 1463.67 82.1262 1459.08 Q79.0707 1454.48 79.0707 1445.75 Q79.0707 1437 82.1262 1432.42 Q85.2049 1427.81 91.0151 1427.81 Z\" fill=\"#000000\" fill-rule=\"evenodd\" fill-opacity=\"1\" /><path clip-path=\"url(#clip660)\" d=\"M86.6401 1257.53 L102.959 1257.53 L102.959 1261.46 L81.0151 1261.46 L81.0151 1257.53 Q83.6771 1254.77 88.2604 1250.14 Q92.8669 1245.49 94.0475 1244.15 Q96.2928 1241.62 97.1724 1239.89 Q98.0752 1238.13 98.0752 1236.44 Q98.0752 1233.68 96.1308 1231.95 Q94.2095 1230.21 91.1077 1230.21 Q88.9086 1230.21 86.4549 1230.98 Q84.0244 1231.74 81.2466 1233.29 L81.2466 1228.57 Q84.0707 1227.43 86.5243 1226.85 Q88.978 1226.28 91.0151 1226.28 Q96.3854 1226.28 99.5798 1228.96 Q102.774 1231.65 102.774 1236.14 Q102.774 1238.27 101.964 1240.19 Q101.177 1242.09 99.0706 1244.68 Q98.4919 1245.35 95.39 1248.57 Q92.2882 1251.76 86.6401 1257.53 Z\" fill=\"#000000\" fill-rule=\"evenodd\" fill-opacity=\"1\" /><path clip-path=\"url(#clip660)\" d=\"M93.3762 1029.44 L81.5707 1047.89 L93.3762 1047.89 L93.3762 1029.44 M92.1493 1025.37 L98.0289 1025.37 L98.0289 1047.89 L102.959 1047.89 L102.959 1051.78 L98.0289 1051.78 L98.0289 1059.93 L93.3762 1059.93 L93.3762 1051.78 L77.7744 1051.78 L77.7744 1047.26 L92.1493 1025.37 Z\" fill=\"#000000\" fill-rule=\"evenodd\" fill-opacity=\"1\" /><path clip-path=\"url(#clip660)\" d=\"M91.4317 839.248 Q88.2836 839.248 86.4318 841.401 Q84.6031 843.554 84.6031 847.304 Q84.6031 851.03 86.4318 853.206 Q88.2836 855.359 91.4317 855.359 Q94.5799 855.359 96.4085 853.206 Q98.2604 851.03 98.2604 847.304 Q98.2604 843.554 96.4085 841.401 Q94.5799 839.248 91.4317 839.248 M100.714 824.595 L100.714 828.855 Q98.9548 828.021 97.1493 827.581 Q95.3669 827.142 93.6076 827.142 Q88.978 827.142 86.5243 830.267 Q84.0938 833.392 83.7466 839.711 Q85.1123 837.697 87.1725 836.632 Q89.2327 835.544 91.7095 835.544 Q96.9178 835.544 99.927 838.716 Q102.959 841.864 102.959 847.304 Q102.959 852.628 99.8113 855.845 Q96.6632 859.063 91.4317 859.063 Q85.4364 859.063 82.2651 854.48 Q79.0938 849.873 79.0938 841.146 Q79.0938 832.952 82.9827 828.091 Q86.8716 823.207 93.4225 823.207 Q95.1817 823.207 96.9641 823.554 Q98.7696 823.901 100.714 824.595 Z\" fill=\"#000000\" fill-rule=\"evenodd\" fill-opacity=\"1\" /><path clip-path=\"url(#clip660)\" d=\"M91.1077 640.445 Q87.7743 640.445 85.8531 642.227 Q83.9549 644.01 83.9549 647.135 Q83.9549 650.26 85.8531 652.042 Q87.7743 653.824 91.1077 653.824 Q94.441 653.824 96.3623 652.042 Q98.2835 650.236 98.2835 647.135 Q98.2835 644.01 96.3623 642.227 Q94.4641 640.445 91.1077 640.445 M86.4318 638.454 Q83.4225 637.713 81.7327 635.653 Q80.066 633.593 80.066 630.63 Q80.066 626.487 83.0058 624.079 Q85.9688 621.672 91.1077 621.672 Q96.2697 621.672 99.2095 624.079 Q102.149 626.487 102.149 630.63 Q102.149 633.593 100.459 635.653 Q98.7928 637.713 95.8067 638.454 Q99.1863 639.241 101.061 641.533 Q102.959 643.824 102.959 647.135 Q102.959 652.158 99.8808 654.843 Q96.8252 657.528 91.1077 657.528 Q85.3901 657.528 82.3114 654.843 Q79.2559 652.158 79.2559 647.135 Q79.2559 643.824 81.154 641.533 Q83.0521 639.241 86.4318 638.454 M84.7188 631.07 Q84.7188 633.755 86.3855 635.26 Q88.0753 636.764 91.1077 636.764 Q94.1169 636.764 95.8067 635.26 Q97.5197 633.755 97.5197 631.07 Q97.5197 628.385 95.8067 626.88 Q94.1169 625.375 91.1077 625.375 Q88.0753 625.375 86.3855 626.88 Q84.7188 628.385 84.7188 631.07 Z\" fill=\"#000000\" fill-rule=\"evenodd\" fill-opacity=\"1\" /><path clip-path=\"url(#clip660)\" d=\"M51.6634 451.387 L59.3023 451.387 L59.3023 425.021 L50.9921 426.688 L50.9921 422.429 L59.256 420.762 L63.9319 420.762 L63.9319 451.387 L71.5707 451.387 L71.5707 455.322 L51.6634 455.322 L51.6634 451.387 Z\" fill=\"#000000\" fill-rule=\"evenodd\" fill-opacity=\"1\" /><path clip-path=\"url(#clip660)\" d=\"M91.0151 423.841 Q87.404 423.841 85.5753 427.406 Q83.7697 430.947 83.7697 438.077 Q83.7697 445.183 85.5753 448.748 Q87.404 452.29 91.0151 452.29 Q94.6493 452.29 96.4548 448.748 Q98.2835 445.183 98.2835 438.077 Q98.2835 430.947 96.4548 427.406 Q94.6493 423.841 91.0151 423.841 M91.0151 420.137 Q96.8252 420.137 99.8808 424.744 Q102.959 429.327 102.959 438.077 Q102.959 446.804 99.8808 451.41 Q96.8252 455.993 91.0151 455.993 Q85.2049 455.993 82.1262 451.41 Q79.0707 446.804 79.0707 438.077 Q79.0707 429.327 82.1262 424.744 Q85.2049 420.137 91.0151 420.137 Z\" fill=\"#000000\" fill-rule=\"evenodd\" fill-opacity=\"1\" /><path clip-path=\"url(#clip660)\" d=\"M53.2606 249.852 L60.8995 249.852 L60.8995 223.487 L52.5893 225.153 L52.5893 220.894 L60.8532 219.227 L65.5291 219.227 L65.5291 249.852 L73.1679 249.852 L73.1679 253.787 L53.2606 253.787 L53.2606 249.852 Z\" fill=\"#000000\" fill-rule=\"evenodd\" fill-opacity=\"1\" /><path clip-path=\"url(#clip660)\" d=\"M86.6401 249.852 L102.959 249.852 L102.959 253.787 L81.0151 253.787 L81.0151 249.852 Q83.6771 247.098 88.2604 242.468 Q92.8669 237.815 94.0475 236.473 Q96.2928 233.949 97.1724 232.213 Q98.0752 230.454 98.0752 228.764 Q98.0752 226.01 96.1308 224.274 Q94.2095 222.538 91.1077 222.538 Q88.9086 222.538 86.4549 223.301 Q84.0244 224.065 81.2466 225.616 L81.2466 220.894 Q84.0707 219.76 86.5243 219.181 Q88.978 218.602 91.0151 218.602 Q96.3854 218.602 99.5798 221.288 Q102.774 223.973 102.774 228.463 Q102.774 230.593 101.964 232.514 Q101.177 234.412 99.0706 237.005 Q98.4919 237.676 95.39 240.894 Q92.2882 244.088 86.6401 249.852 Z\" fill=\"#000000\" fill-rule=\"evenodd\" fill-opacity=\"1\" /><path clip-path=\"url(#clip662)\" d=\"\n",
       "M260.722 944.7 L260.722 1445.72 L354.545 1445.72 L354.545 944.7 L260.722 944.7 L260.722 944.7  Z\n",
       "  \" fill=\"#ff0000\" fill-rule=\"evenodd\" fill-opacity=\"1\"/>\n",
       "<polyline clip-path=\"url(#clip662)\" style=\"stroke:#000000; stroke-linecap:butt; stroke-linejoin:round; stroke-width:4; stroke-opacity:1; fill:none\" points=\"\n",
       "  260.722,944.7 260.722,1445.72 354.545,1445.72 354.545,944.7 260.722,944.7 \n",
       "  \"/>\n",
       "<path clip-path=\"url(#clip662)\" d=\"\n",
       "M354.545 1065.22 L354.545 1445.72 L448.367 1445.72 L448.367 1065.22 L354.545 1065.22 L354.545 1065.22  Z\n",
       "  \" fill=\"#ff0000\" fill-rule=\"evenodd\" fill-opacity=\"1\"/>\n",
       "<polyline clip-path=\"url(#clip662)\" style=\"stroke:#000000; stroke-linecap:butt; stroke-linejoin:round; stroke-width:4; stroke-opacity:1; fill:none\" points=\"\n",
       "  354.545,1065.22 354.545,1445.72 448.367,1445.72 448.367,1065.22 354.545,1065.22 \n",
       "  \"/>\n",
       "<path clip-path=\"url(#clip662)\" d=\"\n",
       "M448.367 1225.44 L448.367 1445.72 L542.189 1445.72 L542.189 1225.44 L448.367 1225.44 L448.367 1225.44  Z\n",
       "  \" fill=\"#ff0000\" fill-rule=\"evenodd\" fill-opacity=\"1\"/>\n",
       "<polyline clip-path=\"url(#clip662)\" style=\"stroke:#000000; stroke-linecap:butt; stroke-linejoin:round; stroke-width:4; stroke-opacity:1; fill:none\" points=\"\n",
       "  448.367,1225.44 448.367,1445.72 542.189,1445.72 542.189,1225.44 448.367,1225.44 \n",
       "  \"/>\n",
       "<path clip-path=\"url(#clip662)\" d=\"\n",
       "M542.189 1315.52 L542.189 1445.72 L636.012 1445.72 L636.012 1315.52 L542.189 1315.52 L542.189 1315.52  Z\n",
       "  \" fill=\"#ff0000\" fill-rule=\"evenodd\" fill-opacity=\"1\"/>\n",
       "<polyline clip-path=\"url(#clip662)\" style=\"stroke:#000000; stroke-linecap:butt; stroke-linejoin:round; stroke-width:4; stroke-opacity:1; fill:none\" points=\"\n",
       "  542.189,1315.52 542.189,1445.72 636.012,1445.72 636.012,1315.52 542.189,1315.52 \n",
       "  \"/>\n",
       "<path clip-path=\"url(#clip662)\" d=\"\n",
       "M636.012 1357.24 L636.012 1445.72 L729.834 1445.72 L729.834 1357.24 L636.012 1357.24 L636.012 1357.24  Z\n",
       "  \" fill=\"#ff0000\" fill-rule=\"evenodd\" fill-opacity=\"1\"/>\n",
       "<polyline clip-path=\"url(#clip662)\" style=\"stroke:#000000; stroke-linecap:butt; stroke-linejoin:round; stroke-width:4; stroke-opacity:1; fill:none\" points=\"\n",
       "  636.012,1357.24 636.012,1445.72 729.834,1445.72 729.834,1357.24 636.012,1357.24 \n",
       "  \"/>\n",
       "<path clip-path=\"url(#clip662)\" d=\"\n",
       "M729.834 1388.28 L729.834 1445.72 L823.657 1445.72 L823.657 1388.28 L729.834 1388.28 L729.834 1388.28  Z\n",
       "  \" fill=\"#ff0000\" fill-rule=\"evenodd\" fill-opacity=\"1\"/>\n",
       "<polyline clip-path=\"url(#clip662)\" style=\"stroke:#000000; stroke-linecap:butt; stroke-linejoin:round; stroke-width:4; stroke-opacity:1; fill:none\" points=\"\n",
       "  729.834,1388.28 729.834,1445.72 823.657,1445.72 823.657,1388.28 729.834,1388.28 \n",
       "  \"/>\n",
       "<path clip-path=\"url(#clip662)\" d=\"\n",
       "M823.657 1406.82 L823.657 1445.72 L917.479 1445.72 L917.479 1406.82 L823.657 1406.82 L823.657 1406.82  Z\n",
       "  \" fill=\"#ff0000\" fill-rule=\"evenodd\" fill-opacity=\"1\"/>\n",
       "<polyline clip-path=\"url(#clip662)\" style=\"stroke:#000000; stroke-linecap:butt; stroke-linejoin:round; stroke-width:4; stroke-opacity:1; fill:none\" points=\"\n",
       "  823.657,1406.82 823.657,1445.72 917.479,1445.72 917.479,1406.82 823.657,1406.82 \n",
       "  \"/>\n",
       "<path clip-path=\"url(#clip662)\" d=\"\n",
       "M917.479 1422.94 L917.479 1445.72 L1011.3 1445.72 L1011.3 1422.94 L917.479 1422.94 L917.479 1422.94  Z\n",
       "  \" fill=\"#ff0000\" fill-rule=\"evenodd\" fill-opacity=\"1\"/>\n",
       "<polyline clip-path=\"url(#clip662)\" style=\"stroke:#000000; stroke-linecap:butt; stroke-linejoin:round; stroke-width:4; stroke-opacity:1; fill:none\" points=\"\n",
       "  917.479,1422.94 917.479,1445.72 1011.3,1445.72 1011.3,1422.94 917.479,1422.94 \n",
       "  \"/>\n",
       "<path clip-path=\"url(#clip662)\" d=\"\n",
       "M1011.3 1429.59 L1011.3 1445.72 L1105.12 1445.72 L1105.12 1429.59 L1011.3 1429.59 L1011.3 1429.59  Z\n",
       "  \" fill=\"#ff0000\" fill-rule=\"evenodd\" fill-opacity=\"1\"/>\n",
       "<polyline clip-path=\"url(#clip662)\" style=\"stroke:#000000; stroke-linecap:butt; stroke-linejoin:round; stroke-width:4; stroke-opacity:1; fill:none\" points=\"\n",
       "  1011.3,1429.59 1011.3,1445.72 1105.12,1445.72 1105.12,1429.59 1011.3,1429.59 \n",
       "  \"/>\n",
       "<path clip-path=\"url(#clip662)\" d=\"\n",
       "M1105.12 1431.61 L1105.12 1445.72 L1198.95 1445.72 L1198.95 1431.61 L1105.12 1431.61 L1105.12 1431.61  Z\n",
       "  \" fill=\"#ff0000\" fill-rule=\"evenodd\" fill-opacity=\"1\"/>\n",
       "<polyline clip-path=\"url(#clip662)\" style=\"stroke:#000000; stroke-linecap:butt; stroke-linejoin:round; stroke-width:4; stroke-opacity:1; fill:none\" points=\"\n",
       "  1105.12,1431.61 1105.12,1445.72 1198.95,1445.72 1198.95,1431.61 1105.12,1431.61 \n",
       "  \"/>\n",
       "<path clip-path=\"url(#clip662)\" d=\"\n",
       "M1198.95 1433.02 L1198.95 1445.72 L1292.77 1445.72 L1292.77 1433.02 L1198.95 1433.02 L1198.95 1433.02  Z\n",
       "  \" fill=\"#ff0000\" fill-rule=\"evenodd\" fill-opacity=\"1\"/>\n",
       "<polyline clip-path=\"url(#clip662)\" style=\"stroke:#000000; stroke-linecap:butt; stroke-linejoin:round; stroke-width:4; stroke-opacity:1; fill:none\" points=\"\n",
       "  1198.95,1433.02 1198.95,1445.72 1292.77,1445.72 1292.77,1433.02 1198.95,1433.02 \n",
       "  \"/>\n",
       "<path clip-path=\"url(#clip662)\" d=\"\n",
       "M1292.77 1432.82 L1292.77 1445.72 L1386.59 1445.72 L1386.59 1432.82 L1292.77 1432.82 L1292.77 1432.82  Z\n",
       "  \" fill=\"#ff0000\" fill-rule=\"evenodd\" fill-opacity=\"1\"/>\n",
       "<polyline clip-path=\"url(#clip662)\" style=\"stroke:#000000; stroke-linecap:butt; stroke-linejoin:round; stroke-width:4; stroke-opacity:1; fill:none\" points=\"\n",
       "  1292.77,1432.82 1292.77,1445.72 1386.59,1445.72 1386.59,1432.82 1292.77,1432.82 \n",
       "  \"/>\n",
       "<path clip-path=\"url(#clip662)\" d=\"\n",
       "M1386.59 1433.02 L1386.59 1445.72 L1480.41 1445.72 L1480.41 1433.02 L1386.59 1433.02 L1386.59 1433.02  Z\n",
       "  \" fill=\"#ff0000\" fill-rule=\"evenodd\" fill-opacity=\"1\"/>\n",
       "<polyline clip-path=\"url(#clip662)\" style=\"stroke:#000000; stroke-linecap:butt; stroke-linejoin:round; stroke-width:4; stroke-opacity:1; fill:none\" points=\"\n",
       "  1386.59,1433.02 1386.59,1445.72 1480.41,1445.72 1480.41,1433.02 1386.59,1433.02 \n",
       "  \"/>\n",
       "<path clip-path=\"url(#clip662)\" d=\"\n",
       "M1480.41 1441.48 L1480.41 1445.72 L1574.24 1445.72 L1574.24 1441.48 L1480.41 1441.48 L1480.41 1441.48  Z\n",
       "  \" fill=\"#ff0000\" fill-rule=\"evenodd\" fill-opacity=\"1\"/>\n",
       "<polyline clip-path=\"url(#clip662)\" style=\"stroke:#000000; stroke-linecap:butt; stroke-linejoin:round; stroke-width:4; stroke-opacity:1; fill:none\" points=\"\n",
       "  1480.41,1441.48 1480.41,1445.72 1574.24,1445.72 1574.24,1441.48 1480.41,1441.48 \n",
       "  \"/>\n",
       "<path clip-path=\"url(#clip662)\" d=\"\n",
       "M1574.24 1440.88 L1574.24 1445.72 L1668.06 1445.72 L1668.06 1440.88 L1574.24 1440.88 L1574.24 1440.88  Z\n",
       "  \" fill=\"#ff0000\" fill-rule=\"evenodd\" fill-opacity=\"1\"/>\n",
       "<polyline clip-path=\"url(#clip662)\" style=\"stroke:#000000; stroke-linecap:butt; stroke-linejoin:round; stroke-width:4; stroke-opacity:1; fill:none\" points=\"\n",
       "  1574.24,1440.88 1574.24,1445.72 1668.06,1445.72 1668.06,1440.88 1574.24,1440.88 \n",
       "  \"/>\n",
       "<path clip-path=\"url(#clip662)\" d=\"\n",
       "M1668.06 1440.68 L1668.06 1445.72 L1761.88 1445.72 L1761.88 1440.68 L1668.06 1440.68 L1668.06 1440.68  Z\n",
       "  \" fill=\"#ff0000\" fill-rule=\"evenodd\" fill-opacity=\"1\"/>\n",
       "<polyline clip-path=\"url(#clip662)\" style=\"stroke:#000000; stroke-linecap:butt; stroke-linejoin:round; stroke-width:4; stroke-opacity:1; fill:none\" points=\"\n",
       "  1668.06,1440.68 1668.06,1445.72 1761.88,1445.72 1761.88,1440.68 1668.06,1440.68 \n",
       "  \"/>\n",
       "<path clip-path=\"url(#clip662)\" d=\"\n",
       "M1761.88 1437.05 L1761.88 1445.72 L1855.7 1445.72 L1855.7 1437.05 L1761.88 1437.05 L1761.88 1437.05  Z\n",
       "  \" fill=\"#ff0000\" fill-rule=\"evenodd\" fill-opacity=\"1\"/>\n",
       "<polyline clip-path=\"url(#clip662)\" style=\"stroke:#000000; stroke-linecap:butt; stroke-linejoin:round; stroke-width:4; stroke-opacity:1; fill:none\" points=\"\n",
       "  1761.88,1437.05 1761.88,1445.72 1855.7,1445.72 1855.7,1437.05 1761.88,1437.05 \n",
       "  \"/>\n",
       "<path clip-path=\"url(#clip662)\" d=\"\n",
       "M1855.7 1437.65 L1855.7 1445.72 L1949.53 1445.72 L1949.53 1437.65 L1855.7 1437.65 L1855.7 1437.65  Z\n",
       "  \" fill=\"#ff0000\" fill-rule=\"evenodd\" fill-opacity=\"1\"/>\n",
       "<polyline clip-path=\"url(#clip662)\" style=\"stroke:#000000; stroke-linecap:butt; stroke-linejoin:round; stroke-width:4; stroke-opacity:1; fill:none\" points=\"\n",
       "  1855.7,1437.65 1855.7,1445.72 1949.53,1445.72 1949.53,1437.65 1855.7,1437.65 \n",
       "  \"/>\n",
       "<path clip-path=\"url(#clip662)\" d=\"\n",
       "M1949.53 1439.47 L1949.53 1445.72 L2043.35 1445.72 L2043.35 1439.47 L1949.53 1439.47 L1949.53 1439.47  Z\n",
       "  \" fill=\"#ff0000\" fill-rule=\"evenodd\" fill-opacity=\"1\"/>\n",
       "<polyline clip-path=\"url(#clip662)\" style=\"stroke:#000000; stroke-linecap:butt; stroke-linejoin:round; stroke-width:4; stroke-opacity:1; fill:none\" points=\"\n",
       "  1949.53,1439.47 1949.53,1445.72 2043.35,1445.72 2043.35,1439.47 1949.53,1439.47 \n",
       "  \"/>\n",
       "<path clip-path=\"url(#clip662)\" d=\"\n",
       "M2043.35 1252.85 L2043.35 1445.72 L2137.17 1445.72 L2137.17 1252.85 L2043.35 1252.85 L2043.35 1252.85  Z\n",
       "  \" fill=\"#ff0000\" fill-rule=\"evenodd\" fill-opacity=\"1\"/>\n",
       "<polyline clip-path=\"url(#clip662)\" style=\"stroke:#000000; stroke-linecap:butt; stroke-linejoin:round; stroke-width:4; stroke-opacity:1; fill:none\" points=\"\n",
       "  2043.35,1252.85 2043.35,1445.72 2137.17,1445.72 2137.17,1252.85 2043.35,1252.85 \n",
       "  \"/>\n",
       "<path clip-path=\"url(#clip662)\" d=\"\n",
       "M2137.17 1168.4 L2137.17 1445.72 L2230.99 1445.72 L2230.99 1168.4 L2137.17 1168.4 L2137.17 1168.4  Z\n",
       "  \" fill=\"#ff0000\" fill-rule=\"evenodd\" fill-opacity=\"1\"/>\n",
       "<polyline clip-path=\"url(#clip662)\" style=\"stroke:#000000; stroke-linecap:butt; stroke-linejoin:round; stroke-width:4; stroke-opacity:1; fill:none\" points=\"\n",
       "  2137.17,1168.4 2137.17,1445.72 2230.99,1445.72 2230.99,1168.4 2137.17,1168.4 \n",
       "  \"/>\n",
       "<path clip-path=\"url(#clip662)\" d=\"\n",
       "M448.367 1445.51 L448.367 1445.72 L542.189 1445.72 L542.189 1445.51 L448.367 1445.51 L448.367 1445.51  Z\n",
       "  \" fill=\"#ffff00\" fill-rule=\"evenodd\" fill-opacity=\"1\"/>\n",
       "<polyline clip-path=\"url(#clip662)\" style=\"stroke:#000000; stroke-linecap:butt; stroke-linejoin:round; stroke-width:4; stroke-opacity:1; fill:none\" points=\"\n",
       "  448.367,1445.51 448.367,1445.72 542.189,1445.72 542.189,1445.51 448.367,1445.51 \n",
       "  \"/>\n",
       "<path clip-path=\"url(#clip662)\" d=\"\n",
       "M542.189 1444.71 L542.189 1445.72 L636.012 1445.72 L636.012 1444.71 L542.189 1444.71 L542.189 1444.71  Z\n",
       "  \" fill=\"#ffff00\" fill-rule=\"evenodd\" fill-opacity=\"1\"/>\n",
       "<polyline clip-path=\"url(#clip662)\" style=\"stroke:#000000; stroke-linecap:butt; stroke-linejoin:round; stroke-width:4; stroke-opacity:1; fill:none\" points=\"\n",
       "  542.189,1444.71 542.189,1445.72 636.012,1445.72 636.012,1444.71 542.189,1444.71 \n",
       "  \"/>\n",
       "<path clip-path=\"url(#clip662)\" d=\"\n",
       "M636.012 1444.1 L636.012 1445.72 L729.834 1445.72 L729.834 1444.1 L636.012 1444.1 L636.012 1444.1  Z\n",
       "  \" fill=\"#ffff00\" fill-rule=\"evenodd\" fill-opacity=\"1\"/>\n",
       "<polyline clip-path=\"url(#clip662)\" style=\"stroke:#000000; stroke-linecap:butt; stroke-linejoin:round; stroke-width:4; stroke-opacity:1; fill:none\" points=\"\n",
       "  636.012,1444.1 636.012,1445.72 729.834,1445.72 729.834,1444.1 636.012,1444.1 \n",
       "  \"/>\n",
       "<path clip-path=\"url(#clip662)\" d=\"\n",
       "M729.834 1435.84 L729.834 1445.72 L823.657 1445.72 L823.657 1435.84 L729.834 1435.84 L729.834 1435.84  Z\n",
       "  \" fill=\"#ffff00\" fill-rule=\"evenodd\" fill-opacity=\"1\"/>\n",
       "<polyline clip-path=\"url(#clip662)\" style=\"stroke:#000000; stroke-linecap:butt; stroke-linejoin:round; stroke-width:4; stroke-opacity:1; fill:none\" points=\"\n",
       "  729.834,1435.84 729.834,1445.72 823.657,1445.72 823.657,1435.84 729.834,1435.84 \n",
       "  \"/>\n",
       "<path clip-path=\"url(#clip662)\" d=\"\n",
       "M823.657 1424.76 L823.657 1445.72 L917.479 1445.72 L917.479 1424.76 L823.657 1424.76 L823.657 1424.76  Z\n",
       "  \" fill=\"#ffff00\" fill-rule=\"evenodd\" fill-opacity=\"1\"/>\n",
       "<polyline clip-path=\"url(#clip662)\" style=\"stroke:#000000; stroke-linecap:butt; stroke-linejoin:round; stroke-width:4; stroke-opacity:1; fill:none\" points=\"\n",
       "  823.657,1424.76 823.657,1445.72 917.479,1445.72 917.479,1424.76 823.657,1424.76 \n",
       "  \"/>\n",
       "<path clip-path=\"url(#clip662)\" d=\"\n",
       "M917.479 1422.34 L917.479 1445.72 L1011.3 1445.72 L1011.3 1422.34 L917.479 1422.34 L917.479 1422.34  Z\n",
       "  \" fill=\"#ffff00\" fill-rule=\"evenodd\" fill-opacity=\"1\"/>\n",
       "<polyline clip-path=\"url(#clip662)\" style=\"stroke:#000000; stroke-linecap:butt; stroke-linejoin:round; stroke-width:4; stroke-opacity:1; fill:none\" points=\"\n",
       "  917.479,1422.34 917.479,1445.72 1011.3,1445.72 1011.3,1422.34 917.479,1422.34 \n",
       "  \"/>\n",
       "<path clip-path=\"url(#clip662)\" d=\"\n",
       "M1011.3 1404 L1011.3 1445.72 L1105.12 1445.72 L1105.12 1404 L1011.3 1404 L1011.3 1404  Z\n",
       "  \" fill=\"#ffff00\" fill-rule=\"evenodd\" fill-opacity=\"1\"/>\n",
       "<polyline clip-path=\"url(#clip662)\" style=\"stroke:#000000; stroke-linecap:butt; stroke-linejoin:round; stroke-width:4; stroke-opacity:1; fill:none\" points=\"\n",
       "  1011.3,1404 1011.3,1445.72 1105.12,1445.72 1105.12,1404 1011.3,1404 \n",
       "  \"/>\n",
       "<path clip-path=\"url(#clip662)\" d=\"\n",
       "M1105.12 1376.19 L1105.12 1445.72 L1198.95 1445.72 L1198.95 1376.19 L1105.12 1376.19 L1105.12 1376.19  Z\n",
       "  \" fill=\"#ffff00\" fill-rule=\"evenodd\" fill-opacity=\"1\"/>\n",
       "<polyline clip-path=\"url(#clip662)\" style=\"stroke:#000000; stroke-linecap:butt; stroke-linejoin:round; stroke-width:4; stroke-opacity:1; fill:none\" points=\"\n",
       "  1105.12,1376.19 1105.12,1445.72 1198.95,1445.72 1198.95,1376.19 1105.12,1376.19 \n",
       "  \"/>\n",
       "<path clip-path=\"url(#clip662)\" d=\"\n",
       "M1198.95 1299.4 L1198.95 1445.72 L1292.77 1445.72 L1292.77 1299.4 L1198.95 1299.4 L1198.95 1299.4  Z\n",
       "  \" fill=\"#ffff00\" fill-rule=\"evenodd\" fill-opacity=\"1\"/>\n",
       "<polyline clip-path=\"url(#clip662)\" style=\"stroke:#000000; stroke-linecap:butt; stroke-linejoin:round; stroke-width:4; stroke-opacity:1; fill:none\" points=\"\n",
       "  1198.95,1299.4 1198.95,1445.72 1292.77,1445.72 1292.77,1299.4 1198.95,1299.4 \n",
       "  \"/>\n",
       "<path clip-path=\"url(#clip662)\" d=\"\n",
       "M1292.77 1305.25 L1292.77 1445.72 L1386.59 1445.72 L1386.59 1305.25 L1292.77 1305.25 L1292.77 1305.25  Z\n",
       "  \" fill=\"#ffff00\" fill-rule=\"evenodd\" fill-opacity=\"1\"/>\n",
       "<polyline clip-path=\"url(#clip662)\" style=\"stroke:#000000; stroke-linecap:butt; stroke-linejoin:round; stroke-width:4; stroke-opacity:1; fill:none\" points=\"\n",
       "  1292.77,1305.25 1292.77,1445.72 1386.59,1445.72 1386.59,1305.25 1292.77,1305.25 \n",
       "  \"/>\n",
       "<path clip-path=\"url(#clip662)\" d=\"\n",
       "M1386.59 1438.06 L1386.59 1445.72 L1480.41 1445.72 L1480.41 1438.06 L1386.59 1438.06 L1386.59 1438.06  Z\n",
       "  \" fill=\"#ffff00\" fill-rule=\"evenodd\" fill-opacity=\"1\"/>\n",
       "<polyline clip-path=\"url(#clip662)\" style=\"stroke:#000000; stroke-linecap:butt; stroke-linejoin:round; stroke-width:4; stroke-opacity:1; fill:none\" points=\"\n",
       "  1386.59,1438.06 1386.59,1445.72 1480.41,1445.72 1480.41,1438.06 1386.59,1438.06 \n",
       "  \"/>\n",
       "<path clip-path=\"url(#clip662)\" d=\"\n",
       "M1480.41 1437.86 L1480.41 1445.72 L1574.24 1445.72 L1574.24 1437.86 L1480.41 1437.86 L1480.41 1437.86  Z\n",
       "  \" fill=\"#ffff00\" fill-rule=\"evenodd\" fill-opacity=\"1\"/>\n",
       "<polyline clip-path=\"url(#clip662)\" style=\"stroke:#000000; stroke-linecap:butt; stroke-linejoin:round; stroke-width:4; stroke-opacity:1; fill:none\" points=\"\n",
       "  1480.41,1437.86 1480.41,1445.72 1574.24,1445.72 1574.24,1437.86 1480.41,1437.86 \n",
       "  \"/>\n",
       "<path clip-path=\"url(#clip662)\" d=\"\n",
       "M1574.24 1438.86 L1574.24 1445.72 L1668.06 1445.72 L1668.06 1438.86 L1574.24 1438.86 L1574.24 1438.86  Z\n",
       "  \" fill=\"#ffff00\" fill-rule=\"evenodd\" fill-opacity=\"1\"/>\n",
       "<polyline clip-path=\"url(#clip662)\" style=\"stroke:#000000; stroke-linecap:butt; stroke-linejoin:round; stroke-width:4; stroke-opacity:1; fill:none\" points=\"\n",
       "  1574.24,1438.86 1574.24,1445.72 1668.06,1445.72 1668.06,1438.86 1574.24,1438.86 \n",
       "  \"/>\n",
       "<path clip-path=\"url(#clip662)\" d=\"\n",
       "M1668.06 1438.06 L1668.06 1445.72 L1761.88 1445.72 L1761.88 1438.06 L1668.06 1438.06 L1668.06 1438.06  Z\n",
       "  \" fill=\"#ffff00\" fill-rule=\"evenodd\" fill-opacity=\"1\"/>\n",
       "<polyline clip-path=\"url(#clip662)\" style=\"stroke:#000000; stroke-linecap:butt; stroke-linejoin:round; stroke-width:4; stroke-opacity:1; fill:none\" points=\"\n",
       "  1668.06,1438.06 1668.06,1445.72 1761.88,1445.72 1761.88,1438.06 1668.06,1438.06 \n",
       "  \"/>\n",
       "<path clip-path=\"url(#clip662)\" d=\"\n",
       "M1761.88 1440.48 L1761.88 1445.72 L1855.7 1445.72 L1855.7 1440.48 L1761.88 1440.48 L1761.88 1440.48  Z\n",
       "  \" fill=\"#ffff00\" fill-rule=\"evenodd\" fill-opacity=\"1\"/>\n",
       "<polyline clip-path=\"url(#clip662)\" style=\"stroke:#000000; stroke-linecap:butt; stroke-linejoin:round; stroke-width:4; stroke-opacity:1; fill:none\" points=\"\n",
       "  1761.88,1440.48 1761.88,1445.72 1855.7,1445.72 1855.7,1440.48 1761.88,1440.48 \n",
       "  \"/>\n",
       "<path clip-path=\"url(#clip662)\" d=\"\n",
       "M1855.7 1437.86 L1855.7 1445.72 L1949.53 1445.72 L1949.53 1437.86 L1855.7 1437.86 L1855.7 1437.86  Z\n",
       "  \" fill=\"#ffff00\" fill-rule=\"evenodd\" fill-opacity=\"1\"/>\n",
       "<polyline clip-path=\"url(#clip662)\" style=\"stroke:#000000; stroke-linecap:butt; stroke-linejoin:round; stroke-width:4; stroke-opacity:1; fill:none\" points=\"\n",
       "  1855.7,1437.86 1855.7,1445.72 1949.53,1445.72 1949.53,1437.86 1855.7,1437.86 \n",
       "  \"/>\n",
       "<path clip-path=\"url(#clip662)\" d=\"\n",
       "M1949.53 1439.27 L1949.53 1445.72 L2043.35 1445.72 L2043.35 1439.27 L1949.53 1439.27 L1949.53 1439.27  Z\n",
       "  \" fill=\"#ffff00\" fill-rule=\"evenodd\" fill-opacity=\"1\"/>\n",
       "<polyline clip-path=\"url(#clip662)\" style=\"stroke:#000000; stroke-linecap:butt; stroke-linejoin:round; stroke-width:4; stroke-opacity:1; fill:none\" points=\"\n",
       "  1949.53,1439.27 1949.53,1445.72 2043.35,1445.72 2043.35,1439.27 1949.53,1439.27 \n",
       "  \"/>\n",
       "<path clip-path=\"url(#clip662)\" d=\"\n",
       "M2043.35 1292.75 L2043.35 1445.72 L2137.17 1445.72 L2137.17 1292.75 L2043.35 1292.75 L2043.35 1292.75  Z\n",
       "  \" fill=\"#ffff00\" fill-rule=\"evenodd\" fill-opacity=\"1\"/>\n",
       "<polyline clip-path=\"url(#clip662)\" style=\"stroke:#000000; stroke-linecap:butt; stroke-linejoin:round; stroke-width:4; stroke-opacity:1; fill:none\" points=\"\n",
       "  2043.35,1292.75 2043.35,1445.72 2137.17,1445.72 2137.17,1292.75 2043.35,1292.75 \n",
       "  \"/>\n",
       "<path clip-path=\"url(#clip662)\" d=\"\n",
       "M2137.17 87.9763 L2137.17 1445.72 L2230.99 1445.72 L2230.99 87.9763 L2137.17 87.9763 L2137.17 87.9763  Z\n",
       "  \" fill=\"#ffff00\" fill-rule=\"evenodd\" fill-opacity=\"1\"/>\n",
       "<polyline clip-path=\"url(#clip662)\" style=\"stroke:#000000; stroke-linecap:butt; stroke-linejoin:round; stroke-width:4; stroke-opacity:1; fill:none\" points=\"\n",
       "  2137.17,87.9763 2137.17,1445.72 2230.99,1445.72 2230.99,87.9763 2137.17,87.9763 \n",
       "  \"/>\n",
       "<path clip-path=\"url(#clip660)\" d=\"\n",
       "M1864.26 250.738 L2278.96 250.738 L2278.96 95.2176 L1864.26 95.2176  Z\n",
       "  \" fill=\"#ffffff\" fill-rule=\"evenodd\" fill-opacity=\"1\"/>\n",
       "<polyline clip-path=\"url(#clip660)\" style=\"stroke:#000000; stroke-linecap:butt; stroke-linejoin:round; stroke-width:4; stroke-opacity:1; fill:none\" points=\"\n",
       "  1864.26,250.738 2278.96,250.738 2278.96,95.2176 1864.26,95.2176 1864.26,250.738 \n",
       "  \"/>\n",
       "<path clip-path=\"url(#clip660)\" d=\"\n",
       "M1888.86 167.794 L2036.44 167.794 L2036.44 126.322 L1888.86 126.322 L1888.86 167.794  Z\n",
       "  \" fill=\"#ff0000\" fill-rule=\"evenodd\" fill-opacity=\"1\"/>\n",
       "<polyline clip-path=\"url(#clip660)\" style=\"stroke:#000000; stroke-linecap:butt; stroke-linejoin:round; stroke-width:4; stroke-opacity:1; fill:none\" points=\"\n",
       "  1888.86,167.794 2036.44,167.794 2036.44,126.322 1888.86,126.322 1888.86,167.794 \n",
       "  \"/>\n",
       "<path clip-path=\"url(#clip660)\" d=\"M2074.44 151.305 Q2069.28 151.305 2067.29 152.486 Q2065.3 153.666 2065.3 156.514 Q2065.3 158.782 2066.78 160.125 Q2068.29 161.444 2070.86 161.444 Q2074.4 161.444 2076.53 158.944 Q2078.68 156.421 2078.68 152.254 L2078.68 151.305 L2074.44 151.305 M2082.94 149.546 L2082.94 164.338 L2078.68 164.338 L2078.68 160.402 Q2077.22 162.763 2075.05 163.898 Q2072.87 165.009 2069.72 165.009 Q2065.74 165.009 2063.38 162.787 Q2061.04 160.541 2061.04 156.791 Q2061.04 152.416 2063.96 150.194 Q2066.9 147.972 2072.71 147.972 L2078.68 147.972 L2078.68 147.555 Q2078.68 144.615 2076.74 143.018 Q2074.81 141.398 2071.32 141.398 Q2069.1 141.398 2066.99 141.93 Q2064.88 142.463 2062.94 143.527 L2062.94 139.592 Q2065.28 138.69 2067.48 138.25 Q2069.68 137.787 2071.76 137.787 Q2077.38 137.787 2080.16 140.703 Q2082.94 143.62 2082.94 149.546 Z\" fill=\"#000000\" fill-rule=\"evenodd\" fill-opacity=\"1\" /><path clip-path=\"url(#clip660)\" d=\"M2095.83 160.449 L2095.83 174.199 L2091.55 174.199 L2091.55 138.412 L2095.83 138.412 L2095.83 142.347 Q2097.18 140.032 2099.21 138.921 Q2101.27 137.787 2104.12 137.787 Q2108.84 137.787 2111.78 141.537 Q2114.74 145.287 2114.74 151.398 Q2114.74 157.509 2111.78 161.259 Q2108.84 165.009 2104.12 165.009 Q2101.27 165.009 2099.21 163.898 Q2097.18 162.763 2095.83 160.449 M2110.32 151.398 Q2110.32 146.699 2108.38 144.037 Q2106.46 141.352 2103.08 141.352 Q2099.7 141.352 2097.75 144.037 Q2095.83 146.699 2095.83 151.398 Q2095.83 156.097 2097.75 158.782 Q2099.7 161.444 2103.08 161.444 Q2106.46 161.444 2108.38 158.782 Q2110.32 156.097 2110.32 151.398 Z\" fill=\"#000000\" fill-rule=\"evenodd\" fill-opacity=\"1\" /><path clip-path=\"url(#clip660)\" d=\"M2125.93 160.449 L2125.93 174.199 L2121.64 174.199 L2121.64 138.412 L2125.93 138.412 L2125.93 142.347 Q2127.27 140.032 2129.3 138.921 Q2131.36 137.787 2134.21 137.787 Q2138.93 137.787 2141.87 141.537 Q2144.84 145.287 2144.84 151.398 Q2144.84 157.509 2141.87 161.259 Q2138.93 165.009 2134.21 165.009 Q2131.36 165.009 2129.3 163.898 Q2127.27 162.763 2125.93 160.449 M2140.42 151.398 Q2140.42 146.699 2138.47 144.037 Q2136.55 141.352 2133.17 141.352 Q2129.79 141.352 2127.85 144.037 Q2125.93 146.699 2125.93 151.398 Q2125.93 156.097 2127.85 158.782 Q2129.79 161.444 2133.17 161.444 Q2136.55 161.444 2138.47 158.782 Q2140.42 156.097 2140.42 151.398 Z\" fill=\"#000000\" fill-rule=\"evenodd\" fill-opacity=\"1\" /><path clip-path=\"url(#clip660)\" d=\"M2151.9 128.319 L2156.16 128.319 L2156.16 164.338 L2151.9 164.338 L2151.9 128.319 Z\" fill=\"#000000\" fill-rule=\"evenodd\" fill-opacity=\"1\" /><path clip-path=\"url(#clip660)\" d=\"M2187.24 150.31 L2187.24 152.393 L2167.66 152.393 Q2167.94 156.791 2170.3 159.106 Q2172.68 161.398 2176.92 161.398 Q2179.37 161.398 2181.67 160.796 Q2183.98 160.194 2186.25 158.99 L2186.25 163.018 Q2183.96 163.99 2181.55 164.5 Q2179.14 165.009 2176.67 165.009 Q2170.46 165.009 2166.83 161.398 Q2163.22 157.787 2163.22 151.629 Q2163.22 145.264 2166.64 141.537 Q2170.09 137.787 2175.92 137.787 Q2181.16 137.787 2184.19 141.166 Q2187.24 144.523 2187.24 150.31 M2182.99 149.06 Q2182.94 145.565 2181.02 143.481 Q2179.12 141.398 2175.97 141.398 Q2172.41 141.398 2170.25 143.412 Q2168.12 145.426 2167.8 149.083 L2182.99 149.06 Z\" fill=\"#000000\" fill-rule=\"evenodd\" fill-opacity=\"1\" /><path clip-path=\"url(#clip660)\" d=\"\n",
       "M1888.86 219.634 L2036.44 219.634 L2036.44 178.162 L1888.86 178.162 L1888.86 219.634  Z\n",
       "  \" fill=\"#ffff00\" fill-rule=\"evenodd\" fill-opacity=\"1\"/>\n",
       "<polyline clip-path=\"url(#clip660)\" style=\"stroke:#000000; stroke-linecap:butt; stroke-linejoin:round; stroke-width:4; stroke-opacity:1; fill:none\" points=\"\n",
       "  1888.86,219.634 2036.44,219.634 2036.44,178.162 1888.86,178.162 1888.86,219.634 \n",
       "  \"/>\n",
       "<path clip-path=\"url(#clip660)\" d=\"M2079.81 203.238 Q2079.81 198.539 2077.87 195.877 Q2075.95 193.192 2072.57 193.192 Q2069.19 193.192 2067.24 195.877 Q2065.32 198.539 2065.32 203.238 Q2065.32 207.937 2067.24 210.622 Q2069.19 213.284 2072.57 213.284 Q2075.95 213.284 2077.87 210.622 Q2079.81 207.937 2079.81 203.238 M2065.32 194.187 Q2066.67 191.872 2068.7 190.761 Q2070.76 189.627 2073.61 189.627 Q2078.33 189.627 2081.27 193.377 Q2084.24 197.127 2084.24 203.238 Q2084.24 209.349 2081.27 213.099 Q2078.33 216.849 2073.61 216.849 Q2070.76 216.849 2068.7 215.738 Q2066.67 214.603 2065.32 212.289 L2065.32 216.178 L2061.04 216.178 L2061.04 180.159 L2065.32 180.159 L2065.32 194.187 Z\" fill=\"#000000\" fill-rule=\"evenodd\" fill-opacity=\"1\" /><path clip-path=\"url(#clip660)\" d=\"M2103.08 203.145 Q2097.92 203.145 2095.93 204.326 Q2093.93 205.506 2093.93 208.354 Q2093.93 210.622 2095.42 211.965 Q2096.92 213.284 2099.49 213.284 Q2103.03 213.284 2105.16 210.784 Q2107.31 208.261 2107.31 204.094 L2107.31 203.145 L2103.08 203.145 M2111.57 201.386 L2111.57 216.178 L2107.31 216.178 L2107.31 212.242 Q2105.86 214.603 2103.68 215.738 Q2101.5 216.849 2098.36 216.849 Q2094.37 216.849 2092.01 214.627 Q2089.68 212.381 2089.68 208.631 Q2089.68 204.256 2092.59 202.034 Q2095.53 199.812 2101.34 199.812 L2107.31 199.812 L2107.31 199.395 Q2107.31 196.455 2105.37 194.858 Q2103.45 193.238 2099.95 193.238 Q2097.73 193.238 2095.62 193.77 Q2093.52 194.303 2091.57 195.367 L2091.57 191.432 Q2093.91 190.53 2096.11 190.09 Q2098.31 189.627 2100.39 189.627 Q2106.02 189.627 2108.8 192.543 Q2111.57 195.46 2111.57 201.386 Z\" fill=\"#000000\" fill-rule=\"evenodd\" fill-opacity=\"1\" /><path clip-path=\"url(#clip660)\" d=\"M2141.9 200.529 L2141.9 216.178 L2137.64 216.178 L2137.64 200.668 Q2137.64 196.988 2136.2 195.159 Q2134.77 193.33 2131.9 193.33 Q2128.45 193.33 2126.46 195.53 Q2124.47 197.729 2124.47 201.525 L2124.47 216.178 L2120.18 216.178 L2120.18 190.252 L2124.47 190.252 L2124.47 194.28 Q2125.99 191.942 2128.05 190.784 Q2130.14 189.627 2132.85 189.627 Q2137.31 189.627 2139.61 192.405 Q2141.9 195.159 2141.9 200.529 Z\" fill=\"#000000\" fill-rule=\"evenodd\" fill-opacity=\"1\" /><path clip-path=\"url(#clip660)\" d=\"M2162.17 203.145 Q2157.01 203.145 2155.02 204.326 Q2153.03 205.506 2153.03 208.354 Q2153.03 210.622 2154.51 211.965 Q2156.02 213.284 2158.59 213.284 Q2162.13 213.284 2164.26 210.784 Q2166.41 208.261 2166.41 204.094 L2166.41 203.145 L2162.17 203.145 M2170.67 201.386 L2170.67 216.178 L2166.41 216.178 L2166.41 212.242 Q2164.95 214.603 2162.78 215.738 Q2160.6 216.849 2157.45 216.849 Q2153.47 216.849 2151.11 214.627 Q2148.77 212.381 2148.77 208.631 Q2148.77 204.256 2151.69 202.034 Q2154.63 199.812 2160.44 199.812 L2166.41 199.812 L2166.41 199.395 Q2166.41 196.455 2164.47 194.858 Q2162.55 193.238 2159.05 193.238 Q2156.83 193.238 2154.72 193.77 Q2152.61 194.303 2150.67 195.367 L2150.67 191.432 Q2153.01 190.53 2155.21 190.09 Q2157.41 189.627 2159.49 189.627 Q2165.11 189.627 2167.89 192.543 Q2170.67 195.46 2170.67 201.386 Z\" fill=\"#000000\" fill-rule=\"evenodd\" fill-opacity=\"1\" /><path clip-path=\"url(#clip660)\" d=\"M2200.99 200.529 L2200.99 216.178 L2196.73 216.178 L2196.73 200.668 Q2196.73 196.988 2195.3 195.159 Q2193.86 193.33 2190.99 193.33 Q2187.55 193.33 2185.55 195.53 Q2183.56 197.729 2183.56 201.525 L2183.56 216.178 L2179.28 216.178 L2179.28 190.252 L2183.56 190.252 L2183.56 194.28 Q2185.09 191.942 2187.15 190.784 Q2189.24 189.627 2191.94 189.627 Q2196.41 189.627 2198.7 192.405 Q2200.99 195.159 2200.99 200.529 Z\" fill=\"#000000\" fill-rule=\"evenodd\" fill-opacity=\"1\" /><path clip-path=\"url(#clip660)\" d=\"M2221.27 203.145 Q2216.11 203.145 2214.12 204.326 Q2212.13 205.506 2212.13 208.354 Q2212.13 210.622 2213.61 211.965 Q2215.11 213.284 2217.68 213.284 Q2221.23 213.284 2223.36 210.784 Q2225.51 208.261 2225.51 204.094 L2225.51 203.145 L2221.27 203.145 M2229.77 201.386 L2229.77 216.178 L2225.51 216.178 L2225.51 212.242 Q2224.05 214.603 2221.87 215.738 Q2219.7 216.849 2216.55 216.849 Q2212.57 216.849 2210.21 214.627 Q2207.87 212.381 2207.87 208.631 Q2207.87 204.256 2210.79 202.034 Q2213.73 199.812 2219.54 199.812 L2225.51 199.812 L2225.51 199.395 Q2225.51 196.455 2223.56 194.858 Q2221.64 193.238 2218.15 193.238 Q2215.92 193.238 2213.82 193.77 Q2211.71 194.303 2209.77 195.367 L2209.77 191.432 Q2212.11 190.53 2214.3 190.09 Q2216.5 189.627 2218.59 189.627 Q2224.21 189.627 2226.99 192.543 Q2229.77 195.46 2229.77 201.386 Z\" fill=\"#000000\" fill-rule=\"evenodd\" fill-opacity=\"1\" /></svg>\n"
      ]
     },
     "execution_count": 15,
     "metadata": {},
     "output_type": "execute_result"
    }
   ],
   "source": [
    "using Plots\n",
    "histogram(float.(green.(apple[:])),color=\"red\",label=\"apple\", normalize=true, nbins=25)\n",
    "histogram!(float.(green.(banana[:])),color=\"yellow\",label=\"banana\",normalize=true, nbins=25)"
   ]
  },
  {
   "cell_type": "code",
   "execution_count": 16,
   "metadata": {},
   "outputs": [
    {
     "data": {
      "image/png": "[encoded data removed]",
      "text/plain": [
       "100×100 Array{RGB{N0f8},2} with eltype RGB{N0f8}:\n",
       " RGB{N0f8}(0.996,1.0,0.984)    …  RGB{N0f8}(1.0,1.0,1.0)\n",
       " RGB{N0f8}(0.984,1.0,0.988)       RGB{N0f8}(1.0,1.0,1.0)\n",
       " RGB{N0f8}(0.98,1.0,0.996)        RGB{N0f8}(1.0,1.0,1.0)\n",
       " RGB{N0f8}(0.969,1.0,0.992)       RGB{N0f8}(1.0,1.0,1.0)\n",
       " RGB{N0f8}(0.969,1.0,1.0)         RGB{N0f8}(1.0,1.0,1.0)\n",
       " RGB{N0f8}(0.98,1.0,1.0)       …  RGB{N0f8}(1.0,1.0,1.0)\n",
       " RGB{N0f8}(0.992,0.996,1.0)       RGB{N0f8}(1.0,1.0,1.0)\n",
       " RGB{N0f8}(1.0,0.992,1.0)         RGB{N0f8}(1.0,1.0,1.0)\n",
       " RGB{N0f8}(1.0,0.984,1.0)         RGB{N0f8}(1.0,1.0,1.0)\n",
       " RGB{N0f8}(1.0,0.984,1.0)         RGB{N0f8}(1.0,1.0,1.0)\n",
       " RGB{N0f8}(1.0,0.992,1.0)      …  RGB{N0f8}(1.0,1.0,1.0)\n",
       " RGB{N0f8}(1.0,0.996,1.0)         RGB{N0f8}(1.0,1.0,1.0)\n",
       " RGB{N0f8}(1.0,1.0,1.0)           RGB{N0f8}(1.0,1.0,1.0)\n",
       " ⋮                             ⋱  \n",
       " RGB{N0f8}(0.992,1.0,0.988)       RGB{N0f8}(1.0,1.0,1.0)\n",
       " RGB{N0f8}(0.992,1.0,0.988)       RGB{N0f8}(1.0,1.0,1.0)\n",
       " RGB{N0f8}(0.992,1.0,0.996)    …  RGB{N0f8}(1.0,1.0,1.0)\n",
       " RGB{N0f8}(0.996,1.0,1.0)         RGB{N0f8}(1.0,1.0,1.0)\n",
       " RGB{N0f8}(0.996,0.996,0.996)     RGB{N0f8}(1.0,1.0,1.0)\n",
       " RGB{N0f8}(1.0,0.992,0.996)       RGB{N0f8}(1.0,1.0,1.0)\n",
       " RGB{N0f8}(1.0,0.992,0.996)       RGB{N0f8}(1.0,1.0,1.0)\n",
       " RGB{N0f8}(1.0,0.992,0.996)    …  RGB{N0f8}(1.0,1.0,1.0)\n",
       " RGB{N0f8}(1.0,0.996,1.0)         RGB{N0f8}(1.0,1.0,1.0)\n",
       " RGB{N0f8}(1.0,1.0,1.0)           RGB{N0f8}(1.0,1.0,1.0)\n",
       " RGB{N0f8}(1.0,1.0,1.0)           RGB{N0f8}(1.0,1.0,1.0)\n",
       " RGB{N0f8}(1.0,1.0,1.0)           RGB{N0f8}(1.0,1.0,1.0)"
      ]
     },
     "execution_count": 16,
     "metadata": {},
     "output_type": "execute_result"
    }
   ],
   "source": [
    "apple"
   ]
  },
  {
   "cell_type": "code",
   "execution_count": 17,
   "metadata": {},
   "outputs": [
    {
     "data": {
      "text/plain": [
       "0.61960787f0"
      ]
     },
     "execution_count": 17,
     "metadata": {},
     "output_type": "execute_result"
    }
   ],
   "source": [
    "float(red(banana[50,20]))"
   ]
  },
  {
   "cell_type": "code",
   "execution_count": 18,
   "metadata": {},
   "outputs": [
    {
     "data": {
      "image/svg+xml": [
       "<?xml version=\"1.0\" encoding=\"UTF-8\"?>\n",
       "<!DOCTYPE svg PUBLIC \"-//W3C//DTD SVG 1.1//EN\"\n",
       " \"http://www.w3.org/Graphics/SVG/1.1/DTD/svg11.dtd\">\n",
       "<svg xmlns=\"http://www.w3.org/2000/svg\" version=\"1.1\"\n",
       "     width=\"25mm\" height=\"25mm\" viewBox=\"0 0 1 1\">\n",
       "    <rect width=\"1\" height=\"1\" fill=\"#9E831C\" stroke=\"none\"/>\n",
       "</svg>\n"
      ],
      "text/plain": [
       "RGB{N0f8}(0.62,0.514,0.11)"
      ]
     },
     "execution_count": 18,
     "metadata": {},
     "output_type": "execute_result"
    }
   ],
   "source": [
    "banana[50,20]"
   ]
  },
  {
   "cell_type": "code",
   "execution_count": 19,
   "metadata": {},
   "outputs": [
    {
     "name": "stdout",
     "output_type": "stream",
     "text": [
      "The RGB values are (0.5215686274509804, 0.09803921568627451, 0.050980392156862744)"
     ]
    }
   ],
   "source": [
    "pixel = apple[40, 60]\n",
    "\n",
    "red_value   = Float64( red(pixel) )\n",
    "green_value = Float64( green(pixel) )\n",
    "blue_value  = Float64( blue(pixel) )\n",
    "\n",
    "print(\"The RGB values are ($red_value, $green_value, $blue_value)\")"
   ]
  },
  {
   "cell_type": "markdown",
   "metadata": {},
   "source": [
    "Since the red value is high while the others are low, this means that at pixel `(40, 60)`, the picture of the apple is very red. If we do the same at one of the corners of the picture, we get the following:"
   ]
  },
  {
   "cell_type": "code",
   "execution_count": 20,
   "metadata": {},
   "outputs": [
    {
     "name": "stdout",
     "output_type": "stream",
     "text": [
      "The RGB values are (0.996078431372549, 1.0, 0.984313725490196)"
     ]
    }
   ],
   "source": [
    "pixel = apple[1, 1]\n",
    "\n",
    "red_value   = Float64( red(pixel) )\n",
    "green_value = Float64( green(pixel) )\n",
    "blue_value  = Float64( blue(pixel) )\n",
    "\n",
    "print(\"The RGB values are ($red_value, $green_value, $blue_value)\")"
   ]
  },
  {
   "cell_type": "code",
   "execution_count": 21,
   "metadata": {},
   "outputs": [
    {
     "data": {
      "image/png": "[encoded data removed]",
      "text/plain": [
       "100×100 Array{RGB{N0f8},2} with eltype RGB{N0f8}:\n",
       " RGB{N0f8}(0.996,1.0,0.984)    …  RGB{N0f8}(1.0,1.0,1.0)\n",
       " RGB{N0f8}(0.984,1.0,0.988)       RGB{N0f8}(1.0,1.0,1.0)\n",
       " RGB{N0f8}(0.98,1.0,0.996)        RGB{N0f8}(1.0,1.0,1.0)\n",
       " RGB{N0f8}(0.969,1.0,0.992)       RGB{N0f8}(1.0,1.0,1.0)\n",
       " RGB{N0f8}(0.969,1.0,1.0)         RGB{N0f8}(1.0,1.0,1.0)\n",
       " RGB{N0f8}(0.98,1.0,1.0)       …  RGB{N0f8}(1.0,1.0,1.0)\n",
       " RGB{N0f8}(0.992,0.996,1.0)       RGB{N0f8}(1.0,1.0,1.0)\n",
       " RGB{N0f8}(1.0,0.992,1.0)         RGB{N0f8}(1.0,1.0,1.0)\n",
       " RGB{N0f8}(1.0,0.984,1.0)         RGB{N0f8}(1.0,1.0,1.0)\n",
       " RGB{N0f8}(1.0,0.984,1.0)         RGB{N0f8}(1.0,1.0,1.0)\n",
       " RGB{N0f8}(1.0,0.992,1.0)      …  RGB{N0f8}(1.0,1.0,1.0)\n",
       " RGB{N0f8}(1.0,0.996,1.0)         RGB{N0f8}(1.0,1.0,1.0)\n",
       " RGB{N0f8}(1.0,1.0,1.0)           RGB{N0f8}(1.0,1.0,1.0)\n",
       " ⋮                             ⋱  \n",
       " RGB{N0f8}(0.992,1.0,0.988)       RGB{N0f8}(1.0,1.0,1.0)\n",
       " RGB{N0f8}(0.992,1.0,0.988)       RGB{N0f8}(1.0,1.0,1.0)\n",
       " RGB{N0f8}(0.992,1.0,0.996)    …  RGB{N0f8}(1.0,1.0,1.0)\n",
       " RGB{N0f8}(0.996,1.0,1.0)         RGB{N0f8}(1.0,1.0,1.0)\n",
       " RGB{N0f8}(0.996,0.996,0.996)     RGB{N0f8}(1.0,1.0,1.0)\n",
       " RGB{N0f8}(1.0,0.992,0.996)       RGB{N0f8}(1.0,1.0,1.0)\n",
       " RGB{N0f8}(1.0,0.992,0.996)       RGB{N0f8}(1.0,1.0,1.0)\n",
       " RGB{N0f8}(1.0,0.992,0.996)    …  RGB{N0f8}(1.0,1.0,1.0)\n",
       " RGB{N0f8}(1.0,0.996,1.0)         RGB{N0f8}(1.0,1.0,1.0)\n",
       " RGB{N0f8}(1.0,1.0,1.0)           RGB{N0f8}(1.0,1.0,1.0)\n",
       " RGB{N0f8}(1.0,1.0,1.0)           RGB{N0f8}(1.0,1.0,1.0)\n",
       " RGB{N0f8}(1.0,1.0,1.0)           RGB{N0f8}(1.0,1.0,1.0)"
      ]
     },
     "execution_count": 21,
     "metadata": {},
     "output_type": "execute_result"
    }
   ],
   "source": [
    "apple"
   ]
  },
  {
   "cell_type": "markdown",
   "metadata": {},
   "source": [
    "We see that every color is bright, which corresponds to white."
   ]
  },
  {
   "cell_type": "markdown",
   "metadata": {},
   "source": [
    "## Working on an image as a whole\n",
    "\n",
    "In Julia, to apply a function to the whole of an array, we place a `.` between the function name and the left parenthesis (`(`), so the following gives us the `red` value of every pixel in the image:"
   ]
  },
  {
   "cell_type": "code",
   "execution_count": 22,
   "metadata": {},
   "outputs": [
    {
     "data": {
      "text/plain": [
       "0.5701670588235295"
      ]
     },
     "execution_count": 22,
     "metadata": {},
     "output_type": "execute_result"
    }
   ],
   "source": [
    "redpartofapple = Float64.(red.(apple))\n",
    "mean(redpartofapple)"
   ]
  },
  {
   "cell_type": "code",
   "execution_count": 23,
   "metadata": {},
   "outputs": [],
   "source": [
    "using Plots"
   ]
  },
  {
   "cell_type": "code",
   "execution_count": 24,
   "metadata": {},
   "outputs": [
    {
     "data": {
      "text/plain": [
       "Plots.GRBackend()"
      ]
     },
     "execution_count": 24,
     "metadata": {},
     "output_type": "execute_result"
    }
   ],
   "source": [
    "gr()"
   ]
  },
  {
   "cell_type": "code",
   "execution_count": 25,
   "metadata": {},
   "outputs": [
    {
     "data": {
      "image/svg+xml": [
       "<?xml version=\"1.0\" encoding=\"utf-8\"?>\n",
       "<svg xmlns=\"http://www.w3.org/2000/svg\" xmlns:xlink=\"http://www.w3.org/1999/xlink\" width=\"600\" height=\"400\" viewBox=\"0 0 2400 1600\">\n",
       "<defs>\n",
       "  <clipPath id=\"clip700\">\n",
       "    <rect x=\"0\" y=\"0\" width=\"2400\" height=\"1600\"/>\n",
       "  </clipPath>\n",
       "</defs>\n",
       "<path clip-path=\"url(#clip700)\" d=\"\n",
       "M0 1600 L2400 1600 L2400 0 L0 0  Z\n",
       "  \" fill=\"#ffffff\" fill-rule=\"evenodd\" fill-opacity=\"1\"/>\n",
       "<defs>\n",
       "  <clipPath id=\"clip701\">\n",
       "    <rect x=\"480\" y=\"0\" width=\"1681\" height=\"1600\"/>\n",
       "  </clipPath>\n",
       "</defs>\n",
       "<path clip-path=\"url(#clip700)\" d=\"\n",
       "M199.283 1486.45 L2352.76 1486.45 L2352.76 47.2441 L199.283 47.2441  Z\n",
       "  \" fill=\"#ffffff\" fill-rule=\"evenodd\" fill-opacity=\"1\"/>\n",
       "<defs>\n",
       "  <clipPath id=\"clip702\">\n",
       "    <rect x=\"199\" y=\"47\" width=\"2154\" height=\"1440\"/>\n",
       "  </clipPath>\n",
       "</defs>\n",
       "<polyline clip-path=\"url(#clip702)\" style=\"stroke:#000000; stroke-linecap:butt; stroke-linejoin:round; stroke-width:2; stroke-opacity:0.1; fill:none\" points=\"\n",
       "  317.728,1486.45 317.728,47.2441 \n",
       "  \"/>\n",
       "<polyline clip-path=\"url(#clip702)\" style=\"stroke:#000000; stroke-linecap:butt; stroke-linejoin:round; stroke-width:2; stroke-opacity:0.1; fill:none\" points=\"\n",
       "  774.057,1486.45 774.057,47.2441 \n",
       "  \"/>\n",
       "<polyline clip-path=\"url(#clip702)\" style=\"stroke:#000000; stroke-linecap:butt; stroke-linejoin:round; stroke-width:2; stroke-opacity:0.1; fill:none\" points=\"\n",
       "  1230.39,1486.45 1230.39,47.2441 \n",
       "  \"/>\n",
       "<polyline clip-path=\"url(#clip702)\" style=\"stroke:#000000; stroke-linecap:butt; stroke-linejoin:round; stroke-width:2; stroke-opacity:0.1; fill:none\" points=\"\n",
       "  1686.72,1486.45 1686.72,47.2441 \n",
       "  \"/>\n",
       "<polyline clip-path=\"url(#clip702)\" style=\"stroke:#000000; stroke-linecap:butt; stroke-linejoin:round; stroke-width:2; stroke-opacity:0.1; fill:none\" points=\"\n",
       "  2143.05,1486.45 2143.05,47.2441 \n",
       "  \"/>\n",
       "<polyline clip-path=\"url(#clip700)\" style=\"stroke:#000000; stroke-linecap:butt; stroke-linejoin:round; stroke-width:4; stroke-opacity:1; fill:none\" points=\"\n",
       "  199.283,1486.45 2352.76,1486.45 \n",
       "  \"/>\n",
       "<polyline clip-path=\"url(#clip700)\" style=\"stroke:#000000; stroke-linecap:butt; stroke-linejoin:round; stroke-width:4; stroke-opacity:1; fill:none\" points=\"\n",
       "  317.728,1486.45 317.728,1469.18 \n",
       "  \"/>\n",
       "<polyline clip-path=\"url(#clip700)\" style=\"stroke:#000000; stroke-linecap:butt; stroke-linejoin:round; stroke-width:4; stroke-opacity:1; fill:none\" points=\"\n",
       "  774.057,1486.45 774.057,1469.18 \n",
       "  \"/>\n",
       "<polyline clip-path=\"url(#clip700)\" style=\"stroke:#000000; stroke-linecap:butt; stroke-linejoin:round; stroke-width:4; stroke-opacity:1; fill:none\" points=\"\n",
       "  1230.39,1486.45 1230.39,1469.18 \n",
       "  \"/>\n",
       "<polyline clip-path=\"url(#clip700)\" style=\"stroke:#000000; stroke-linecap:butt; stroke-linejoin:round; stroke-width:4; stroke-opacity:1; fill:none\" points=\"\n",
       "  1686.72,1486.45 1686.72,1469.18 \n",
       "  \"/>\n",
       "<polyline clip-path=\"url(#clip700)\" style=\"stroke:#000000; stroke-linecap:butt; stroke-linejoin:round; stroke-width:4; stroke-opacity:1; fill:none\" points=\"\n",
       "  2143.05,1486.45 2143.05,1469.18 \n",
       "  \"/>\n",
       "<path clip-path=\"url(#clip700)\" d=\"M280.031 1515.64 Q276.42 1515.64 274.592 1519.2 Q272.786 1522.75 272.786 1529.87 Q272.786 1536.98 274.592 1540.55 Q276.42 1544.09 280.031 1544.09 Q283.666 1544.09 285.471 1540.55 Q287.3 1536.98 287.3 1529.87 Q287.3 1522.75 285.471 1519.2 Q283.666 1515.64 280.031 1515.64 M280.031 1511.93 Q285.842 1511.93 288.897 1516.54 Q291.976 1521.12 291.976 1529.87 Q291.976 1538.6 288.897 1543.21 Q285.842 1547.79 280.031 1547.79 Q274.221 1547.79 271.143 1543.21 Q268.087 1538.6 268.087 1529.87 Q268.087 1521.12 271.143 1516.54 Q274.221 1511.93 280.031 1511.93 Z\" fill=\"#000000\" fill-rule=\"evenodd\" fill-opacity=\"1\" /><path clip-path=\"url(#clip700)\" d=\"M300.193 1541.24 L305.078 1541.24 L305.078 1547.12 L300.193 1547.12 L300.193 1541.24 Z\" fill=\"#000000\" fill-rule=\"evenodd\" fill-opacity=\"1\" /><path clip-path=\"url(#clip700)\" d=\"M325.263 1515.64 Q321.652 1515.64 319.823 1519.2 Q318.017 1522.75 318.017 1529.87 Q318.017 1536.98 319.823 1540.55 Q321.652 1544.09 325.263 1544.09 Q328.897 1544.09 330.702 1540.55 Q332.531 1536.98 332.531 1529.87 Q332.531 1522.75 330.702 1519.2 Q328.897 1515.64 325.263 1515.64 M325.263 1511.93 Q331.073 1511.93 334.128 1516.54 Q337.207 1521.12 337.207 1529.87 Q337.207 1538.6 334.128 1543.21 Q331.073 1547.79 325.263 1547.79 Q319.453 1547.79 316.374 1543.21 Q313.318 1538.6 313.318 1529.87 Q313.318 1521.12 316.374 1516.54 Q319.453 1511.93 325.263 1511.93 Z\" fill=\"#000000\" fill-rule=\"evenodd\" fill-opacity=\"1\" /><path clip-path=\"url(#clip700)\" d=\"M355.425 1515.64 Q351.813 1515.64 349.985 1519.2 Q348.179 1522.75 348.179 1529.87 Q348.179 1536.98 349.985 1540.55 Q351.813 1544.09 355.425 1544.09 Q359.059 1544.09 360.864 1540.55 Q362.693 1536.98 362.693 1529.87 Q362.693 1522.75 360.864 1519.2 Q359.059 1515.64 355.425 1515.64 M355.425 1511.93 Q361.235 1511.93 364.29 1516.54 Q367.369 1521.12 367.369 1529.87 Q367.369 1538.6 364.29 1543.21 Q361.235 1547.79 355.425 1547.79 Q349.614 1547.79 346.536 1543.21 Q343.48 1538.6 343.48 1529.87 Q343.48 1521.12 346.536 1516.54 Q349.614 1511.93 355.425 1511.93 Z\" fill=\"#000000\" fill-rule=\"evenodd\" fill-opacity=\"1\" /><path clip-path=\"url(#clip700)\" d=\"M736.858 1515.64 Q733.247 1515.64 731.419 1519.2 Q729.613 1522.75 729.613 1529.87 Q729.613 1536.98 731.419 1540.55 Q733.247 1544.09 736.858 1544.09 Q740.493 1544.09 742.298 1540.55 Q744.127 1536.98 744.127 1529.87 Q744.127 1522.75 742.298 1519.2 Q740.493 1515.64 736.858 1515.64 M736.858 1511.93 Q742.669 1511.93 745.724 1516.54 Q748.803 1521.12 748.803 1529.87 Q748.803 1538.6 745.724 1543.21 Q742.669 1547.79 736.858 1547.79 Q731.048 1547.79 727.97 1543.21 Q724.914 1538.6 724.914 1529.87 Q724.914 1521.12 727.97 1516.54 Q731.048 1511.93 736.858 1511.93 Z\" fill=\"#000000\" fill-rule=\"evenodd\" fill-opacity=\"1\" /><path clip-path=\"url(#clip700)\" d=\"M757.02 1541.24 L761.905 1541.24 L761.905 1547.12 L757.02 1547.12 L757.02 1541.24 Z\" fill=\"#000000\" fill-rule=\"evenodd\" fill-opacity=\"1\" /><path clip-path=\"url(#clip700)\" d=\"M776.117 1543.18 L792.437 1543.18 L792.437 1547.12 L770.493 1547.12 L770.493 1543.18 Q773.155 1540.43 777.738 1535.8 Q782.344 1531.15 783.525 1529.81 Q785.77 1527.28 786.65 1525.55 Q787.553 1523.79 787.553 1522.1 Q787.553 1519.34 785.608 1517.61 Q783.687 1515.87 780.585 1515.87 Q778.386 1515.87 775.932 1516.63 Q773.502 1517.4 770.724 1518.95 L770.724 1514.23 Q773.548 1513.09 776.002 1512.51 Q778.455 1511.93 780.492 1511.93 Q785.863 1511.93 789.057 1514.62 Q792.252 1517.31 792.252 1521.8 Q792.252 1523.93 791.441 1525.85 Q790.654 1527.74 788.548 1530.34 Q787.969 1531.01 784.867 1534.23 Q781.766 1537.42 776.117 1543.18 Z\" fill=\"#000000\" fill-rule=\"evenodd\" fill-opacity=\"1\" /><path clip-path=\"url(#clip700)\" d=\"M802.298 1512.56 L820.654 1512.56 L820.654 1516.5 L806.58 1516.5 L806.58 1524.97 Q807.599 1524.62 808.617 1524.46 Q809.636 1524.27 810.654 1524.27 Q816.441 1524.27 819.821 1527.44 Q823.201 1530.62 823.201 1536.03 Q823.201 1541.61 819.728 1544.71 Q816.256 1547.79 809.937 1547.79 Q807.761 1547.79 805.492 1547.42 Q803.247 1547.05 800.84 1546.31 L800.84 1541.61 Q802.923 1542.74 805.145 1543.3 Q807.367 1543.86 809.844 1543.86 Q813.849 1543.86 816.187 1541.75 Q818.525 1539.64 818.525 1536.03 Q818.525 1532.42 816.187 1530.31 Q813.849 1528.21 809.844 1528.21 Q807.969 1528.21 806.094 1528.62 Q804.242 1529.04 802.298 1529.92 L802.298 1512.56 Z\" fill=\"#000000\" fill-rule=\"evenodd\" fill-opacity=\"1\" /><path clip-path=\"url(#clip700)\" d=\"M1192.69 1515.64 Q1189.08 1515.64 1187.25 1519.2 Q1185.44 1522.75 1185.44 1529.87 Q1185.44 1536.98 1187.25 1540.55 Q1189.08 1544.09 1192.69 1544.09 Q1196.32 1544.09 1198.13 1540.55 Q1199.96 1536.98 1199.96 1529.87 Q1199.96 1522.75 1198.13 1519.2 Q1196.32 1515.64 1192.69 1515.64 M1192.69 1511.93 Q1198.5 1511.93 1201.56 1516.54 Q1204.63 1521.12 1204.63 1529.87 Q1204.63 1538.6 1201.56 1543.21 Q1198.5 1547.79 1192.69 1547.79 Q1186.88 1547.79 1183.8 1543.21 Q1180.75 1538.6 1180.75 1529.87 Q1180.75 1521.12 1183.8 1516.54 Q1186.88 1511.93 1192.69 1511.93 Z\" fill=\"#000000\" fill-rule=\"evenodd\" fill-opacity=\"1\" /><path clip-path=\"url(#clip700)\" d=\"M1212.85 1541.24 L1217.74 1541.24 L1217.74 1547.12 L1212.85 1547.12 L1212.85 1541.24 Z\" fill=\"#000000\" fill-rule=\"evenodd\" fill-opacity=\"1\" /><path clip-path=\"url(#clip700)\" d=\"M1227.97 1512.56 L1246.32 1512.56 L1246.32 1516.5 L1232.25 1516.5 L1232.25 1524.97 Q1233.27 1524.62 1234.29 1524.46 Q1235.31 1524.27 1236.32 1524.27 Q1242.11 1524.27 1245.49 1527.44 Q1248.87 1530.62 1248.87 1536.03 Q1248.87 1541.61 1245.4 1544.71 Q1241.93 1547.79 1235.61 1547.79 Q1233.43 1547.79 1231.16 1547.42 Q1228.92 1547.05 1226.51 1546.31 L1226.51 1541.61 Q1228.59 1542.74 1230.81 1543.3 Q1233.04 1543.86 1235.51 1543.86 Q1239.52 1543.86 1241.86 1541.75 Q1244.19 1539.64 1244.19 1536.03 Q1244.19 1532.42 1241.86 1530.31 Q1239.52 1528.21 1235.51 1528.21 Q1233.64 1528.21 1231.76 1528.62 Q1229.91 1529.04 1227.97 1529.92 L1227.97 1512.56 Z\" fill=\"#000000\" fill-rule=\"evenodd\" fill-opacity=\"1\" /><path clip-path=\"url(#clip700)\" d=\"M1268.08 1515.64 Q1264.47 1515.64 1262.64 1519.2 Q1260.84 1522.75 1260.84 1529.87 Q1260.84 1536.98 1262.64 1540.55 Q1264.47 1544.09 1268.08 1544.09 Q1271.72 1544.09 1273.52 1540.55 Q1275.35 1536.98 1275.35 1529.87 Q1275.35 1522.75 1273.52 1519.2 Q1271.72 1515.64 1268.08 1515.64 M1268.08 1511.93 Q1273.89 1511.93 1276.95 1516.54 Q1280.03 1521.12 1280.03 1529.87 Q1280.03 1538.6 1276.95 1543.21 Q1273.89 1547.79 1268.08 1547.79 Q1262.27 1547.79 1259.19 1543.21 Q1256.14 1538.6 1256.14 1529.87 Q1256.14 1521.12 1259.19 1516.54 Q1262.27 1511.93 1268.08 1511.93 Z\" fill=\"#000000\" fill-rule=\"evenodd\" fill-opacity=\"1\" /><path clip-path=\"url(#clip700)\" d=\"M1649.52 1515.64 Q1645.91 1515.64 1644.08 1519.2 Q1642.27 1522.75 1642.27 1529.87 Q1642.27 1536.98 1644.08 1540.55 Q1645.91 1544.09 1649.52 1544.09 Q1653.15 1544.09 1654.96 1540.55 Q1656.79 1536.98 1656.79 1529.87 Q1656.79 1522.75 1654.96 1519.2 Q1653.15 1515.64 1649.52 1515.64 M1649.52 1511.93 Q1655.33 1511.93 1658.38 1516.54 Q1661.46 1521.12 1661.46 1529.87 Q1661.46 1538.6 1658.38 1543.21 Q1655.33 1547.79 1649.52 1547.79 Q1643.71 1547.79 1640.63 1543.21 Q1637.57 1538.6 1637.57 1529.87 Q1637.57 1521.12 1640.63 1516.54 Q1643.71 1511.93 1649.52 1511.93 Z\" fill=\"#000000\" fill-rule=\"evenodd\" fill-opacity=\"1\" /><path clip-path=\"url(#clip700)\" d=\"M1669.68 1541.24 L1674.56 1541.24 L1674.56 1547.12 L1669.68 1547.12 L1669.68 1541.24 Z\" fill=\"#000000\" fill-rule=\"evenodd\" fill-opacity=\"1\" /><path clip-path=\"url(#clip700)\" d=\"M1683.57 1512.56 L1705.79 1512.56 L1705.79 1514.55 L1693.24 1547.12 L1688.36 1547.12 L1700.16 1516.5 L1683.57 1516.5 L1683.57 1512.56 Z\" fill=\"#000000\" fill-rule=\"evenodd\" fill-opacity=\"1\" /><path clip-path=\"url(#clip700)\" d=\"M1714.96 1512.56 L1733.31 1512.56 L1733.31 1516.5 L1719.24 1516.5 L1719.24 1524.97 Q1720.26 1524.62 1721.28 1524.46 Q1722.29 1524.27 1723.31 1524.27 Q1729.1 1524.27 1732.48 1527.44 Q1735.86 1530.62 1735.86 1536.03 Q1735.86 1541.61 1732.39 1544.71 Q1728.91 1547.79 1722.6 1547.79 Q1720.42 1547.79 1718.15 1547.42 Q1715.91 1547.05 1713.5 1546.31 L1713.5 1541.61 Q1715.58 1542.74 1717.8 1543.3 Q1720.03 1543.86 1722.5 1543.86 Q1726.51 1543.86 1728.85 1541.75 Q1731.18 1539.64 1731.18 1536.03 Q1731.18 1532.42 1728.85 1530.31 Q1726.51 1528.21 1722.5 1528.21 Q1720.63 1528.21 1718.75 1528.62 Q1716.9 1529.04 1714.96 1529.92 L1714.96 1512.56 Z\" fill=\"#000000\" fill-rule=\"evenodd\" fill-opacity=\"1\" /><path clip-path=\"url(#clip700)\" d=\"M2095.12 1543.18 L2102.76 1543.18 L2102.76 1516.82 L2094.45 1518.49 L2094.45 1514.23 L2102.71 1512.56 L2107.39 1512.56 L2107.39 1543.18 L2115.02 1543.18 L2115.02 1547.12 L2095.12 1547.12 L2095.12 1543.18 Z\" fill=\"#000000\" fill-rule=\"evenodd\" fill-opacity=\"1\" /><path clip-path=\"url(#clip700)\" d=\"M2124.47 1541.24 L2129.35 1541.24 L2129.35 1547.12 L2124.47 1547.12 L2124.47 1541.24 Z\" fill=\"#000000\" fill-rule=\"evenodd\" fill-opacity=\"1\" /><path clip-path=\"url(#clip700)\" d=\"M2149.54 1515.64 Q2145.93 1515.64 2144.1 1519.2 Q2142.29 1522.75 2142.29 1529.87 Q2142.29 1536.98 2144.1 1540.55 Q2145.93 1544.09 2149.54 1544.09 Q2153.17 1544.09 2154.98 1540.55 Q2156.81 1536.98 2156.81 1529.87 Q2156.81 1522.75 2154.98 1519.2 Q2153.17 1515.64 2149.54 1515.64 M2149.54 1511.93 Q2155.35 1511.93 2158.4 1516.54 Q2161.48 1521.12 2161.48 1529.87 Q2161.48 1538.6 2158.4 1543.21 Q2155.35 1547.79 2149.54 1547.79 Q2143.73 1547.79 2140.65 1543.21 Q2137.59 1538.6 2137.59 1529.87 Q2137.59 1521.12 2140.65 1516.54 Q2143.73 1511.93 2149.54 1511.93 Z\" fill=\"#000000\" fill-rule=\"evenodd\" fill-opacity=\"1\" /><path clip-path=\"url(#clip700)\" d=\"M2179.7 1515.64 Q2176.09 1515.64 2174.26 1519.2 Q2172.45 1522.75 2172.45 1529.87 Q2172.45 1536.98 2174.26 1540.55 Q2176.09 1544.09 2179.7 1544.09 Q2183.33 1544.09 2185.14 1540.55 Q2186.97 1536.98 2186.97 1529.87 Q2186.97 1522.75 2185.14 1519.2 Q2183.33 1515.64 2179.7 1515.64 M2179.7 1511.93 Q2185.51 1511.93 2188.57 1516.54 Q2191.64 1521.12 2191.64 1529.87 Q2191.64 1538.6 2188.57 1543.21 Q2185.51 1547.79 2179.7 1547.79 Q2173.89 1547.79 2170.81 1543.21 Q2167.76 1538.6 2167.76 1529.87 Q2167.76 1521.12 2170.81 1516.54 Q2173.89 1511.93 2179.7 1511.93 Z\" fill=\"#000000\" fill-rule=\"evenodd\" fill-opacity=\"1\" /><polyline clip-path=\"url(#clip702)\" style=\"stroke:#000000; stroke-linecap:butt; stroke-linejoin:round; stroke-width:2; stroke-opacity:0.1; fill:none\" points=\"\n",
       "  199.283,1445.72 2352.76,1445.72 \n",
       "  \"/>\n",
       "<polyline clip-path=\"url(#clip702)\" style=\"stroke:#000000; stroke-linecap:butt; stroke-linejoin:round; stroke-width:2; stroke-opacity:0.1; fill:none\" points=\"\n",
       "  199.283,1241.08 2352.76,1241.08 \n",
       "  \"/>\n",
       "<polyline clip-path=\"url(#clip702)\" style=\"stroke:#000000; stroke-linecap:butt; stroke-linejoin:round; stroke-width:2; stroke-opacity:0.1; fill:none\" points=\"\n",
       "  199.283,1036.45 2352.76,1036.45 \n",
       "  \"/>\n",
       "<polyline clip-path=\"url(#clip702)\" style=\"stroke:#000000; stroke-linecap:butt; stroke-linejoin:round; stroke-width:2; stroke-opacity:0.1; fill:none\" points=\"\n",
       "  199.283,831.817 2352.76,831.817 \n",
       "  \"/>\n",
       "<polyline clip-path=\"url(#clip702)\" style=\"stroke:#000000; stroke-linecap:butt; stroke-linejoin:round; stroke-width:2; stroke-opacity:0.1; fill:none\" points=\"\n",
       "  199.283,627.184 2352.76,627.184 \n",
       "  \"/>\n",
       "<polyline clip-path=\"url(#clip702)\" style=\"stroke:#000000; stroke-linecap:butt; stroke-linejoin:round; stroke-width:2; stroke-opacity:0.1; fill:none\" points=\"\n",
       "  199.283,422.551 2352.76,422.551 \n",
       "  \"/>\n",
       "<polyline clip-path=\"url(#clip702)\" style=\"stroke:#000000; stroke-linecap:butt; stroke-linejoin:round; stroke-width:2; stroke-opacity:0.1; fill:none\" points=\"\n",
       "  199.283,217.918 2352.76,217.918 \n",
       "  \"/>\n",
       "<polyline clip-path=\"url(#clip700)\" style=\"stroke:#000000; stroke-linecap:butt; stroke-linejoin:round; stroke-width:4; stroke-opacity:1; fill:none\" points=\"\n",
       "  199.283,1486.45 199.283,47.2441 \n",
       "  \"/>\n",
       "<polyline clip-path=\"url(#clip700)\" style=\"stroke:#000000; stroke-linecap:butt; stroke-linejoin:round; stroke-width:4; stroke-opacity:1; fill:none\" points=\"\n",
       "  199.283,1445.72 225.125,1445.72 \n",
       "  \"/>\n",
       "<polyline clip-path=\"url(#clip700)\" style=\"stroke:#000000; stroke-linecap:butt; stroke-linejoin:round; stroke-width:4; stroke-opacity:1; fill:none\" points=\"\n",
       "  199.283,1241.08 225.125,1241.08 \n",
       "  \"/>\n",
       "<polyline clip-path=\"url(#clip700)\" style=\"stroke:#000000; stroke-linecap:butt; stroke-linejoin:round; stroke-width:4; stroke-opacity:1; fill:none\" points=\"\n",
       "  199.283,1036.45 225.125,1036.45 \n",
       "  \"/>\n",
       "<polyline clip-path=\"url(#clip700)\" style=\"stroke:#000000; stroke-linecap:butt; stroke-linejoin:round; stroke-width:4; stroke-opacity:1; fill:none\" points=\"\n",
       "  199.283,831.817 225.125,831.817 \n",
       "  \"/>\n",
       "<polyline clip-path=\"url(#clip700)\" style=\"stroke:#000000; stroke-linecap:butt; stroke-linejoin:round; stroke-width:4; stroke-opacity:1; fill:none\" points=\"\n",
       "  199.283,627.184 225.125,627.184 \n",
       "  \"/>\n",
       "<polyline clip-path=\"url(#clip700)\" style=\"stroke:#000000; stroke-linecap:butt; stroke-linejoin:round; stroke-width:4; stroke-opacity:1; fill:none\" points=\"\n",
       "  199.283,422.551 225.125,422.551 \n",
       "  \"/>\n",
       "<polyline clip-path=\"url(#clip700)\" style=\"stroke:#000000; stroke-linecap:butt; stroke-linejoin:round; stroke-width:4; stroke-opacity:1; fill:none\" points=\"\n",
       "  199.283,217.918 225.125,217.918 \n",
       "  \"/>\n",
       "<path clip-path=\"url(#clip700)\" d=\"M151.339 1431.51 Q147.728 1431.51 145.899 1435.08 Q144.093 1438.62 144.093 1445.75 Q144.093 1452.86 145.899 1456.42 Q147.728 1459.96 151.339 1459.96 Q154.973 1459.96 156.779 1456.42 Q158.607 1452.86 158.607 1445.75 Q158.607 1438.62 156.779 1435.08 Q154.973 1431.51 151.339 1431.51 M151.339 1427.81 Q157.149 1427.81 160.205 1432.42 Q163.283 1437 163.283 1445.75 Q163.283 1454.48 160.205 1459.08 Q157.149 1463.67 151.339 1463.67 Q145.529 1463.67 142.45 1459.08 Q139.394 1454.48 139.394 1445.75 Q139.394 1437 142.45 1432.42 Q145.529 1427.81 151.339 1427.81 Z\" fill=\"#000000\" fill-rule=\"evenodd\" fill-opacity=\"1\" /><path clip-path=\"url(#clip700)\" d=\"M85.0429 1254.43 L101.362 1254.43 L101.362 1258.36 L79.4179 1258.36 L79.4179 1254.43 Q82.0799 1251.67 86.6632 1247.04 Q91.2697 1242.39 92.4502 1241.05 Q94.6956 1238.52 95.5752 1236.79 Q96.478 1235.03 96.478 1233.34 Q96.478 1230.59 94.5336 1228.85 Q92.6123 1227.11 89.5104 1227.11 Q87.3114 1227.11 84.8577 1227.88 Q82.4271 1228.64 79.6494 1230.19 L79.6494 1225.47 Q82.4734 1224.34 84.9271 1223.76 Q87.3808 1223.18 89.4178 1223.18 Q94.7882 1223.18 97.9826 1225.86 Q101.177 1228.55 101.177 1233.04 Q101.177 1235.17 100.367 1237.09 Q99.5798 1238.99 97.4734 1241.58 Q96.8947 1242.25 93.7928 1245.47 Q90.691 1248.66 85.0429 1254.43 Z\" fill=\"#000000\" fill-rule=\"evenodd\" fill-opacity=\"1\" /><path clip-path=\"url(#clip700)\" d=\"M121.177 1226.88 Q117.566 1226.88 115.737 1230.45 Q113.932 1233.99 113.932 1241.12 Q113.932 1248.22 115.737 1251.79 Q117.566 1255.33 121.177 1255.33 Q124.811 1255.33 126.617 1251.79 Q128.445 1248.22 128.445 1241.12 Q128.445 1233.99 126.617 1230.45 Q124.811 1226.88 121.177 1226.88 M121.177 1223.18 Q126.987 1223.18 130.043 1227.78 Q133.121 1232.37 133.121 1241.12 Q133.121 1249.84 130.043 1254.45 Q126.987 1259.03 121.177 1259.03 Q115.367 1259.03 112.288 1254.45 Q109.233 1249.84 109.233 1241.12 Q109.233 1232.37 112.288 1227.78 Q115.367 1223.18 121.177 1223.18 Z\" fill=\"#000000\" fill-rule=\"evenodd\" fill-opacity=\"1\" /><path clip-path=\"url(#clip700)\" d=\"M151.339 1226.88 Q147.728 1226.88 145.899 1230.45 Q144.093 1233.99 144.093 1241.12 Q144.093 1248.22 145.899 1251.79 Q147.728 1255.33 151.339 1255.33 Q154.973 1255.33 156.779 1251.79 Q158.607 1248.22 158.607 1241.12 Q158.607 1233.99 156.779 1230.45 Q154.973 1226.88 151.339 1226.88 M151.339 1223.18 Q157.149 1223.18 160.205 1227.78 Q163.283 1232.37 163.283 1241.12 Q163.283 1249.84 160.205 1254.45 Q157.149 1259.03 151.339 1259.03 Q145.529 1259.03 142.45 1254.45 Q139.394 1249.84 139.394 1241.12 Q139.394 1232.37 142.45 1227.78 Q145.529 1223.18 151.339 1223.18 Z\" fill=\"#000000\" fill-rule=\"evenodd\" fill-opacity=\"1\" /><path clip-path=\"url(#clip700)\" d=\"M93.8623 1023.24 L82.0568 1041.69 L93.8623 1041.69 L93.8623 1023.24 M92.6354 1019.17 L98.515 1019.17 L98.515 1041.69 L103.446 1041.69 L103.446 1045.58 L98.515 1045.58 L98.515 1053.73 L93.8623 1053.73 L93.8623 1045.58 L78.2605 1045.58 L78.2605 1041.07 L92.6354 1019.17 Z\" fill=\"#000000\" fill-rule=\"evenodd\" fill-opacity=\"1\" /><path clip-path=\"url(#clip700)\" d=\"M121.177 1022.25 Q117.566 1022.25 115.737 1025.81 Q113.932 1029.35 113.932 1036.48 Q113.932 1043.59 115.737 1047.16 Q117.566 1050.7 121.177 1050.7 Q124.811 1050.7 126.617 1047.16 Q128.445 1043.59 128.445 1036.48 Q128.445 1029.35 126.617 1025.81 Q124.811 1022.25 121.177 1022.25 M121.177 1018.54 Q126.987 1018.54 130.043 1023.15 Q133.121 1027.73 133.121 1036.48 Q133.121 1045.21 130.043 1049.82 Q126.987 1054.4 121.177 1054.4 Q115.367 1054.4 112.288 1049.82 Q109.233 1045.21 109.233 1036.48 Q109.233 1027.73 112.288 1023.15 Q115.367 1018.54 121.177 1018.54 Z\" fill=\"#000000\" fill-rule=\"evenodd\" fill-opacity=\"1\" /><path clip-path=\"url(#clip700)\" d=\"M151.339 1022.25 Q147.728 1022.25 145.899 1025.81 Q144.093 1029.35 144.093 1036.48 Q144.093 1043.59 145.899 1047.16 Q147.728 1050.7 151.339 1050.7 Q154.973 1050.7 156.779 1047.16 Q158.607 1043.59 158.607 1036.48 Q158.607 1029.35 156.779 1025.81 Q154.973 1022.25 151.339 1022.25 M151.339 1018.54 Q157.149 1018.54 160.205 1023.15 Q163.283 1027.73 163.283 1036.48 Q163.283 1045.21 160.205 1049.82 Q157.149 1054.4 151.339 1054.4 Q145.529 1054.4 142.45 1049.82 Q139.394 1045.21 139.394 1036.48 Q139.394 1027.73 142.45 1023.15 Q145.529 1018.54 151.339 1018.54 Z\" fill=\"#000000\" fill-rule=\"evenodd\" fill-opacity=\"1\" /><path clip-path=\"url(#clip700)\" d=\"M91.5938 829.954 Q88.4456 829.954 86.5938 832.106 Q84.7651 834.259 84.7651 838.009 Q84.7651 841.736 86.5938 843.912 Q88.4456 846.065 91.5938 846.065 Q94.7419 846.065 96.5706 843.912 Q98.4224 841.736 98.4224 838.009 Q98.4224 834.259 96.5706 832.106 Q94.7419 829.954 91.5938 829.954 M100.876 815.301 L100.876 819.56 Q99.1169 818.727 97.3113 818.287 Q95.5289 817.847 93.7697 817.847 Q89.1401 817.847 86.6864 820.972 Q84.2558 824.097 83.9086 830.416 Q85.2743 828.403 87.3345 827.338 Q89.3947 826.25 91.8715 826.25 Q97.0798 826.25 100.089 829.421 Q103.121 832.569 103.121 838.009 Q103.121 843.333 99.9733 846.551 Q96.8252 849.768 91.5938 849.768 Q85.5984 849.768 82.4271 845.185 Q79.2559 840.578 79.2559 831.852 Q79.2559 823.657 83.1447 818.796 Q87.0336 813.912 93.5845 813.912 Q95.3437 813.912 97.1261 814.259 Q98.9317 814.606 100.876 815.301 Z\" fill=\"#000000\" fill-rule=\"evenodd\" fill-opacity=\"1\" /><path clip-path=\"url(#clip700)\" d=\"M121.177 817.616 Q117.566 817.616 115.737 821.18 Q113.932 824.722 113.932 831.852 Q113.932 838.958 115.737 842.523 Q117.566 846.065 121.177 846.065 Q124.811 846.065 126.617 842.523 Q128.445 838.958 128.445 831.852 Q128.445 824.722 126.617 821.18 Q124.811 817.616 121.177 817.616 M121.177 813.912 Q126.987 813.912 130.043 818.518 Q133.121 823.102 133.121 831.852 Q133.121 840.578 130.043 845.185 Q126.987 849.768 121.177 849.768 Q115.367 849.768 112.288 845.185 Q109.233 840.578 109.233 831.852 Q109.233 823.102 112.288 818.518 Q115.367 813.912 121.177 813.912 Z\" fill=\"#000000\" fill-rule=\"evenodd\" fill-opacity=\"1\" /><path clip-path=\"url(#clip700)\" d=\"M151.339 817.616 Q147.728 817.616 145.899 821.18 Q144.093 824.722 144.093 831.852 Q144.093 838.958 145.899 842.523 Q147.728 846.065 151.339 846.065 Q154.973 846.065 156.779 842.523 Q158.607 838.958 158.607 831.852 Q158.607 824.722 156.779 821.18 Q154.973 817.616 151.339 817.616 M151.339 813.912 Q157.149 813.912 160.205 818.518 Q163.283 823.102 163.283 831.852 Q163.283 840.578 160.205 845.185 Q157.149 849.768 151.339 849.768 Q145.529 849.768 142.45 845.185 Q139.394 840.578 139.394 831.852 Q139.394 823.102 142.45 818.518 Q145.529 813.912 151.339 813.912 Z\" fill=\"#000000\" fill-rule=\"evenodd\" fill-opacity=\"1\" /><path clip-path=\"url(#clip700)\" d=\"M91.0151 628.052 Q87.6817 628.052 85.7605 629.834 Q83.8623 631.617 83.8623 634.742 Q83.8623 637.867 85.7605 639.649 Q87.6817 641.432 91.0151 641.432 Q94.3484 641.432 96.2697 639.649 Q98.1909 637.844 98.1909 634.742 Q98.1909 631.617 96.2697 629.834 Q94.3715 628.052 91.0151 628.052 M86.3392 626.061 Q83.3299 625.321 81.6401 623.26 Q79.9735 621.2 79.9735 618.237 Q79.9735 614.094 82.9133 611.686 Q85.8762 609.279 91.0151 609.279 Q96.1771 609.279 99.1169 611.686 Q102.057 614.094 102.057 618.237 Q102.057 621.2 100.367 623.26 Q98.7002 625.321 95.7141 626.061 Q99.0937 626.848 100.969 629.14 Q102.867 631.432 102.867 634.742 Q102.867 639.765 99.7882 642.45 Q96.7326 645.135 91.0151 645.135 Q85.2975 645.135 82.2188 642.45 Q79.1633 639.765 79.1633 634.742 Q79.1633 631.432 81.0614 629.14 Q82.9595 626.848 86.3392 626.061 M84.6262 618.677 Q84.6262 621.362 86.2929 622.867 Q87.9827 624.372 91.0151 624.372 Q94.0243 624.372 95.7141 622.867 Q97.4271 621.362 97.4271 618.677 Q97.4271 615.992 95.7141 614.487 Q94.0243 612.983 91.0151 612.983 Q87.9827 612.983 86.2929 614.487 Q84.6262 615.992 84.6262 618.677 Z\" fill=\"#000000\" fill-rule=\"evenodd\" fill-opacity=\"1\" /><path clip-path=\"url(#clip700)\" d=\"M121.177 612.983 Q117.566 612.983 115.737 616.548 Q113.932 620.089 113.932 627.219 Q113.932 634.325 115.737 637.89 Q117.566 641.432 121.177 641.432 Q124.811 641.432 126.617 637.89 Q128.445 634.325 128.445 627.219 Q128.445 620.089 126.617 616.548 Q124.811 612.983 121.177 612.983 M121.177 609.279 Q126.987 609.279 130.043 613.885 Q133.121 618.469 133.121 627.219 Q133.121 635.946 130.043 640.552 Q126.987 645.135 121.177 645.135 Q115.367 645.135 112.288 640.552 Q109.233 635.946 109.233 627.219 Q109.233 618.469 112.288 613.885 Q115.367 609.279 121.177 609.279 Z\" fill=\"#000000\" fill-rule=\"evenodd\" fill-opacity=\"1\" /><path clip-path=\"url(#clip700)\" d=\"M151.339 612.983 Q147.728 612.983 145.899 616.548 Q144.093 620.089 144.093 627.219 Q144.093 634.325 145.899 637.89 Q147.728 641.432 151.339 641.432 Q154.973 641.432 156.779 637.89 Q158.607 634.325 158.607 627.219 Q158.607 620.089 156.779 616.548 Q154.973 612.983 151.339 612.983 M151.339 609.279 Q157.149 609.279 160.205 613.885 Q163.283 618.469 163.283 627.219 Q163.283 635.946 160.205 640.552 Q157.149 645.135 151.339 645.135 Q145.529 645.135 142.45 640.552 Q139.394 635.946 139.394 627.219 Q139.394 618.469 142.45 613.885 Q145.529 609.279 151.339 609.279 Z\" fill=\"#000000\" fill-rule=\"evenodd\" fill-opacity=\"1\" /><path clip-path=\"url(#clip700)\" d=\"M51.6634 435.896 L59.3023 435.896 L59.3023 409.53 L50.9921 411.197 L50.9921 406.938 L59.256 405.271 L63.9319 405.271 L63.9319 435.896 L71.5707 435.896 L71.5707 439.831 L51.6634 439.831 L51.6634 435.896 Z\" fill=\"#000000\" fill-rule=\"evenodd\" fill-opacity=\"1\" /><path clip-path=\"url(#clip700)\" d=\"M91.0151 408.35 Q87.404 408.35 85.5753 411.915 Q83.7697 415.456 83.7697 422.586 Q83.7697 429.692 85.5753 433.257 Q87.404 436.799 91.0151 436.799 Q94.6493 436.799 96.4548 433.257 Q98.2835 429.692 98.2835 422.586 Q98.2835 415.456 96.4548 411.915 Q94.6493 408.35 91.0151 408.35 M91.0151 404.646 Q96.8252 404.646 99.8808 409.253 Q102.959 413.836 102.959 422.586 Q102.959 431.313 99.8808 435.919 Q96.8252 440.502 91.0151 440.502 Q85.2049 440.502 82.1262 435.919 Q79.0707 431.313 79.0707 422.586 Q79.0707 413.836 82.1262 409.253 Q85.2049 404.646 91.0151 404.646 Z\" fill=\"#000000\" fill-rule=\"evenodd\" fill-opacity=\"1\" /><path clip-path=\"url(#clip700)\" d=\"M121.177 408.35 Q117.566 408.35 115.737 411.915 Q113.932 415.456 113.932 422.586 Q113.932 429.692 115.737 433.257 Q117.566 436.799 121.177 436.799 Q124.811 436.799 126.617 433.257 Q128.445 429.692 128.445 422.586 Q128.445 415.456 126.617 411.915 Q124.811 408.35 121.177 408.35 M121.177 404.646 Q126.987 404.646 130.043 409.253 Q133.121 413.836 133.121 422.586 Q133.121 431.313 130.043 435.919 Q126.987 440.502 121.177 440.502 Q115.367 440.502 112.288 435.919 Q109.233 431.313 109.233 422.586 Q109.233 413.836 112.288 409.253 Q115.367 404.646 121.177 404.646 Z\" fill=\"#000000\" fill-rule=\"evenodd\" fill-opacity=\"1\" /><path clip-path=\"url(#clip700)\" d=\"M151.339 408.35 Q147.728 408.35 145.899 411.915 Q144.093 415.456 144.093 422.586 Q144.093 429.692 145.899 433.257 Q147.728 436.799 151.339 436.799 Q154.973 436.799 156.779 433.257 Q158.607 429.692 158.607 422.586 Q158.607 415.456 156.779 411.915 Q154.973 408.35 151.339 408.35 M151.339 404.646 Q157.149 404.646 160.205 409.253 Q163.283 413.836 163.283 422.586 Q163.283 431.313 160.205 435.919 Q157.149 440.502 151.339 440.502 Q145.529 440.502 142.45 435.919 Q139.394 431.313 139.394 422.586 Q139.394 413.836 142.45 409.253 Q145.529 404.646 151.339 404.646 Z\" fill=\"#000000\" fill-rule=\"evenodd\" fill-opacity=\"1\" /><path clip-path=\"url(#clip700)\" d=\"M51.6634 231.263 L59.3023 231.263 L59.3023 204.897 L50.9921 206.564 L50.9921 202.305 L59.256 200.638 L63.9319 200.638 L63.9319 231.263 L71.5707 231.263 L71.5707 235.198 L51.6634 235.198 L51.6634 231.263 Z\" fill=\"#000000\" fill-rule=\"evenodd\" fill-opacity=\"1\" /><path clip-path=\"url(#clip700)\" d=\"M85.0429 231.263 L101.362 231.263 L101.362 235.198 L79.4179 235.198 L79.4179 231.263 Q82.0799 228.508 86.6632 223.879 Q91.2697 219.226 92.4502 217.883 Q94.6956 215.36 95.5752 213.624 Q96.478 211.865 96.478 210.175 Q96.478 207.421 94.5336 205.684 Q92.6123 203.948 89.5104 203.948 Q87.3114 203.948 84.8577 204.712 Q82.4271 205.476 79.6494 207.027 L79.6494 202.305 Q82.4734 201.171 84.9271 200.592 Q87.3808 200.013 89.4178 200.013 Q94.7882 200.013 97.9826 202.698 Q101.177 205.384 101.177 209.874 Q101.177 212.004 100.367 213.925 Q99.5798 215.823 97.4734 218.416 Q96.8947 219.087 93.7928 222.305 Q90.691 225.499 85.0429 231.263 Z\" fill=\"#000000\" fill-rule=\"evenodd\" fill-opacity=\"1\" /><path clip-path=\"url(#clip700)\" d=\"M121.177 203.717 Q117.566 203.717 115.737 207.282 Q113.932 210.823 113.932 217.953 Q113.932 225.059 115.737 228.624 Q117.566 232.166 121.177 232.166 Q124.811 232.166 126.617 228.624 Q128.445 225.059 128.445 217.953 Q128.445 210.823 126.617 207.282 Q124.811 203.717 121.177 203.717 M121.177 200.013 Q126.987 200.013 130.043 204.62 Q133.121 209.203 133.121 217.953 Q133.121 226.68 130.043 231.286 Q126.987 235.869 121.177 235.869 Q115.367 235.869 112.288 231.286 Q109.233 226.68 109.233 217.953 Q109.233 209.203 112.288 204.62 Q115.367 200.013 121.177 200.013 Z\" fill=\"#000000\" fill-rule=\"evenodd\" fill-opacity=\"1\" /><path clip-path=\"url(#clip700)\" d=\"M151.339 203.717 Q147.728 203.717 145.899 207.282 Q144.093 210.823 144.093 217.953 Q144.093 225.059 145.899 228.624 Q147.728 232.166 151.339 232.166 Q154.973 232.166 156.779 228.624 Q158.607 225.059 158.607 217.953 Q158.607 210.823 156.779 207.282 Q154.973 203.717 151.339 203.717 M151.339 200.013 Q157.149 200.013 160.205 204.62 Q163.283 209.203 163.283 217.953 Q163.283 226.68 160.205 231.286 Q157.149 235.869 151.339 235.869 Q145.529 235.869 142.45 231.286 Q139.394 226.68 139.394 217.953 Q139.394 209.203 142.45 204.62 Q145.529 200.013 151.339 200.013 Z\" fill=\"#000000\" fill-rule=\"evenodd\" fill-opacity=\"1\" /><path clip-path=\"url(#clip702)\" d=\"\n",
       "M317.728 1444.69 L317.728 1445.72 L408.994 1445.72 L408.994 1444.69 L317.728 1444.69 L317.728 1444.69  Z\n",
       "  \" fill=\"#ff0000\" fill-rule=\"evenodd\" fill-opacity=\"1\"/>\n",
       "<polyline clip-path=\"url(#clip702)\" style=\"stroke:#000000; stroke-linecap:butt; stroke-linejoin:round; stroke-width:4; stroke-opacity:1; fill:none\" points=\"\n",
       "  317.728,1444.69 317.728,1445.72 408.994,1445.72 408.994,1444.69 317.728,1444.69 \n",
       "  \"/>\n",
       "<path clip-path=\"url(#clip702)\" d=\"\n",
       "M408.994 934.133 L408.994 1445.72 L500.26 1445.72 L500.26 934.133 L408.994 934.133 L408.994 934.133  Z\n",
       "  \" fill=\"#ff0000\" fill-rule=\"evenodd\" fill-opacity=\"1\"/>\n",
       "<polyline clip-path=\"url(#clip702)\" style=\"stroke:#000000; stroke-linecap:butt; stroke-linejoin:round; stroke-width:4; stroke-opacity:1; fill:none\" points=\"\n",
       "  408.994,934.133 408.994,1445.72 500.26,1445.72 500.26,934.133 408.994,934.133 \n",
       "  \"/>\n",
       "<path clip-path=\"url(#clip702)\" d=\"\n",
       "M500.26 939.249 L500.26 1445.72 L591.526 1445.72 L591.526 939.249 L500.26 939.249 L500.26 939.249  Z\n",
       "  \" fill=\"#ff0000\" fill-rule=\"evenodd\" fill-opacity=\"1\"/>\n",
       "<polyline clip-path=\"url(#clip702)\" style=\"stroke:#000000; stroke-linecap:butt; stroke-linejoin:round; stroke-width:4; stroke-opacity:1; fill:none\" points=\"\n",
       "  500.26,939.249 500.26,1445.72 591.526,1445.72 591.526,939.249 500.26,939.249 \n",
       "  \"/>\n",
       "<path clip-path=\"url(#clip702)\" d=\"\n",
       "M591.526 1049.75 L591.526 1445.72 L682.791 1445.72 L682.791 1049.75 L591.526 1049.75 L591.526 1049.75  Z\n",
       "  \" fill=\"#ff0000\" fill-rule=\"evenodd\" fill-opacity=\"1\"/>\n",
       "<polyline clip-path=\"url(#clip702)\" style=\"stroke:#000000; stroke-linecap:butt; stroke-linejoin:round; stroke-width:4; stroke-opacity:1; fill:none\" points=\"\n",
       "  591.526,1049.75 591.526,1445.72 682.791,1445.72 682.791,1049.75 591.526,1049.75 \n",
       "  \"/>\n",
       "<path clip-path=\"url(#clip702)\" d=\"\n",
       "M682.791 1045.66 L682.791 1445.72 L774.057 1445.72 L774.057 1045.66 L682.791 1045.66 L682.791 1045.66  Z\n",
       "  \" fill=\"#ff0000\" fill-rule=\"evenodd\" fill-opacity=\"1\"/>\n",
       "<polyline clip-path=\"url(#clip702)\" style=\"stroke:#000000; stroke-linecap:butt; stroke-linejoin:round; stroke-width:4; stroke-opacity:1; fill:none\" points=\"\n",
       "  682.791,1045.66 682.791,1445.72 774.057,1445.72 774.057,1045.66 682.791,1045.66 \n",
       "  \"/>\n",
       "<path clip-path=\"url(#clip702)\" d=\"\n",
       "M774.057 1029.29 L774.057 1445.72 L865.323 1445.72 L865.323 1029.29 L774.057 1029.29 L774.057 1029.29  Z\n",
       "  \" fill=\"#ff0000\" fill-rule=\"evenodd\" fill-opacity=\"1\"/>\n",
       "<polyline clip-path=\"url(#clip702)\" style=\"stroke:#000000; stroke-linecap:butt; stroke-linejoin:round; stroke-width:4; stroke-opacity:1; fill:none\" points=\"\n",
       "  774.057,1029.29 774.057,1445.72 865.323,1445.72 865.323,1029.29 774.057,1029.29 \n",
       "  \"/>\n",
       "<path clip-path=\"url(#clip702)\" d=\"\n",
       "M865.323 1002.69 L865.323 1445.72 L956.589 1445.72 L956.589 1002.69 L865.323 1002.69 L865.323 1002.69  Z\n",
       "  \" fill=\"#ff0000\" fill-rule=\"evenodd\" fill-opacity=\"1\"/>\n",
       "<polyline clip-path=\"url(#clip702)\" style=\"stroke:#000000; stroke-linecap:butt; stroke-linejoin:round; stroke-width:4; stroke-opacity:1; fill:none\" points=\"\n",
       "  865.323,1002.69 865.323,1445.72 956.589,1445.72 956.589,1002.69 865.323,1002.69 \n",
       "  \"/>\n",
       "<path clip-path=\"url(#clip702)\" d=\"\n",
       "M956.589 964.828 L956.589 1445.72 L1047.85 1445.72 L1047.85 964.828 L956.589 964.828 L956.589 964.828  Z\n",
       "  \" fill=\"#ff0000\" fill-rule=\"evenodd\" fill-opacity=\"1\"/>\n",
       "<polyline clip-path=\"url(#clip702)\" style=\"stroke:#000000; stroke-linecap:butt; stroke-linejoin:round; stroke-width:4; stroke-opacity:1; fill:none\" points=\"\n",
       "  956.589,964.828 956.589,1445.72 1047.85,1445.72 1047.85,964.828 956.589,964.828 \n",
       "  \"/>\n",
       "<path clip-path=\"url(#clip702)\" d=\"\n",
       "M1047.85 876.836 L1047.85 1445.72 L1139.12 1445.72 L1139.12 876.836 L1047.85 876.836 L1047.85 876.836  Z\n",
       "  \" fill=\"#ff0000\" fill-rule=\"evenodd\" fill-opacity=\"1\"/>\n",
       "<polyline clip-path=\"url(#clip702)\" style=\"stroke:#000000; stroke-linecap:butt; stroke-linejoin:round; stroke-width:4; stroke-opacity:1; fill:none\" points=\"\n",
       "  1047.85,876.836 1047.85,1445.72 1139.12,1445.72 1139.12,876.836 1047.85,876.836 \n",
       "  \"/>\n",
       "<path clip-path=\"url(#clip702)\" d=\"\n",
       "M1139.12 846.141 L1139.12 1445.72 L1230.39 1445.72 L1230.39 846.141 L1139.12 846.141 L1139.12 846.141  Z\n",
       "  \" fill=\"#ff0000\" fill-rule=\"evenodd\" fill-opacity=\"1\"/>\n",
       "<polyline clip-path=\"url(#clip702)\" style=\"stroke:#000000; stroke-linecap:butt; stroke-linejoin:round; stroke-width:4; stroke-opacity:1; fill:none\" points=\"\n",
       "  1139.12,846.141 1139.12,1445.72 1230.39,1445.72 1230.39,846.141 1139.12,846.141 \n",
       "  \"/>\n",
       "<path clip-path=\"url(#clip702)\" d=\"\n",
       "M1230.39 699.829 L1230.39 1445.72 L1321.65 1445.72 L1321.65 699.829 L1230.39 699.829 L1230.39 699.829  Z\n",
       "  \" fill=\"#ff0000\" fill-rule=\"evenodd\" fill-opacity=\"1\"/>\n",
       "<polyline clip-path=\"url(#clip702)\" style=\"stroke:#000000; stroke-linecap:butt; stroke-linejoin:round; stroke-width:4; stroke-opacity:1; fill:none\" points=\"\n",
       "  1230.39,699.829 1230.39,1445.72 1321.65,1445.72 1321.65,699.829 1230.39,699.829 \n",
       "  \"/>\n",
       "<path clip-path=\"url(#clip702)\" d=\"\n",
       "M1321.65 631.277 L1321.65 1445.72 L1412.92 1445.72 L1412.92 631.277 L1321.65 631.277 L1321.65 631.277  Z\n",
       "  \" fill=\"#ff0000\" fill-rule=\"evenodd\" fill-opacity=\"1\"/>\n",
       "<polyline clip-path=\"url(#clip702)\" style=\"stroke:#000000; stroke-linecap:butt; stroke-linejoin:round; stroke-width:4; stroke-opacity:1; fill:none\" points=\"\n",
       "  1321.65,631.277 1321.65,1445.72 1412.92,1445.72 1412.92,631.277 1321.65,631.277 \n",
       "  \"/>\n",
       "<path clip-path=\"url(#clip702)\" d=\"\n",
       "M1412.92 692.667 L1412.92 1445.72 L1504.18 1445.72 L1504.18 692.667 L1412.92 692.667 L1412.92 692.667  Z\n",
       "  \" fill=\"#ff0000\" fill-rule=\"evenodd\" fill-opacity=\"1\"/>\n",
       "<polyline clip-path=\"url(#clip702)\" style=\"stroke:#000000; stroke-linecap:butt; stroke-linejoin:round; stroke-width:4; stroke-opacity:1; fill:none\" points=\"\n",
       "  1412.92,692.667 1412.92,1445.72 1504.18,1445.72 1504.18,692.667 1412.92,692.667 \n",
       "  \"/>\n",
       "<path clip-path=\"url(#clip702)\" d=\"\n",
       "M1504.18 939.249 L1504.18 1445.72 L1595.45 1445.72 L1595.45 939.249 L1504.18 939.249 L1504.18 939.249  Z\n",
       "  \" fill=\"#ff0000\" fill-rule=\"evenodd\" fill-opacity=\"1\"/>\n",
       "<polyline clip-path=\"url(#clip702)\" style=\"stroke:#000000; stroke-linecap:butt; stroke-linejoin:round; stroke-width:4; stroke-opacity:1; fill:none\" points=\"\n",
       "  1504.18,939.249 1504.18,1445.72 1595.45,1445.72 1595.45,939.249 1504.18,939.249 \n",
       "  \"/>\n",
       "<path clip-path=\"url(#clip702)\" d=\"\n",
       "M1595.45 1156.16 L1595.45 1445.72 L1686.72 1445.72 L1686.72 1156.16 L1595.45 1156.16 L1595.45 1156.16  Z\n",
       "  \" fill=\"#ff0000\" fill-rule=\"evenodd\" fill-opacity=\"1\"/>\n",
       "<polyline clip-path=\"url(#clip702)\" style=\"stroke:#000000; stroke-linecap:butt; stroke-linejoin:round; stroke-width:4; stroke-opacity:1; fill:none\" points=\"\n",
       "  1595.45,1156.16 1595.45,1445.72 1686.72,1445.72 1686.72,1156.16 1595.45,1156.16 \n",
       "  \"/>\n",
       "<path clip-path=\"url(#clip702)\" d=\"\n",
       "M1686.72 1321.91 L1686.72 1445.72 L1777.98 1445.72 L1777.98 1321.91 L1686.72 1321.91 L1686.72 1321.91  Z\n",
       "  \" fill=\"#ff0000\" fill-rule=\"evenodd\" fill-opacity=\"1\"/>\n",
       "<polyline clip-path=\"url(#clip702)\" style=\"stroke:#000000; stroke-linecap:butt; stroke-linejoin:round; stroke-width:4; stroke-opacity:1; fill:none\" points=\"\n",
       "  1686.72,1321.91 1686.72,1445.72 1777.98,1445.72 1777.98,1321.91 1686.72,1321.91 \n",
       "  \"/>\n",
       "<path clip-path=\"url(#clip702)\" d=\"\n",
       "M1777.98 1363.86 L1777.98 1445.72 L1869.25 1445.72 L1869.25 1363.86 L1777.98 1363.86 L1777.98 1363.86  Z\n",
       "  \" fill=\"#ff0000\" fill-rule=\"evenodd\" fill-opacity=\"1\"/>\n",
       "<polyline clip-path=\"url(#clip702)\" style=\"stroke:#000000; stroke-linecap:butt; stroke-linejoin:round; stroke-width:4; stroke-opacity:1; fill:none\" points=\"\n",
       "  1777.98,1363.86 1777.98,1445.72 1869.25,1445.72 1869.25,1363.86 1777.98,1363.86 \n",
       "  \"/>\n",
       "<path clip-path=\"url(#clip702)\" d=\"\n",
       "M1869.25 1314.75 L1869.25 1445.72 L1960.51 1445.72 L1960.51 1314.75 L1869.25 1314.75 L1869.25 1314.75  Z\n",
       "  \" fill=\"#ff0000\" fill-rule=\"evenodd\" fill-opacity=\"1\"/>\n",
       "<polyline clip-path=\"url(#clip702)\" style=\"stroke:#000000; stroke-linecap:butt; stroke-linejoin:round; stroke-width:4; stroke-opacity:1; fill:none\" points=\"\n",
       "  1869.25,1314.75 1869.25,1445.72 1960.51,1445.72 1960.51,1314.75 1869.25,1314.75 \n",
       "  \"/>\n",
       "<path clip-path=\"url(#clip702)\" d=\"\n",
       "M1960.51 1388.42 L1960.51 1445.72 L2051.78 1445.72 L2051.78 1388.42 L1960.51 1388.42 L1960.51 1388.42  Z\n",
       "  \" fill=\"#ff0000\" fill-rule=\"evenodd\" fill-opacity=\"1\"/>\n",
       "<polyline clip-path=\"url(#clip702)\" style=\"stroke:#000000; stroke-linecap:butt; stroke-linejoin:round; stroke-width:4; stroke-opacity:1; fill:none\" points=\"\n",
       "  1960.51,1388.42 1960.51,1445.72 2051.78,1445.72 2051.78,1388.42 1960.51,1388.42 \n",
       "  \"/>\n",
       "<path clip-path=\"url(#clip702)\" d=\"\n",
       "M2051.78 399.018 L2051.78 1445.72 L2143.05 1445.72 L2143.05 399.018 L2051.78 399.018 L2051.78 399.018  Z\n",
       "  \" fill=\"#ff0000\" fill-rule=\"evenodd\" fill-opacity=\"1\"/>\n",
       "<polyline clip-path=\"url(#clip702)\" style=\"stroke:#000000; stroke-linecap:butt; stroke-linejoin:round; stroke-width:4; stroke-opacity:1; fill:none\" points=\"\n",
       "  2051.78,399.018 2051.78,1445.72 2143.05,1445.72 2143.05,399.018 2051.78,399.018 \n",
       "  \"/>\n",
       "<path clip-path=\"url(#clip702)\" d=\"\n",
       "M2143.05 87.9763 L2143.05 1445.72 L2234.31 1445.72 L2234.31 87.9763 L2143.05 87.9763 L2143.05 87.9763  Z\n",
       "  \" fill=\"#ff0000\" fill-rule=\"evenodd\" fill-opacity=\"1\"/>\n",
       "<polyline clip-path=\"url(#clip702)\" style=\"stroke:#000000; stroke-linecap:butt; stroke-linejoin:round; stroke-width:4; stroke-opacity:1; fill:none\" points=\"\n",
       "  2143.05,87.9763 2143.05,1445.72 2234.31,1445.72 2234.31,87.9763 2143.05,87.9763 \n",
       "  \"/>\n",
       "<path clip-path=\"url(#clip700)\" d=\"\n",
       "M1564.41 198.898 L2280.97 198.898 L2280.97 95.2176 L1564.41 95.2176  Z\n",
       "  \" fill=\"#ffffff\" fill-rule=\"evenodd\" fill-opacity=\"1\"/>\n",
       "<polyline clip-path=\"url(#clip700)\" style=\"stroke:#000000; stroke-linecap:butt; stroke-linejoin:round; stroke-width:4; stroke-opacity:1; fill:none\" points=\"\n",
       "  1564.41,198.898 2280.97,198.898 2280.97,95.2176 1564.41,95.2176 1564.41,198.898 \n",
       "  \"/>\n",
       "<path clip-path=\"url(#clip700)\" d=\"\n",
       "M1588.34 167.794 L1731.9 167.794 L1731.9 126.322 L1588.34 126.322 L1588.34 167.794  Z\n",
       "  \" fill=\"#ff0000\" fill-rule=\"evenodd\" fill-opacity=\"1\"/>\n",
       "<polyline clip-path=\"url(#clip700)\" style=\"stroke:#000000; stroke-linecap:butt; stroke-linejoin:round; stroke-width:4; stroke-opacity:1; fill:none\" points=\"\n",
       "  1588.34,167.794 1731.9,167.794 1731.9,126.322 1588.34,126.322 1588.34,167.794 \n",
       "  \"/>\n",
       "<path clip-path=\"url(#clip700)\" d=\"M1771.01 142.393 Q1770.3 141.977 1769.44 141.791 Q1768.61 141.583 1767.59 141.583 Q1763.98 141.583 1762.03 143.944 Q1760.11 146.282 1760.11 150.68 L1760.11 164.338 L1755.83 164.338 L1755.83 138.412 L1760.11 138.412 L1760.11 142.44 Q1761.45 140.078 1763.61 138.944 Q1765.76 137.787 1768.84 137.787 Q1769.28 137.787 1769.81 137.856 Q1770.34 137.903 1770.99 138.018 L1771.01 142.393 Z\" fill=\"#000000\" fill-rule=\"evenodd\" fill-opacity=\"1\" /><path clip-path=\"url(#clip700)\" d=\"M1796.62 150.31 L1796.62 152.393 L1777.03 152.393 Q1777.31 156.791 1779.67 159.106 Q1782.06 161.398 1786.29 161.398 Q1788.75 161.398 1791.04 160.796 Q1793.35 160.194 1795.62 158.99 L1795.62 163.018 Q1793.33 163.99 1790.92 164.5 Q1788.51 165.009 1786.04 165.009 Q1779.83 165.009 1776.2 161.398 Q1772.59 157.787 1772.59 151.629 Q1772.59 145.264 1776.01 141.537 Q1779.46 137.787 1785.3 137.787 Q1790.53 137.787 1793.56 141.166 Q1796.62 144.523 1796.62 150.31 M1792.36 149.06 Q1792.31 145.565 1790.39 143.481 Q1788.49 141.398 1785.34 141.398 Q1781.78 141.398 1779.63 143.412 Q1777.5 145.426 1777.17 149.083 L1792.36 149.06 Z\" fill=\"#000000\" fill-rule=\"evenodd\" fill-opacity=\"1\" /><path clip-path=\"url(#clip700)\" d=\"M1820.67 142.347 L1820.67 128.319 L1824.93 128.319 L1824.93 164.338 L1820.67 164.338 L1820.67 160.449 Q1819.32 162.763 1817.26 163.898 Q1815.23 165.009 1812.36 165.009 Q1807.66 165.009 1804.69 161.259 Q1801.76 157.509 1801.76 151.398 Q1801.76 145.287 1804.69 141.537 Q1807.66 137.787 1812.36 137.787 Q1815.23 137.787 1817.26 138.921 Q1819.32 140.032 1820.67 142.347 M1806.15 151.398 Q1806.15 156.097 1808.07 158.782 Q1810.02 161.444 1813.4 161.444 Q1816.78 161.444 1818.72 158.782 Q1820.67 156.097 1820.67 151.398 Q1820.67 146.699 1818.72 144.037 Q1816.78 141.352 1813.4 141.352 Q1810.02 141.352 1808.07 144.037 Q1806.15 146.699 1806.15 151.398 Z\" fill=\"#000000\" fill-rule=\"evenodd\" fill-opacity=\"1\" /><path clip-path=\"url(#clip700)\" d=\"M1855.25 148.689 L1855.25 164.338 L1850.99 164.338 L1850.99 148.828 Q1850.99 145.148 1849.56 143.319 Q1848.12 141.49 1845.25 141.49 Q1841.8 141.49 1839.81 143.69 Q1837.82 145.889 1837.82 149.685 L1837.82 164.338 L1833.54 164.338 L1833.54 138.412 L1837.82 138.412 L1837.82 142.44 Q1839.35 140.102 1841.41 138.944 Q1843.49 137.787 1846.2 137.787 Q1850.67 137.787 1852.96 140.565 Q1855.25 143.319 1855.25 148.689 Z\" fill=\"#000000\" fill-rule=\"evenodd\" fill-opacity=\"1\" /><path clip-path=\"url(#clip700)\" d=\"M1885.92 150.31 L1885.92 152.393 L1866.34 152.393 Q1866.62 156.791 1868.98 159.106 Q1871.36 161.398 1875.6 161.398 Q1878.05 161.398 1880.34 160.796 Q1882.66 160.194 1884.93 158.99 L1884.93 163.018 Q1882.63 163.99 1880.23 164.5 Q1877.82 165.009 1875.34 165.009 Q1869.14 165.009 1865.5 161.398 Q1861.89 157.787 1861.89 151.629 Q1861.89 145.264 1865.32 141.537 Q1868.77 137.787 1874.6 137.787 Q1879.83 137.787 1882.87 141.166 Q1885.92 144.523 1885.92 150.31 M1881.66 149.06 Q1881.62 145.565 1879.69 143.481 Q1877.8 141.398 1874.65 141.398 Q1871.08 141.398 1868.93 143.412 Q1866.8 145.426 1866.48 149.083 L1881.66 149.06 Z\" fill=\"#000000\" fill-rule=\"evenodd\" fill-opacity=\"1\" /><path clip-path=\"url(#clip700)\" d=\"M1909.44 139.176 L1909.44 143.203 Q1907.63 142.277 1905.69 141.815 Q1903.75 141.352 1901.66 141.352 Q1898.49 141.352 1896.89 142.324 Q1895.32 143.296 1895.32 145.24 Q1895.32 146.722 1896.45 147.578 Q1897.59 148.412 1901.01 149.176 L1902.47 149.5 Q1907.01 150.472 1908.91 152.254 Q1910.83 154.014 1910.83 157.185 Q1910.83 160.796 1907.96 162.902 Q1905.11 165.009 1900.11 165.009 Q1898.03 165.009 1895.76 164.592 Q1893.51 164.199 1891.01 163.388 L1891.01 158.99 Q1893.37 160.217 1895.67 160.842 Q1897.96 161.444 1900.2 161.444 Q1903.21 161.444 1904.83 160.426 Q1906.45 159.384 1906.45 157.509 Q1906.45 155.773 1905.27 154.847 Q1904.12 153.921 1900.16 153.064 L1898.68 152.717 Q1894.72 151.884 1892.96 150.171 Q1891.2 148.435 1891.2 145.426 Q1891.2 141.768 1893.79 139.778 Q1896.38 137.787 1901.15 137.787 Q1903.51 137.787 1905.6 138.134 Q1907.68 138.481 1909.44 139.176 Z\" fill=\"#000000\" fill-rule=\"evenodd\" fill-opacity=\"1\" /><path clip-path=\"url(#clip700)\" d=\"M1934.14 139.176 L1934.14 143.203 Q1932.33 142.277 1930.39 141.815 Q1928.44 141.352 1926.36 141.352 Q1923.19 141.352 1921.59 142.324 Q1920.02 143.296 1920.02 145.24 Q1920.02 146.722 1921.15 147.578 Q1922.29 148.412 1925.71 149.176 L1927.17 149.5 Q1931.71 150.472 1933.61 152.254 Q1935.53 154.014 1935.53 157.185 Q1935.53 160.796 1932.66 162.902 Q1929.81 165.009 1924.81 165.009 Q1922.73 165.009 1920.46 164.592 Q1918.21 164.199 1915.71 163.388 L1915.71 158.99 Q1918.07 160.217 1920.37 160.842 Q1922.66 161.444 1924.9 161.444 Q1927.91 161.444 1929.53 160.426 Q1931.15 159.384 1931.15 157.509 Q1931.15 155.773 1929.97 154.847 Q1928.81 153.921 1924.86 153.064 L1923.37 152.717 Q1919.42 151.884 1917.66 150.171 Q1915.9 148.435 1915.9 145.426 Q1915.9 141.768 1918.49 139.778 Q1921.08 137.787 1925.85 137.787 Q1928.21 137.787 1930.3 138.134 Q1932.38 138.481 1934.14 139.176 Z\" fill=\"#000000\" fill-rule=\"evenodd\" fill-opacity=\"1\" /><path clip-path=\"url(#clip700)\" d=\"M1957.38 138.412 L1961.64 138.412 L1961.64 164.338 L1957.38 164.338 L1957.38 138.412 M1957.38 128.319 L1961.64 128.319 L1961.64 133.713 L1957.38 133.713 L1957.38 128.319 Z\" fill=\"#000000\" fill-rule=\"evenodd\" fill-opacity=\"1\" /><path clip-path=\"url(#clip700)\" d=\"M1992.1 148.689 L1992.1 164.338 L1987.84 164.338 L1987.84 148.828 Q1987.84 145.148 1986.41 143.319 Q1984.97 141.49 1982.1 141.49 Q1978.65 141.49 1976.66 143.69 Q1974.67 145.889 1974.67 149.685 L1974.67 164.338 L1970.39 164.338 L1970.39 138.412 L1974.67 138.412 L1974.67 142.44 Q1976.2 140.102 1978.26 138.944 Q1980.34 137.787 1983.05 137.787 Q1987.52 137.787 1989.81 140.565 Q1992.1 143.319 1992.1 148.689 Z\" fill=\"#000000\" fill-rule=\"evenodd\" fill-opacity=\"1\" /><path clip-path=\"url(#clip700)\" d=\"M2019.88 131.051 L2019.88 138.412 L2028.65 138.412 L2028.65 141.722 L2019.88 141.722 L2019.88 155.796 Q2019.88 158.967 2020.74 159.87 Q2021.62 160.773 2024.28 160.773 L2028.65 160.773 L2028.65 164.338 L2024.28 164.338 Q2019.35 164.338 2017.47 162.509 Q2015.6 160.657 2015.6 155.796 L2015.6 141.722 L2012.47 141.722 L2012.47 138.412 L2015.6 138.412 L2015.6 131.051 L2019.88 131.051 Z\" fill=\"#000000\" fill-rule=\"evenodd\" fill-opacity=\"1\" /><path clip-path=\"url(#clip700)\" d=\"M2055.8 148.689 L2055.8 164.338 L2051.55 164.338 L2051.55 148.828 Q2051.55 145.148 2050.11 143.319 Q2048.68 141.49 2045.8 141.49 Q2042.36 141.49 2040.36 143.69 Q2038.37 145.889 2038.37 149.685 L2038.37 164.338 L2034.09 164.338 L2034.09 128.319 L2038.37 128.319 L2038.37 142.44 Q2039.9 140.102 2041.96 138.944 Q2044.05 137.787 2046.75 137.787 Q2051.22 137.787 2053.51 140.565 Q2055.8 143.319 2055.8 148.689 Z\" fill=\"#000000\" fill-rule=\"evenodd\" fill-opacity=\"1\" /><path clip-path=\"url(#clip700)\" d=\"M2086.48 150.31 L2086.48 152.393 L2066.89 152.393 Q2067.17 156.791 2069.53 159.106 Q2071.92 161.398 2076.15 161.398 Q2078.61 161.398 2080.9 160.796 Q2083.21 160.194 2085.48 158.99 L2085.48 163.018 Q2083.19 163.99 2080.78 164.5 Q2078.37 165.009 2075.9 165.009 Q2069.69 165.009 2066.06 161.398 Q2062.45 157.787 2062.45 151.629 Q2062.45 145.264 2065.87 141.537 Q2069.32 137.787 2075.16 137.787 Q2080.39 137.787 2083.42 141.166 Q2086.48 144.523 2086.48 150.31 M2082.22 149.06 Q2082.17 145.565 2080.25 143.481 Q2078.35 141.398 2075.2 141.398 Q2071.64 141.398 2069.49 143.412 Q2067.36 145.426 2067.03 149.083 L2082.22 149.06 Z\" fill=\"#000000\" fill-rule=\"evenodd\" fill-opacity=\"1\" /><path clip-path=\"url(#clip700)\" d=\"M2120.32 151.305 Q2115.16 151.305 2113.17 152.486 Q2111.17 153.666 2111.17 156.514 Q2111.17 158.782 2112.66 160.125 Q2114.16 161.444 2116.73 161.444 Q2120.27 161.444 2122.4 158.944 Q2124.55 156.421 2124.55 152.254 L2124.55 151.305 L2120.32 151.305 M2128.81 149.546 L2128.81 164.338 L2124.55 164.338 L2124.55 160.402 Q2123.1 162.763 2120.92 163.898 Q2118.74 165.009 2115.6 165.009 Q2111.61 165.009 2109.25 162.787 Q2106.92 160.541 2106.92 156.791 Q2106.92 152.416 2109.83 150.194 Q2112.77 147.972 2118.58 147.972 L2124.55 147.972 L2124.55 147.555 Q2124.55 144.615 2122.61 143.018 Q2120.69 141.398 2117.19 141.398 Q2114.97 141.398 2112.86 141.93 Q2110.76 142.463 2108.81 143.527 L2108.81 139.592 Q2111.15 138.69 2113.35 138.25 Q2115.55 137.787 2117.63 137.787 Q2123.26 137.787 2126.04 140.703 Q2128.81 143.62 2128.81 149.546 Z\" fill=\"#000000\" fill-rule=\"evenodd\" fill-opacity=\"1\" /><path clip-path=\"url(#clip700)\" d=\"M2141.71 160.449 L2141.71 174.199 L2137.42 174.199 L2137.42 138.412 L2141.71 138.412 L2141.71 142.347 Q2143.05 140.032 2145.09 138.921 Q2147.15 137.787 2149.99 137.787 Q2154.72 137.787 2157.66 141.537 Q2160.62 145.287 2160.62 151.398 Q2160.62 157.509 2157.66 161.259 Q2154.72 165.009 2149.99 165.009 Q2147.15 165.009 2145.09 163.898 Q2143.05 162.763 2141.71 160.449 M2156.2 151.398 Q2156.2 146.699 2154.25 144.037 Q2152.33 141.352 2148.95 141.352 Q2145.57 141.352 2143.63 144.037 Q2141.71 146.699 2141.71 151.398 Q2141.71 156.097 2143.63 158.782 Q2145.57 161.444 2148.95 161.444 Q2152.33 161.444 2154.25 158.782 Q2156.2 156.097 2156.2 151.398 Z\" fill=\"#000000\" fill-rule=\"evenodd\" fill-opacity=\"1\" /><path clip-path=\"url(#clip700)\" d=\"M2171.8 160.449 L2171.8 174.199 L2167.52 174.199 L2167.52 138.412 L2171.8 138.412 L2171.8 142.347 Q2173.14 140.032 2175.18 138.921 Q2177.24 137.787 2180.09 137.787 Q2184.81 137.787 2187.75 141.537 Q2190.71 145.287 2190.71 151.398 Q2190.71 157.509 2187.75 161.259 Q2184.81 165.009 2180.09 165.009 Q2177.24 165.009 2175.18 163.898 Q2173.14 162.763 2171.8 160.449 M2186.29 151.398 Q2186.29 146.699 2184.35 144.037 Q2182.42 141.352 2179.04 141.352 Q2175.67 141.352 2173.72 144.037 Q2171.8 146.699 2171.8 151.398 Q2171.8 156.097 2173.72 158.782 Q2175.67 161.444 2179.04 161.444 Q2182.42 161.444 2184.35 158.782 Q2186.29 156.097 2186.29 151.398 Z\" fill=\"#000000\" fill-rule=\"evenodd\" fill-opacity=\"1\" /><path clip-path=\"url(#clip700)\" d=\"M2197.77 128.319 L2202.03 128.319 L2202.03 164.338 L2197.77 164.338 L2197.77 128.319 Z\" fill=\"#000000\" fill-rule=\"evenodd\" fill-opacity=\"1\" /><path clip-path=\"url(#clip700)\" d=\"M2233.12 150.31 L2233.12 152.393 L2213.54 152.393 Q2213.81 156.791 2216.17 159.106 Q2218.56 161.398 2222.79 161.398 Q2225.25 161.398 2227.54 160.796 Q2229.85 160.194 2232.12 158.99 L2232.12 163.018 Q2229.83 163.99 2227.42 164.5 Q2225.02 165.009 2222.54 165.009 Q2216.34 165.009 2212.7 161.398 Q2209.09 157.787 2209.09 151.629 Q2209.09 145.264 2212.52 141.537 Q2215.97 137.787 2221.8 137.787 Q2227.03 137.787 2230.06 141.166 Q2233.12 144.523 2233.12 150.31 M2228.86 149.06 Q2228.81 145.565 2226.89 143.481 Q2224.99 141.398 2221.85 141.398 Q2218.28 141.398 2216.13 143.412 Q2214 145.426 2213.67 149.083 L2228.86 149.06 Z\" fill=\"#000000\" fill-rule=\"evenodd\" fill-opacity=\"1\" /></svg>\n"
      ]
     },
     "execution_count": 25,
     "metadata": {},
     "output_type": "execute_result"
    }
   ],
   "source": [
    "histogram(redpartofapple[:],color=:red,label=\"redness in the apple\")"
   ]
  },
  {
   "cell_type": "markdown",
   "metadata": {},
   "source": [
    "Note that we get a 2D array (matrix) back."
   ]
  },
  {
   "cell_type": "markdown",
   "metadata": {},
   "source": [
    "Julia's [mathematical standard library](https://docs.julialang.org/en/v1/base/math/#Mathematics) has many mathematical functions built in. One of them is the `mean` function, which computes the average value. If we apply this to our apple:"
   ]
  },
  {
   "cell_type": "code",
   "execution_count": 26,
   "metadata": {},
   "outputs": [
    {
     "data": {
      "text/plain": [
       "0.5701670588235295"
      ]
     },
     "execution_count": 26,
     "metadata": {},
     "output_type": "execute_result"
    }
   ],
   "source": [
    "mean(Float64.(red.(apple)))"
   ]
  },
  {
   "cell_type": "markdown",
   "metadata": {},
   "source": [
    "we see that the value indicates that the average amount of red in the image is a value between the amount of red in the apple and the amount of red in the white background.\n",
    "\n",
    "*Somehow we need to teach a computer to use this information about a picture to recognize that there's an apple there!*"
   ]
  },
  {
   "cell_type": "markdown",
   "metadata": {},
   "source": [
    "## A quick riddle\n",
    "\n",
    "Here's a quick riddle. Let's check the average value of red in the image of the banana."
   ]
  },
  {
   "cell_type": "code",
   "execution_count": 27,
   "metadata": {},
   "outputs": [
    {
     "data": {
      "text/plain": [
       "0.904001568627451"
      ]
     },
     "execution_count": 27,
     "metadata": {},
     "output_type": "execute_result"
    }
   ],
   "source": [
    "mean(Float64.(red.(banana)))"
   ]
  },
  {
   "cell_type": "markdown",
   "metadata": {},
   "source": [
    "Oh no, that's more red than our apple? This isn't a mistake and is actually true! Before you move onto the next exercise, examine the images of the apple and the banana very carefully and see if you can explain why this is expected."
   ]
  },
  {
   "cell_type": "markdown",
   "metadata": {},
   "source": [
    "#### Exercise 1\n",
    "\n",
    "What is the average value of blue in the banana?\n",
    "\n",
    "(To open a new box use <ESC>+b (b is for \"below\", what do you think a does?))"
   ]
  },
  {
   "cell_type": "markdown",
   "metadata": {},
   "source": [
    "#### Solution\n",
    "\n",
    "We can calculate the average value of blue in the banana via"
   ]
  },
  {
   "cell_type": "code",
   "execution_count": 28,
   "metadata": {},
   "outputs": [
    {
     "data": {
      "text/plain": [
       "0.8001596078431373"
      ]
     },
     "execution_count": 28,
     "metadata": {},
     "output_type": "execute_result"
    }
   ],
   "source": [
    "mean(Float64.(blue.(banana)))"
   ]
  },
  {
   "cell_type": "markdown",
   "metadata": {},
   "source": [
    "The result is approximately `0.8`."
   ]
  },
  {
   "cell_type": "markdown",
   "metadata": {},
   "source": [
    "#### Exercise 2\n",
    "\n",
    "Does the banana have more blue or more green?"
   ]
  },
  {
   "cell_type": "markdown",
   "metadata": {},
   "source": [
    "#### Solution\n",
    "\n",
    "The average value of green in the banana is"
   ]
  },
  {
   "cell_type": "code",
   "execution_count": 29,
   "metadata": {},
   "outputs": [
    {
     "data": {
      "text/plain": [
       "0.8807972549019609"
      ]
     },
     "execution_count": 29,
     "metadata": {},
     "output_type": "execute_result"
    }
   ],
   "source": [
    "mean(Float64.(green.(banana)))"
   ]
  },
  {
   "cell_type": "markdown",
   "metadata": {},
   "source": [
    "which gives approximately `0.88`. The banana has more green on average."
   ]
  },
  {
   "cell_type": "markdown",
   "metadata": {},
   "source": [
    "# Modeling data 1\n",
    "\n",
    "Machine learning and data science is about modeling data. **Modeling** is the representation of an idea with some parameters and  a mathematical representation which we will encode in software. All machine learning methods are about training a computer to fit a model to some data. Even the fanciest neural networks are simply choices for models. In this notebook, we will begin to start building our first computational model of data."
   ]
  },
  {
   "cell_type": "markdown",
   "metadata": {},
   "source": [
    "## Modeling data is hard!\n",
    "\n",
    "Let's pick up where we left off in notebook 1 with fruit. We were left with a riddle: when we load images of apples and bananas,"
   ]
  },
  {
   "cell_type": "code",
   "execution_count": 30,
   "metadata": {},
   "outputs": [
    {
     "data": {
      "image/png": "[encoded data removed]",
      "text/plain": [
       "100×100 Array{RGB{N0f8},2} with eltype RGB{N0f8}:\n",
       " RGB{N0f8}(0.996,1.0,0.984)    …  RGB{N0f8}(1.0,1.0,1.0)\n",
       " RGB{N0f8}(0.984,1.0,0.988)       RGB{N0f8}(1.0,1.0,1.0)\n",
       " RGB{N0f8}(0.98,1.0,0.996)        RGB{N0f8}(1.0,1.0,1.0)\n",
       " RGB{N0f8}(0.969,1.0,0.992)       RGB{N0f8}(1.0,1.0,1.0)\n",
       " RGB{N0f8}(0.969,1.0,1.0)         RGB{N0f8}(1.0,1.0,1.0)\n",
       " RGB{N0f8}(0.98,1.0,1.0)       …  RGB{N0f8}(1.0,1.0,1.0)\n",
       " RGB{N0f8}(0.992,0.996,1.0)       RGB{N0f8}(1.0,1.0,1.0)\n",
       " RGB{N0f8}(1.0,0.992,1.0)         RGB{N0f8}(1.0,1.0,1.0)\n",
       " RGB{N0f8}(1.0,0.984,1.0)         RGB{N0f8}(1.0,1.0,1.0)\n",
       " RGB{N0f8}(1.0,0.984,1.0)         RGB{N0f8}(1.0,1.0,1.0)\n",
       " RGB{N0f8}(1.0,0.992,1.0)      …  RGB{N0f8}(1.0,1.0,1.0)\n",
       " RGB{N0f8}(1.0,0.996,1.0)         RGB{N0f8}(1.0,1.0,1.0)\n",
       " RGB{N0f8}(1.0,1.0,1.0)           RGB{N0f8}(1.0,1.0,1.0)\n",
       " ⋮                             ⋱  \n",
       " RGB{N0f8}(0.992,1.0,0.988)       RGB{N0f8}(1.0,1.0,1.0)\n",
       " RGB{N0f8}(0.992,1.0,0.988)       RGB{N0f8}(1.0,1.0,1.0)\n",
       " RGB{N0f8}(0.992,1.0,0.996)    …  RGB{N0f8}(1.0,1.0,1.0)\n",
       " RGB{N0f8}(0.996,1.0,1.0)         RGB{N0f8}(1.0,1.0,1.0)\n",
       " RGB{N0f8}(0.996,0.996,0.996)     RGB{N0f8}(1.0,1.0,1.0)\n",
       " RGB{N0f8}(1.0,0.992,0.996)       RGB{N0f8}(1.0,1.0,1.0)\n",
       " RGB{N0f8}(1.0,0.992,0.996)       RGB{N0f8}(1.0,1.0,1.0)\n",
       " RGB{N0f8}(1.0,0.992,0.996)    …  RGB{N0f8}(1.0,1.0,1.0)\n",
       " RGB{N0f8}(1.0,0.996,1.0)         RGB{N0f8}(1.0,1.0,1.0)\n",
       " RGB{N0f8}(1.0,1.0,1.0)           RGB{N0f8}(1.0,1.0,1.0)\n",
       " RGB{N0f8}(1.0,1.0,1.0)           RGB{N0f8}(1.0,1.0,1.0)\n",
       " RGB{N0f8}(1.0,1.0,1.0)           RGB{N0f8}(1.0,1.0,1.0)"
      ]
     },
     "execution_count": 30,
     "metadata": {},
     "output_type": "execute_result"
    }
   ],
   "source": [
    "# using Pkg; Pkg.add(\"Images\")\n",
    "using Images, Statistics\n",
    "\n",
    "apple = load(\"data/10_100.jpg\")"
   ]
  },
  {
   "cell_type": "code",
   "execution_count": 31,
   "metadata": {},
   "outputs": [
    {
     "data": {
      "image/png": "[encoded data removed]",
      "text/plain": [
       "100×100 Array{RGB{N0f8},2} with eltype RGB{N0f8}:\n",
       " RGB{N0f8}(1.0,1.0,1.0)  RGB{N0f8}(1.0,1.0,1.0)  …  RGB{N0f8}(1.0,1.0,1.0)\n",
       " RGB{N0f8}(1.0,1.0,1.0)  RGB{N0f8}(1.0,1.0,1.0)     RGB{N0f8}(1.0,1.0,1.0)\n",
       " RGB{N0f8}(1.0,1.0,1.0)  RGB{N0f8}(1.0,1.0,1.0)     RGB{N0f8}(1.0,1.0,1.0)\n",
       " RGB{N0f8}(1.0,1.0,1.0)  RGB{N0f8}(1.0,1.0,1.0)     RGB{N0f8}(1.0,1.0,1.0)\n",
       " RGB{N0f8}(1.0,1.0,1.0)  RGB{N0f8}(1.0,1.0,1.0)     RGB{N0f8}(1.0,1.0,1.0)\n",
       " RGB{N0f8}(1.0,1.0,1.0)  RGB{N0f8}(1.0,1.0,1.0)  …  RGB{N0f8}(1.0,1.0,1.0)\n",
       " RGB{N0f8}(1.0,1.0,1.0)  RGB{N0f8}(1.0,1.0,1.0)     RGB{N0f8}(1.0,1.0,1.0)\n",
       " RGB{N0f8}(1.0,1.0,1.0)  RGB{N0f8}(1.0,1.0,1.0)     RGB{N0f8}(1.0,1.0,1.0)\n",
       " RGB{N0f8}(1.0,1.0,1.0)  RGB{N0f8}(1.0,1.0,1.0)     RGB{N0f8}(1.0,1.0,1.0)\n",
       " RGB{N0f8}(1.0,1.0,1.0)  RGB{N0f8}(1.0,1.0,1.0)     RGB{N0f8}(1.0,1.0,1.0)\n",
       " RGB{N0f8}(1.0,1.0,1.0)  RGB{N0f8}(1.0,1.0,1.0)  …  RGB{N0f8}(1.0,1.0,1.0)\n",
       " RGB{N0f8}(1.0,1.0,1.0)  RGB{N0f8}(1.0,1.0,1.0)     RGB{N0f8}(1.0,1.0,1.0)\n",
       " RGB{N0f8}(1.0,1.0,1.0)  RGB{N0f8}(1.0,1.0,1.0)     RGB{N0f8}(1.0,1.0,1.0)\n",
       " ⋮                                               ⋱  \n",
       " RGB{N0f8}(1.0,1.0,1.0)  RGB{N0f8}(1.0,1.0,1.0)     RGB{N0f8}(1.0,1.0,1.0)\n",
       " RGB{N0f8}(1.0,1.0,1.0)  RGB{N0f8}(1.0,1.0,1.0)     RGB{N0f8}(1.0,1.0,1.0)\n",
       " RGB{N0f8}(1.0,1.0,1.0)  RGB{N0f8}(1.0,1.0,1.0)  …  RGB{N0f8}(1.0,1.0,1.0)\n",
       " RGB{N0f8}(1.0,1.0,1.0)  RGB{N0f8}(1.0,1.0,1.0)     RGB{N0f8}(1.0,1.0,1.0)\n",
       " RGB{N0f8}(1.0,1.0,1.0)  RGB{N0f8}(1.0,1.0,1.0)     RGB{N0f8}(1.0,1.0,1.0)\n",
       " RGB{N0f8}(1.0,1.0,1.0)  RGB{N0f8}(1.0,1.0,1.0)     RGB{N0f8}(1.0,1.0,1.0)\n",
       " RGB{N0f8}(1.0,1.0,1.0)  RGB{N0f8}(1.0,1.0,1.0)     RGB{N0f8}(1.0,1.0,1.0)\n",
       " RGB{N0f8}(1.0,1.0,1.0)  RGB{N0f8}(1.0,1.0,1.0)  …  RGB{N0f8}(1.0,1.0,1.0)\n",
       " RGB{N0f8}(1.0,1.0,1.0)  RGB{N0f8}(1.0,1.0,1.0)     RGB{N0f8}(1.0,1.0,1.0)\n",
       " RGB{N0f8}(1.0,1.0,1.0)  RGB{N0f8}(1.0,1.0,1.0)     RGB{N0f8}(1.0,1.0,1.0)\n",
       " RGB{N0f8}(1.0,1.0,1.0)  RGB{N0f8}(1.0,1.0,1.0)     RGB{N0f8}(1.0,1.0,1.0)\n",
       " RGB{N0f8}(1.0,1.0,1.0)  RGB{N0f8}(1.0,1.0,1.0)     RGB{N0f8}(1.0,1.0,1.0)"
      ]
     },
     "execution_count": 31,
     "metadata": {},
     "output_type": "execute_result"
    }
   ],
   "source": [
    "banana = load(\"data/104_100.jpg\")"
   ]
  },
  {
   "cell_type": "markdown",
   "metadata": {},
   "source": [
    "and then compare their average value for the color red, we end up with something that is perhaps surprising:"
   ]
  },
  {
   "cell_type": "code",
   "execution_count": 32,
   "metadata": {},
   "outputs": [
    {
     "data": {
      "text/plain": [
       "\"The average value of red in the apple is 0.5701670588235295, while the average value of red in the banana is 0.904001568627451.\""
      ]
     },
     "execution_count": 32,
     "metadata": {},
     "output_type": "execute_result"
    }
   ],
   "source": [
    "apple_red_amount = mean(Float64.(red.(apple)))\n",
    "banana_red_amount = mean(Float64.(red.(banana)));\n",
    "\n",
    "\"The average value of red in the apple is $apple_red_amount, \" *\n",
    "\"while the average value of red in the banana is $banana_red_amount.\""
   ]
  },
  {
   "cell_type": "markdown",
   "metadata": {},
   "source": [
    "We see that the banana's mean red value is higher than the apple's, even though the apple looks much redder. Can you guess why?\n",
    "\n",
    "There are actually two reasons. One of the reasons is the background: the image of the banana has a lot more white background than the apple, and that white background has a red value of 1! In our minds we ignore the background and say \"the banana is bright yellow, the apple is dark red\", but a computer just has a bundle of numbers and does not know where it should be looking.\n",
    "\n",
    "The other issue is that \"bright yellow\" isn't a color that exists in a computer. The computer has three colors: red, green, and blue. \"Bright yellow\" in a computer is a mixture of red and green, and it just so happens that to get this color yellow, it needs more red than the apple!"
   ]
  },
  {
   "cell_type": "code",
   "execution_count": 33,
   "metadata": {},
   "outputs": [
    {
     "data": {
      "text/plain": [
       "\"The amount of red in the apple at (60, 60) is 0.4470588235294118, while the amount of red in the banana at (60, 60) is 0.6666666666666666.\""
      ]
     },
     "execution_count": 33,
     "metadata": {},
     "output_type": "execute_result"
    }
   ],
   "source": [
    "\"The amount of red in the apple at (60, 60) is $(Float64(red(apple[60, 60]))), \" *\n",
    "\"while the amount of red in the banana at (60, 60) is $(Float64(red(banana[60, 60]))).\""
   ]
  },
  {
   "cell_type": "code",
   "execution_count": 34,
   "metadata": {},
   "outputs": [
    {
     "data": {
      "image/svg+xml": [
       "<?xml version=\"1.0\" encoding=\"UTF-8\"?>\n",
       "<!DOCTYPE svg PUBLIC \"-//W3C//DTD SVG 1.1//EN\"\n",
       " \"http://www.w3.org/Graphics/SVG/1.1/DTD/svg11.dtd\">\n",
       "<svg xmlns=\"http://www.w3.org/2000/svg\" version=\"1.1\"\n",
       "     width=\"25mm\" height=\"25mm\" viewBox=\"0 0 1 1\">\n",
       "    <rect width=\"1\" height=\"1\" fill=\"#720D05\" stroke=\"none\"/>\n",
       "</svg>\n"
      ],
      "text/plain": [
       "RGB{N0f8}(0.447,0.051,0.02)"
      ]
     },
     "execution_count": 34,
     "metadata": {},
     "output_type": "execute_result"
    }
   ],
   "source": [
    "apple[60,60]"
   ]
  },
  {
   "cell_type": "code",
   "execution_count": 35,
   "metadata": {},
   "outputs": [
    {
     "data": {
      "image/svg+xml": [
       "<?xml version=\"1.0\" encoding=\"UTF-8\"?>\n",
       "<!DOCTYPE svg PUBLIC \"-//W3C//DTD SVG 1.1//EN\"\n",
       " \"http://www.w3.org/Graphics/SVG/1.1/DTD/svg11.dtd\">\n",
       "<svg xmlns=\"http://www.w3.org/2000/svg\" version=\"1.1\"\n",
       "     width=\"25mm\" height=\"25mm\" viewBox=\"0 0 1 1\">\n",
       "    <rect width=\"1\" height=\"1\" fill=\"#AA961B\" stroke=\"none\"/>\n",
       "</svg>\n"
      ],
      "text/plain": [
       "RGB{N0f8}(0.667,0.588,0.106)"
      ]
     },
     "execution_count": 35,
     "metadata": {},
     "output_type": "execute_result"
    }
   ],
   "source": [
    "banana[60,60]"
   ]
  },
  {
   "cell_type": "markdown",
   "metadata": {},
   "source": [
    "This is a clear example that modeling data is hard!"
   ]
  },
  {
   "cell_type": "markdown",
   "metadata": {},
   "source": [
    "### A note on string interpolation\n",
    "\n",
    "In the last two input cells, we *interpolated a string*. This means that when we write the string using quotation marks (`\"  \"`), we insert a placeholder for some **value** we want the string to include. When the string is evaluated, the value we want the string to include replaces the placeholder. For example, in the following string,\n",
    "\n",
    "```julia\n",
    "mystring = \"The average value of red in the apple is $apple_red_amount\"\n",
    "```\n",
    "\n",
    "`$apple_red_amount` is a placeholder for the value stored in the variable `apple_red_amount`. Julia knows that we want to use the value bound to the variable `apple_red_amount` and *not* the word \"apple_red_amount\" because of the dollar sign, `$`, that comes before `apple_red_amount`."
   ]
  },
  {
   "cell_type": "markdown",
   "metadata": {},
   "source": [
    "#### Exercise 1\n",
    "\n",
    "Execute the following code to see what the dollar sign does:\n",
    "\n",
    "```julia\n",
    "mypi = 3.14159\n",
    "println(\"I have a variable called mypi that has a value of $mypi.\")\n",
    "```"
   ]
  },
  {
   "cell_type": "markdown",
   "metadata": {},
   "source": [
    "#### Solution"
   ]
  },
  {
   "cell_type": "code",
   "execution_count": 36,
   "metadata": {},
   "outputs": [
    {
     "name": "stdout",
     "output_type": "stream",
     "text": [
      "I have a variable called mypi that has a value of 3.14159.\n"
     ]
    }
   ],
   "source": [
    "mypi = 3.14159\n",
    "println(\"I have a variable called mypi that has a value of $mypi.\")"
   ]
  },
  {
   "cell_type": "markdown",
   "metadata": {},
   "source": [
    "#### Exercise 2\n",
    "\n",
    "Alter and execute the code that creates `mystring` below\n",
    "\n",
    "```julia\n",
    "apple_blue_amount = mean(Float64.(blue.(apple)))\n",
    "mystring = \"The average amount of blue in the apple is apple_blue_amount\"\n",
    "```\n",
    "\n",
    "so that `println(mystring)` prints a string that reports the mean value of blue coloration in our image of an apple."
   ]
  },
  {
   "cell_type": "markdown",
   "metadata": {},
   "source": [
    "#### Solution"
   ]
  },
  {
   "cell_type": "markdown",
   "metadata": {},
   "source": [
    "Add a `$` in front of `apple_blue_amount`:"
   ]
  },
  {
   "cell_type": "code",
   "execution_count": 37,
   "metadata": {},
   "outputs": [
    {
     "data": {
      "text/plain": [
       "\"The average amount of blue in the apple is 0.32250000000000006.\""
      ]
     },
     "execution_count": 37,
     "metadata": {},
     "output_type": "execute_result"
    }
   ],
   "source": [
    "apple_blue_amount = mean(Float64.(blue.(apple)))\n",
    "mystring = \"The average amount of blue in the apple is $apple_blue_amount.\""
   ]
  },
  {
   "cell_type": "markdown",
   "metadata": {},
   "source": [
    "## Take some time to think about the data\n",
    "\n",
    "Apples and bananas are very different, but how could we use the array of RGB values (which is how the images are represented in the computer, as we saw in notebook 1) to tell the difference between the two? Here are some quick ideas:\n",
    "\n",
    "- We could use the shape of the object in the image. But how can we encode ideas about shape from an array?\n",
    "- We could use the size of the object in the image. But how do we calculate that size?\n",
    "- We could use another color, or combinations of colors, from the image. Which colors?\n",
    "\n",
    "Let's go with the last route. The banana is yellow, which is a combination of red and green, while the apple is red. This means that the color that clearly differentiates between the two is not red, but green!"
   ]
  },
  {
   "cell_type": "code",
   "execution_count": 38,
   "metadata": {},
   "outputs": [
    {
     "data": {
      "text/plain": [
       "\"The average value of green in the apple is 0.3382027450980393, while the average value of green in the banana is 0.8807972549019609.\""
      ]
     },
     "execution_count": 38,
     "metadata": {},
     "output_type": "execute_result"
    }
   ],
   "source": [
    "apple_green_amount = mean(Float64.(green.(apple)))\n",
    "banana_green_amount = mean(Float64.(green.(banana)));\n",
    "\n",
    "\"The average value of green in the apple is $apple_green_amount, \" *\n",
    "\"while the average value of green in the banana is $banana_green_amount.\""
   ]
  },
  {
   "cell_type": "markdown",
   "metadata": {},
   "source": [
    "The processes that we just went through are assigned fancy names: feature selection and data munging.\n",
    "\n",
    "**Feature selection** is the process of subsetting the data to a more relevant and informative set. We took the full image data and decided to select out the green channel.\n",
    "\n",
    "**Data munging** is transforming the data into a format more suitable for modeling. Here, instead of keeping the full green channel, we transformed it down to a single data point: the average amount of green."
   ]
  },
  {
   "cell_type": "markdown",
   "metadata": {},
   "source": [
    "## Building a model\n",
    "\n",
    "We want to model the connection between \"the average amount of green\" and \"is an apple or banana\".\n",
    "\n",
    "<img src=\"https://raw.githubusercontent.com/JuliaComputing/JuliaAcademyData.jl/master/courses/Foundations%20of%20machine%20learning/data/data_flow.png\" alt=\"Drawing\" style=\"width: 800px;\"/>\n",
    "\n",
    "This model is a mathematical function which takes in our data and spits out a number that we will interpret as \"is an apple\" or \"is a banana\".\n",
    "\n",
    "<img src=\"https://raw.githubusercontent.com/JuliaComputing/JuliaAcademyData.jl/master/courses/Foundations%20of%20machine%20learning/data/what_is_model.png\" alt=\"Drawing\" style=\"width: 500px;\"/>\n",
    "\n",
    "\n",
    "We will interpret the output of the function as \"is an apple\" if the output is close to 0, and \"is a banana\" if it's close to 1. Anything in the middle is something we are unsure about. Here we're using a mathematical function to perform a **classification**.\n",
    "\n",
    "Knowing how to declare and work with functions will allow us to model our data in the coming sections, so this is the subject of the next notebook!"
   ]
  }
 ],
 "metadata": {
  "kernelspec": {
   "display_name": "Julia 1.6.0",
   "language": "julia",
   "name": "julia-1.6"
  },
  "language_info": {
   "file_extension": ".jl",
   "mimetype": "application/julia",
   "name": "julia",
   "version": "1.6.0"
  }
 },
 "nbformat": 4,
 "nbformat_minor": 4
}
